{
 "cells": [
  {
   "attachments": {},
   "cell_type": "markdown",
   "id": "2ffd23fb-5f22-4bcc-9ad4-150e8b887355",
   "metadata": {
    "editable": true,
    "slideshow": {
     "slide_type": ""
    },
    "tags": []
   },
   "source": [
    "<div style=\"text-align: center;  font-size: 2rem; font-family: 'Georgia'\">\n",
    "    Introducción al lenguaje de programación Python <br>\n",
    "    <img src=\"Python.jpg\" alt=\"python\">\n",
    "</div>\n",
    "\n",
    "## ¿Qué es python?\n",
    "\n",
    "Python es un lenguaje de programación creado por **Guido van Rossum** a principios de los años 90 cuyo nombre está inspirado en el grupo de cómicos ingleses “Monty Python”. \\\n",
    "Rossum eligió C como el lenguaje para implementar la primera versión de Python debido a su portabilidad y su capacidad para interactuar directamente con el sistema operativo y otros lenguajes de bajo nivel. \\\n",
    "Es un lenguaje con una **sintaxis muy limpia** y que favorece un código legible. "
   ]
  },
  {
   "cell_type": "code",
   "execution_count": null,
   "id": "809d06a2-0aa4-4e67-bb91-7866a0815540",
   "metadata": {},
   "outputs": [],
   "source": []
  }
 ],
 "metadata": {
  "kernelspec": {
   "display_name": "Python 3 (ipykernel)",
   "language": "python",
   "name": "python3"
  },
  "language_info": {
   "codemirror_mode": {
    "name": "ipython",
    "version": 3
   },
   "file_extension": ".py",
   "mimetype": "text/x-python",
   "name": "python",
   "nbconvert_exporter": "python",
   "pygments_lexer": "ipython3",
   "version": "3.11.4"
  },
  "toc": {
   "base_numbering": 0
  }
 },
 "nbformat": 4,
 "nbformat_minor": 5
}
