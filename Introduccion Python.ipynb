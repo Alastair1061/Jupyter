{
  "cells": [
    {
      "cell_type": "markdown",
      "metadata": {
        "id": "2ffd23fb-5f22-4bcc-9ad4-150e8b887355"
      },
      "source": [
        "# Introducción al lenguaje de programacion *Python*\n"
      ],
      "id": "2ffd23fb-5f22-4bcc-9ad4-150e8b887355"
    },
    {
      "cell_type": "markdown",
      "metadata": {
        "id": "zcrb7SjEM3wF"
      },
      "source": [
        "##Tipos de datos primitivos"
      ],
      "id": "zcrb7SjEM3wF"
    },
    {
      "cell_type": "code",
      "execution_count": null,
      "metadata": {
        "id": "RSJInRpBM-SA"
      },
      "outputs": [],
      "source": [
        "entero = 1\n",
        "flotante = 2.5\n",
        "cadena = \"hola mundo\"\n",
        "booleano = True\n",
        "\n",
        "print(f\"\"\"\n",
        "entero\n",
        "  Tipo: {type(entero)}\n",
        "  Valor: {entero}\n",
        "\n",
        "flotante\n",
        "  Tipo: {type(flotante)}\n",
        "  Valor: {flotante}\n",
        "\n",
        "cadena\n",
        "  Tipo: {type(cadena)}\n",
        "  Valor: {cadena}\n",
        "\n",
        "booleano\n",
        "  Tipo: {type(booleano)}\n",
        "  Valor: {booleano}\n",
        "\"\"\")"
      ],
      "id": "RSJInRpBM-SA"
    },
    {
      "cell_type": "markdown",
      "metadata": {
        "id": "W1AHzUZQYUUa"
      },
      "source": [
        "## Entrada y salida básica de datos"
      ],
      "id": "W1AHzUZQYUUa"
    },
    {
      "cell_type": "code",
      "execution_count": null,
      "metadata": {
        "id": "vZodfJBQNQjx"
      },
      "outputs": [],
      "source": [
        "nombre = input(\"Ingrese su nombre: \")\n",
        "edad = int( input(\"Ingrese su edad: \") )"
      ],
      "id": "vZodfJBQNQjx"
    },
    {
      "cell_type": "code",
      "execution_count": null,
      "metadata": {
        "id": "pq5JHeIkYaRW"
      },
      "outputs": [],
      "source": [
        "print(\"Hola\", nombre, \"Tienes\", edad, \"años.\")"
      ],
      "id": "pq5JHeIkYaRW"
    },
    {
      "cell_type": "code",
      "execution_count": null,
      "metadata": {
        "id": "F28qESMyYhSc"
      },
      "outputs": [],
      "source": [
        "print(f\"Hola {nombre}. Tienes {edad} años.\")"
      ],
      "id": "F28qESMyYhSc"
    },
    {
      "cell_type": "markdown",
      "metadata": {
        "id": "h33Mx1a8ZeMM"
      },
      "source": [
        "## **Ejercicios** entrada y salida básica de datos"
      ],
      "id": "h33Mx1a8ZeMM"
    },
    {
      "cell_type": "markdown",
      "metadata": {
        "id": "0QW5GwhTZlL5"
      },
      "source": [
        "**Ejercicio 1**: Cálculo del Índice de Masa Corporal (IMC)\n",
        "*  Solicita al usuario que ingrese su peso (en kilogramos) y su altura (en\n",
        "metros).\n",
        "* Calcula el Índice de Masa Corporal (IMC) utilizando la fórmula: IMC = peso / altura^2.\n",
        "* Muestra el resultado del IMC con un mensaje descriptivo, por ejemplo, \"Tu IMC es: 22.3\".\n"
      ],
      "id": "0QW5GwhTZlL5"
    },
    {
      "cell_type": "code",
      "execution_count": null,
      "metadata": {
        "id": "jrM1jKU8Zi59"
      },
      "outputs": [],
      "source": [
        "# Aqui ingresa el código respuesta del ejercicio"
      ],
      "id": "jrM1jKU8Zi59"
    },
    {
      "cell_type": "markdown",
      "metadata": {
        "id": "1d2S_odnaA9J"
      },
      "source": [
        "**Ejercicio 2**: Conversión de Temperatura\n",
        "* Pide al usuario que ingrese una temperatura en grados Celsius.\n",
        "* Convierte la temperatura a grados Fahrenheit utilizando la fórmula: Fahrenheit = Celsius * 9/5 + 32.\n",
        "* Muestra el resultado de la conversión con un mensaje adecuado.\n"
      ],
      "id": "1d2S_odnaA9J"
    },
    {
      "cell_type": "code",
      "execution_count": null,
      "metadata": {
        "id": "MklZhX6AaFUc"
      },
      "outputs": [],
      "source": [
        "# Aqui ingresa el código respuesta del ejercicio"
      ],
      "id": "MklZhX6AaFUc"
    },
    {
      "cell_type": "markdown",
      "metadata": {
        "id": "1emMMN4blWTX"
      },
      "source": [
        "**Ejercicio 3**: Interés Simple\n",
        "* Pide al usuario que ingrese el monto de un préstamo, la tasa de interés anual y el número de años.\n",
        "* Calcula el interés simple utilizando la fórmula: Interés = monto * tasa * años.\n",
        "* Muestra el interés total pagado al final de los años.\n"
      ],
      "id": "1emMMN4blWTX"
    },
    {
      "cell_type": "code",
      "execution_count": null,
      "metadata": {
        "id": "88WVtk9plZvU"
      },
      "outputs": [],
      "source": [
        "# Aqui ingresa el código respuesta del ejercicio"
      ],
      "id": "88WVtk9plZvU"
    },
    {
      "cell_type": "markdown",
      "metadata": {
        "id": "gE81EJ4Xljg5"
      },
      "source": [
        "**Ejercicio 4**: Conversión de Monedas\n",
        "* Pregunta al usuario cuántos dólares tiene.\n",
        "* Convierte esa cantidad de dólares a euros utilizando una tasa de cambio fija (por ejemplo, 1 dólar = 0.85 euros).\n",
        "* Muestra la cantidad de euros obtenidos.\n"
      ],
      "id": "gE81EJ4Xljg5"
    },
    {
      "cell_type": "code",
      "execution_count": null,
      "metadata": {
        "id": "x3aSc7wZlmaA"
      },
      "outputs": [],
      "source": [
        "# Aqui ingresa el código respuesta del ejercicio"
      ],
      "id": "x3aSc7wZlmaA"
    },
    {
      "cell_type": "markdown",
      "metadata": {
        "id": "7zkMNjRcluV7"
      },
      "source": [
        "**Ejercicio 5**: Conversión de Días a Años y días\n",
        "* Pide al usuario que ingrese un número de días.\n",
        "* Convierte el número de días ingresado a años y días.\n",
        "* Muestra el resultado al usuario.\n"
      ],
      "id": "7zkMNjRcluV7"
    },
    {
      "cell_type": "code",
      "execution_count": null,
      "metadata": {
        "id": "tjh-D7tulx3o"
      },
      "outputs": [],
      "source": [
        "# Aqui ingresa el código respuesta del ejercicio"
      ],
      "id": "tjh-D7tulx3o"
    },
    {
      "cell_type": "markdown",
      "metadata": {
        "id": "qhHa7HkImRmv"
      },
      "source": [
        "**Ejercicio 6**: Cálculo de Edad\n",
        "* Pide al usuario que ingrese su año de nacimiento.\n",
        "* Calcula y muestra la edad aproximada del usuario.\n"
      ],
      "id": "qhHa7HkImRmv"
    },
    {
      "cell_type": "code",
      "execution_count": null,
      "metadata": {
        "id": "eu3SDClxmWR5"
      },
      "outputs": [],
      "source": [
        "# Aqui ingresa el código respuesta del ejercicio"
      ],
      "id": "eu3SDClxmWR5"
    },
    {
      "cell_type": "markdown",
      "metadata": {
        "id": "5J7UdsB4nBkj"
      },
      "source": [
        "**Ejercicio especial 7**: Historia Loca\n",
        "* Pide al usuario que ingrese diferentes palabras (sustantivos, verbos, adjetivos, etc.).\n",
        "* Utiliza esas palabras para crear una historia loca y entretenida.\n",
        "* Muestra la historia completa con las palabras del usuario integradas en ella.\n"
      ],
      "id": "5J7UdsB4nBkj"
    },
    {
      "cell_type": "code",
      "execution_count": null,
      "metadata": {
        "id": "jSRGufccnERr"
      },
      "outputs": [],
      "source": [
        "# Aqui ingresa el código respuesta del ejercicio"
      ],
      "id": "jSRGufccnERr"
    },
    {
      "cell_type": "markdown",
      "metadata": {
        "id": "p7VdinW0nKL0"
      },
      "source": [
        "**Ejercicio especial 8**: Calculadora de Índice de Felicidad\n",
        "* Crea una encuesta ficticia donde preguntas sobre diferentes aspectos de la vida (amigos, familia, trabajo, etc.).\n",
        "* Pide al usuario que califique cada aspecto con un número del 1 al 10.\n",
        "* Calcula un índice de felicidad basado en las calificaciones y muestra el resultado.\n"
      ],
      "id": "p7VdinW0nKL0"
    },
    {
      "cell_type": "code",
      "execution_count": null,
      "metadata": {
        "id": "5Ip3xhzdnOUa"
      },
      "outputs": [],
      "source": [
        "# Aqui ingresa el código respuesta del ejercicio"
      ],
      "id": "5Ip3xhzdnOUa"
    },
    {
      "cell_type": "markdown",
      "source": [
        "## Estructuras de datos: listas, tuplas y diccionarios"
      ],
      "metadata": {
        "id": "d4g0LGc_F3us"
      },
      "id": "d4g0LGc_F3us"
    },
    {
      "cell_type": "markdown",
      "source": [
        "### Listas"
      ],
      "metadata": {
        "id": "bO-AyAFuGDSw"
      },
      "id": "bO-AyAFuGDSw"
    },
    {
      "cell_type": "code",
      "source": [
        "# Crear una lista de números enteros\n",
        "numeros = [1, 2, 3, 4, 5]\n",
        "\n",
        "# Acceder a un elemento de la lista por índice\n",
        "print(numeros[2])\n",
        "\n",
        "# Modificar un elemento de la lista\n",
        "numeros[1] = 10\n",
        "\n",
        "# Mostrar todos los elementos de la lista\n",
        "print(numeros)"
      ],
      "metadata": {
        "colab": {
          "base_uri": "https://localhost:8080/"
        },
        "id": "JP8P2zHkF7nQ",
        "outputId": "ab5bcb63-ddaa-4a7e-df11-fd757a3491fa"
      },
      "id": "JP8P2zHkF7nQ",
      "execution_count": null,
      "outputs": [
        {
          "output_type": "stream",
          "name": "stdout",
          "text": [
            "3\n",
            "[1, 10, 3, 4, 5]\n"
          ]
        }
      ]
    },
    {
      "cell_type": "markdown",
      "source": [
        "### Tuplas"
      ],
      "metadata": {
        "id": "iETxSPaDGGNw"
      },
      "id": "iETxSPaDGGNw"
    },
    {
      "cell_type": "code",
      "source": [
        "# Crear una tupla de colores\n",
        "colores = ('rojo', 'verde', 'azul')\n",
        "\n",
        "# Acceder a un elemento de la tupla por índice\n",
        "print(colores[1])\n",
        "\n",
        "# Intentar modificar un elemento de la tupla (esto generará un error)\n",
        "# colores[0] = 'amarillo'\n",
        "\n",
        "# Mostrar todos los elementos de la tupla\n",
        "print(colores)"
      ],
      "metadata": {
        "colab": {
          "base_uri": "https://localhost:8080/"
        },
        "id": "FovwN4wkGHTS",
        "outputId": "71aaee18-96aa-4a8f-f73b-f079c2757f21"
      },
      "id": "FovwN4wkGHTS",
      "execution_count": null,
      "outputs": [
        {
          "output_type": "stream",
          "name": "stdout",
          "text": [
            "verde\n",
            "('rojo', 'verde', 'azul')\n"
          ]
        }
      ]
    },
    {
      "cell_type": "markdown",
      "source": [
        "### Diccionarios"
      ],
      "metadata": {
        "id": "IrcKPGk1GH-v"
      },
      "id": "IrcKPGk1GH-v"
    },
    {
      "cell_type": "code",
      "source": [
        "# Crear un diccionario de información de una persona\n",
        "persona = {\n",
        "    'nombre': 'Ana',\n",
        "    'edad': 30,\n",
        "    'ciudad': 'Madrid'\n",
        "}\n",
        "\n",
        "# Mostrar todos los elementos del diccionario\n",
        "print(persona)\n",
        "\n",
        "# Acceder a un valor por su clave\n",
        "print(persona['nombre'])\n",
        "\n",
        "# Agregar un nuevo par clave-valor al diccionario\n",
        "persona['profesion'] = 'Ingeniera'\n",
        "\n",
        "# Modificar el valor de una clave existente\n",
        "persona['edad'] = 31\n",
        "\n",
        "# Mostrar todos los elementos del diccionario\n",
        "print(persona)"
      ],
      "metadata": {
        "colab": {
          "base_uri": "https://localhost:8080/"
        },
        "id": "b_28yiZIGJa8",
        "outputId": "48b70e13-6ff5-4ccb-b169-657ff281f013"
      },
      "id": "b_28yiZIGJa8",
      "execution_count": null,
      "outputs": [
        {
          "output_type": "stream",
          "name": "stdout",
          "text": [
            "{'nombre': 'Ana', 'edad': 30, 'ciudad': 'Madrid'}\n",
            "Ana\n",
            "{'nombre': 'Ana', 'edad': 31, 'ciudad': 'Madrid', 'profesion': 'Ingeniera'}\n"
          ]
        }
      ]
    },
    {
      "cell_type": "markdown",
      "metadata": {
        "id": "WxsT6KFHnmiZ"
      },
      "source": [
        "## Sentencias condicionales"
      ],
      "id": "WxsT6KFHnmiZ"
    },
    {
      "cell_type": "code",
      "execution_count": null,
      "metadata": {
        "id": "mhtIYBOMo-PF"
      },
      "outputs": [],
      "source": [
        "letra = input(\"Adivina la letra: \")\n",
        "if letra == \"a\":\n",
        "  print(\"Adivinaste\")\n",
        "elif letra == \"A\":\n",
        "  print(\"Casi adivinas\")\n",
        "else:\n",
        "  print(\"No adivinaste\")"
      ],
      "id": "mhtIYBOMo-PF"
    },
    {
      "cell_type": "markdown",
      "metadata": {
        "id": "J_0cSW6yo2za"
      },
      "source": [
        "## **Ejercicios** sentencias condicionales"
      ],
      "id": "J_0cSW6yo2za"
    },
    {
      "cell_type": "markdown",
      "metadata": {
        "id": "C1zlDxwhnuRc"
      },
      "source": [
        "**Ejercicio 1**: Validación de Nota\n",
        "* Pide al usuario que ingrese una nota entre 0 y 10.\n",
        "* Verifica si la nota es válida y muestra un mensaje de aprobación o reprobación.\n"
      ],
      "id": "C1zlDxwhnuRc"
    },
    {
      "cell_type": "code",
      "execution_count": null,
      "metadata": {
        "id": "_0S_YAPToi_9"
      },
      "outputs": [],
      "source": [
        "# Aqui ingresa el código respuesta del ejercicio"
      ],
      "id": "_0S_YAPToi_9"
    },
    {
      "cell_type": "markdown",
      "metadata": {
        "id": "9MnLGF1PoJP0"
      },
      "source": [
        "\n",
        "**Ejercicio 2**: Determinar Número Par o Impar\n",
        "* Pide al usuario que ingrese un número entero.\n",
        "* Muestra un mensaje indicando si el número es par o impar."
      ],
      "id": "9MnLGF1PoJP0"
    },
    {
      "cell_type": "code",
      "execution_count": null,
      "metadata": {
        "id": "95TbrBITnpEc"
      },
      "outputs": [],
      "source": [
        "# Aqui ingresa el código respuesta del ejercicio"
      ],
      "id": "95TbrBITnpEc"
    },
    {
      "cell_type": "markdown",
      "metadata": {
        "id": "TGm8k7ZOoNeO"
      },
      "source": [
        "**Ejercicio 3**: Calculadora de Índice de Masa Corporal (IMC)\n",
        "* Pide al usuario que ingrese su peso en kilogramos y su altura en metros.\n",
        "* Calcula el IMC y muestra una categoría que indique si el usuario está bajo peso, normal, sobrepeso, etc."
      ],
      "id": "TGm8k7ZOoNeO"
    },
    {
      "cell_type": "code",
      "execution_count": null,
      "metadata": {
        "id": "j3424GZLoRTd"
      },
      "outputs": [],
      "source": [
        "# Aqui ingresa el código respuesta del ejercicio"
      ],
      "id": "j3424GZLoRTd"
    },
    {
      "cell_type": "markdown",
      "metadata": {
        "id": "Wq2DmKzcoRxf"
      },
      "source": [
        "**Ejercicio 4**: Calculadora Simple\n",
        "* Pide al usuario que ingrese dos números y una elija una operación (+, -, *, /).\n",
        "* Realiza la operación seleccionada y muestra el resultado."
      ],
      "id": "Wq2DmKzcoRxf"
    },
    {
      "cell_type": "code",
      "execution_count": null,
      "metadata": {
        "id": "bb102n_UoSS5"
      },
      "outputs": [],
      "source": [
        "# Aqui ingresa el código respuesta del ejercicio"
      ],
      "id": "bb102n_UoSS5"
    },
    {
      "cell_type": "markdown",
      "metadata": {
        "id": "38QiotfyoU5u"
      },
      "source": [
        "**Ejercicio 5**: Calculadora de Descuento por Edad\n",
        "* Pide al usuario que ingrese su edad.\n",
        "* Calcula y muestra un descuento basado en su edad (por ejemplo, si tiene menos de 18 años, un 10% de descuento, si tiene más de 65 años, un 20% de descuento, etc.)."
      ],
      "id": "38QiotfyoU5u"
    },
    {
      "cell_type": "code",
      "execution_count": null,
      "metadata": {
        "id": "ofVSxsoUoVQv"
      },
      "outputs": [],
      "source": [
        "# Aqui ingresa el código respuesta del ejercicio"
      ],
      "id": "ofVSxsoUoVQv"
    },
    {
      "cell_type": "markdown",
      "metadata": {
        "id": "ZiCX2utWoYEq"
      },
      "source": [
        "**Ejercicio 6**: Determinar Tipo de Triángulo\n",
        "* Pide al usuario que ingrese las longitudes de los lados de un triángulo.\n",
        "* Determina y muestra si el triángulo es equilátero, isósceles o escaleno."
      ],
      "id": "ZiCX2utWoYEq"
    },
    {
      "cell_type": "code",
      "execution_count": null,
      "metadata": {
        "id": "XAmthNvwoYto"
      },
      "outputs": [],
      "source": [
        "# Aqui ingresa el código respuesta del ejercicio"
      ],
      "id": "XAmthNvwoYto"
    },
    {
      "cell_type": "markdown",
      "metadata": {
        "id": "KkszkbeGoceH"
      },
      "source": [
        "**Ejercicio 7**: Mayor de Tres Números\n",
        "* Pide al usuario que ingrese tres números.\n",
        "* Encuentra y muestra el número más grande entre los tres."
      ],
      "id": "KkszkbeGoceH"
    },
    {
      "cell_type": "code",
      "execution_count": null,
      "metadata": {
        "id": "OX08LWk6oc7f"
      },
      "outputs": [],
      "source": [
        "# Aqui ingresa el código respuesta del ejercicio"
      ],
      "id": "OX08LWk6oc7f"
    },
    {
      "cell_type": "markdown",
      "metadata": {
        "id": "RBuK2IZDogo7"
      },
      "source": [
        "**Ejercicio especial 8**: Verificar Año Bisiesto\n",
        "* Pide al usuario que ingrese un año.\n",
        "* Verifica si el año ingresado es bisiesto y muestra el resultado."
      ],
      "id": "RBuK2IZDogo7"
    },
    {
      "cell_type": "code",
      "execution_count": null,
      "metadata": {
        "id": "wg-WBuksohSo"
      },
      "outputs": [],
      "source": [
        "# Aqui ingresa el código respuesta del ejercicio"
      ],
      "id": "wg-WBuksohSo"
    },
    {
      "cell_type": "markdown",
      "metadata": {
        "id": "qnAfZ6rAozba"
      },
      "source": [
        "## Función random (numeros aleatorios)"
      ],
      "id": "qnAfZ6rAozba"
    },
    {
      "cell_type": "code",
      "execution_count": null,
      "metadata": {
        "id": "q8H14nlno1PL",
        "colab": {
          "base_uri": "https://localhost:8080/"
        },
        "outputId": "33df640d-4701-46f2-958f-3e2271674cda"
      },
      "outputs": [
        {
          "output_type": "stream",
          "name": "stdout",
          "text": [
            "\n",
            "aleatorio = 0.6487924023264791\n",
            "aleatorio entero = 9\n",
            "aleatorio decena = 0\n",
            "letra aleatorio = u\n",
            "\n"
          ]
        }
      ],
      "source": [
        "import random\n",
        "letras = (\"a\",\"e\",\"i\",\"o\",\"u\")\n",
        "\n",
        "aleatorio = random.random()\n",
        "aleatorio_entero = random.randint(0, 10)\n",
        "aleatorio_decena = random.randrange(0, 100, 10)\n",
        "letra_aleatoria = random.choice(letras)\n",
        "\n",
        "print(f\"\"\"\n",
        "aleatorio = {aleatorio}\n",
        "aleatorio entero = {aleatorio_entero}\n",
        "aleatorio decena = {aleatorio_decena}\n",
        "letra aleatorio = {letra_aleatoria}\n",
        "\"\"\")"
      ],
      "id": "q8H14nlno1PL"
    },
    {
      "cell_type": "code",
      "source": [],
      "metadata": {
        "id": "bSJAT2dQ_ame"
      },
      "id": "bSJAT2dQ_ame",
      "execution_count": null,
      "outputs": []
    },
    {
      "cell_type": "markdown",
      "source": [],
      "metadata": {
        "id": "iT-4i6SAAn3V"
      },
      "id": "iT-4i6SAAn3V"
    },
    {
      "cell_type": "markdown",
      "source": [
        "## Bucle While"
      ],
      "metadata": {
        "id": "IHkKdxdCAp_9"
      },
      "id": "IHkKdxdCAp_9"
    },
    {
      "cell_type": "markdown",
      "source": [
        "*Contadores*: Utilizar una variable contador para repetir el bucle un número específico de veces."
      ],
      "metadata": {
        "id": "MQiQ96kKAxud"
      },
      "id": "MQiQ96kKAxud"
    },
    {
      "cell_type": "code",
      "source": [
        "contador = 0\n",
        "while contador < 10:\n",
        "    print(\"Iteración número:\", contador)\n",
        "    contador += 1"
      ],
      "metadata": {
        "colab": {
          "base_uri": "https://localhost:8080/"
        },
        "id": "T7G8Lr2OAsZE",
        "outputId": "cbcd7347-fa3f-43f2-dd57-1538097bda06"
      },
      "id": "T7G8Lr2OAsZE",
      "execution_count": null,
      "outputs": [
        {
          "output_type": "stream",
          "name": "stdout",
          "text": [
            "Iteración número: 0\n",
            "Iteración número: 1\n",
            "Iteración número: 2\n",
            "Iteración número: 3\n",
            "Iteración número: 4\n",
            "Iteración número: 5\n",
            "Iteración número: 6\n",
            "Iteración número: 7\n",
            "Iteración número: 8\n",
            "Iteración número: 9\n"
          ]
        }
      ]
    },
    {
      "cell_type": "markdown",
      "source": [
        "*Acumuladores*: Utilizar una variable acumulador para repetir el bucle mientras no se alcance un valor deseado.\n"
      ],
      "metadata": {
        "id": "t2ZDcaD8A7s9"
      },
      "id": "t2ZDcaD8A7s9"
    },
    {
      "cell_type": "code",
      "source": [
        "total = 0\n",
        "while total < 1000:\n",
        "    precio = float (input(\"Ingresa el precio del producto: \"))\n",
        "    total += precio\n",
        "print(\"El total de la compra fue de \", total)"
      ],
      "metadata": {
        "colab": {
          "base_uri": "https://localhost:8080/"
        },
        "id": "HV-fO3drA6Pq",
        "outputId": "fec575db-71ac-4fc5-b342-cbfe0e9b98db"
      },
      "id": "HV-fO3drA6Pq",
      "execution_count": null,
      "outputs": [
        {
          "output_type": "stream",
          "name": "stdout",
          "text": [
            "Ingresa el precio del producto: 5\n",
            "Ingresa el precio del producto: 6\n",
            "Ingresa el precio del producto: 23\n",
            "Ingresa el precio del producto: 56\n",
            "Ingresa el precio del producto: 67\n",
            "Ingresa el precio del producto: 45\n",
            "Ingresa el precio del producto: 223\n",
            "Ingresa el precio del producto: 34\n",
            "Ingresa el precio del producto: 45\n",
            "Ingresa el precio del producto: 56\n",
            "Ingresa el precio del producto: 67\n",
            "Ingresa el precio del producto: 78\n",
            "Ingresa el precio del producto: 89\n",
            "Ingresa el precio del producto: 89\n",
            "Ingresa el precio del producto: 89\n",
            "Ingresa el precio del producto: 78\n",
            "El total de la compra fue de  1050.0\n"
          ]
        }
      ]
    },
    {
      "cell_type": "markdown",
      "source": [
        "\n",
        "Banderas o switches: Utilizar una \"bandera\" o una variable booleana como condición para activar o desactivar el bucle.\n"
      ],
      "metadata": {
        "id": "Z1yJxujJBQv-"
      },
      "id": "Z1yJxujJBQv-"
    },
    {
      "cell_type": "code",
      "source": [
        "activo = True\n",
        "while activo:\n",
        "    respuesta = input(\"¿Quieres continuar? (s/n): \")\n",
        "    if respuesta == 'n':\n",
        "        activo = False"
      ],
      "metadata": {
        "colab": {
          "base_uri": "https://localhost:8080/"
        },
        "id": "nZtoar-FBArD",
        "outputId": "b6915a00-c6a2-4b5e-c22b-5f0c2d4324e8"
      },
      "id": "nZtoar-FBArD",
      "execution_count": null,
      "outputs": [
        {
          "name": "stdout",
          "output_type": "stream",
          "text": [
            "¿Quieres continuar? (s/n): s\n",
            "¿Quieres continuar? (s/n): d\n",
            "¿Quieres continuar? (s/n): f\n",
            "¿Quieres continuar? (s/n): g\n",
            "¿Quieres continuar? (s/n): h\n",
            "¿Quieres continuar? (s/n): j\n",
            "¿Quieres continuar? (s/n): n\n"
          ]
        }
      ]
    },
    {
      "cell_type": "markdown",
      "source": [
        "## Continue y Break"
      ],
      "metadata": {
        "id": "WnvnAF-xB300"
      },
      "id": "WnvnAF-xB300"
    },
    {
      "cell_type": "code",
      "source": [
        "contador = 0\n",
        "while contador < 10:\n",
        "  if contador == 3:\n",
        "     contador +=1\n",
        "     continue\n",
        "  print(contador)\n",
        "  contador +=1"
      ],
      "metadata": {
        "colab": {
          "base_uri": "https://localhost:8080/"
        },
        "id": "lHZ5BALqB9Ts",
        "outputId": "36a03623-17ec-47e9-8f78-168edbed5c5b"
      },
      "id": "lHZ5BALqB9Ts",
      "execution_count": null,
      "outputs": [
        {
          "output_type": "stream",
          "name": "stdout",
          "text": [
            "0\n",
            "1\n",
            "2\n",
            "4\n",
            "5\n",
            "6\n",
            "7\n",
            "8\n",
            "9\n"
          ]
        }
      ]
    },
    {
      "cell_type": "code",
      "source": [
        "contador = 0\n",
        "while contador < 10:\n",
        "  if contador == 3:\n",
        "    break\n",
        "  print(contador)\n",
        "  contador +=1"
      ],
      "metadata": {
        "colab": {
          "base_uri": "https://localhost:8080/"
        },
        "id": "y2zxRgAXCSlI",
        "outputId": "6719d408-d261-4513-b9ab-40518cbf07d4"
      },
      "id": "y2zxRgAXCSlI",
      "execution_count": null,
      "outputs": [
        {
          "output_type": "stream",
          "name": "stdout",
          "text": [
            "0\n",
            "1\n",
            "2\n"
          ]
        }
      ]
    },
    {
      "cell_type": "markdown",
      "source": [
        "## Bucle infinito (while True)"
      ],
      "metadata": {
        "id": "DAj7gNQKBZkV"
      },
      "id": "DAj7gNQKBZkV"
    },
    {
      "cell_type": "code",
      "source": [
        "suma = 0\n",
        "while True:\n",
        "  numero = int(input(\"Ingresa un número (ingresa un número negativo para salir): \"))\n",
        "  if numero < 0:\n",
        "   \t\tbreak # romper el bucle\n",
        "  suma += numero\n",
        "print(suma)"
      ],
      "metadata": {
        "colab": {
          "base_uri": "https://localhost:8080/"
        },
        "id": "pdy_HOu-BcYm",
        "outputId": "b00f2c7b-4352-4f1c-9258-745f3ca25437"
      },
      "id": "pdy_HOu-BcYm",
      "execution_count": null,
      "outputs": [
        {
          "output_type": "stream",
          "name": "stdout",
          "text": [
            "Ingresa un número (ingresa un número negativo para salir): 2\n",
            "Ingresa un número (ingresa un número negativo para salir): 3\n",
            "Ingresa un número (ingresa un número negativo para salir): 4\n",
            "Ingresa un número (ingresa un número negativo para salir): 5\n",
            "Ingresa un número (ingresa un número negativo para salir): -1\n",
            "14\n"
          ]
        }
      ]
    },
    {
      "cell_type": "markdown",
      "source": [
        "## **Ejercicios** de bucle While"
      ],
      "metadata": {
        "id": "_BM4LK74C6gJ"
      },
      "id": "_BM4LK74C6gJ"
    },
    {
      "cell_type": "markdown",
      "source": [
        "### En los siguientes ejercicios se utilizan principalmente números"
      ],
      "metadata": {
        "id": "11blZGy_DJmC"
      },
      "id": "11blZGy_DJmC"
    },
    {
      "cell_type": "markdown",
      "source": [
        "**Contador Ascendente**: Imprime los números del 1 al 20.\n"
      ],
      "metadata": {
        "id": "VIqz8W9-DNJz"
      },
      "id": "VIqz8W9-DNJz"
    },
    {
      "cell_type": "code",
      "source": [
        "# Aqui ingresa el código respuesta del ejercicio"
      ],
      "metadata": {
        "id": "A4oWBTHaC9gl"
      },
      "id": "A4oWBTHaC9gl",
      "execution_count": null,
      "outputs": []
    },
    {
      "cell_type": "markdown",
      "source": [
        "**Contador Descendente**: Imprime los números del 10 al 1.\n"
      ],
      "metadata": {
        "id": "mNW2-cvxDPJx"
      },
      "id": "mNW2-cvxDPJx"
    },
    {
      "cell_type": "code",
      "source": [
        "# Aqui ingresa el código respuesta del ejercicio"
      ],
      "metadata": {
        "id": "xgI8JuonDQfs"
      },
      "id": "xgI8JuonDQfs",
      "execution_count": null,
      "outputs": []
    },
    {
      "cell_type": "markdown",
      "source": [
        "**Suma de Números**: Calcula la suma de los números del 1 al 100.\n"
      ],
      "metadata": {
        "id": "PVRvefF-DQ2x"
      },
      "id": "PVRvefF-DQ2x"
    },
    {
      "cell_type": "code",
      "source": [
        "# Aqui ingresa el código respuesta del ejercicio"
      ],
      "metadata": {
        "id": "eaa_HSdgDSLJ"
      },
      "id": "eaa_HSdgDSLJ",
      "execution_count": null,
      "outputs": []
    },
    {
      "cell_type": "markdown",
      "source": [
        "**Tabla de Multiplicar**: Imprime la tabla de multiplicar del 5.\n"
      ],
      "metadata": {
        "id": "BF3tgj-RDSf4"
      },
      "id": "BF3tgj-RDSf4"
    },
    {
      "cell_type": "code",
      "source": [
        "# Aqui ingresa el código respuesta del ejercicio"
      ],
      "metadata": {
        "id": "cmz5GhKnDTva"
      },
      "id": "cmz5GhKnDTva",
      "execution_count": null,
      "outputs": []
    },
    {
      "cell_type": "markdown",
      "source": [
        "**Números Pares**: Imprime los primeros 10 números pares."
      ],
      "metadata": {
        "id": "3P6Y14oSDULV"
      },
      "id": "3P6Y14oSDULV"
    },
    {
      "cell_type": "code",
      "source": [
        "# Aqui ingresa el código respuesta del ejercicio"
      ],
      "metadata": {
        "id": "35uGioT1DYHo"
      },
      "id": "35uGioT1DYHo",
      "execution_count": null,
      "outputs": []
    },
    {
      "cell_type": "markdown",
      "source": [
        "**Números Impares**: Imprime los primeros 10 números impares."
      ],
      "metadata": {
        "id": "Z1F8WhTtDYmL"
      },
      "id": "Z1F8WhTtDYmL"
    },
    {
      "cell_type": "code",
      "source": [
        "# Aqui ingresa el código respuesta del ejercicio"
      ],
      "metadata": {
        "id": "elDx2fKHDe4C"
      },
      "id": "elDx2fKHDe4C",
      "execution_count": null,
      "outputs": []
    },
    {
      "cell_type": "markdown",
      "source": [
        "### Los siguientes ejercicios son mas desafiantes"
      ],
      "metadata": {
        "id": "tH556cn7Df6K"
      },
      "id": "tH556cn7Df6K"
    },
    {
      "cell_type": "markdown",
      "source": [
        "**Juego de Adivinar Palabra:** Utilizar una condición para que el usuario intente adivinar una palabra secreta.\n"
      ],
      "metadata": {
        "id": "lT-QSgw-E3bc"
      },
      "id": "lT-QSgw-E3bc"
    },
    {
      "cell_type": "code",
      "source": [
        "# Aqui ingresa el código respuesta del ejercicio"
      ],
      "metadata": {
        "id": "3OF4X7ORE2WW"
      },
      "id": "3OF4X7ORE2WW",
      "execution_count": null,
      "outputs": []
    },
    {
      "cell_type": "markdown",
      "source": [
        "**Adivina el Número**: Genera un número aleatorio y pídele al usuario que ingrese números hasta que lo adivine.\n"
      ],
      "metadata": {
        "id": "bXwEkyA1E6Z8"
      },
      "id": "bXwEkyA1E6Z8"
    },
    {
      "cell_type": "code",
      "source": [
        "# Aqui ingresa el código respuesta del ejercicio"
      ],
      "metadata": {
        "id": "KWAjq_QyE8xH"
      },
      "id": "KWAjq_QyE8xH",
      "execution_count": null,
      "outputs": []
    },
    {
      "cell_type": "markdown",
      "source": [
        "**Suma Infinita**: Lee números ingresados por el usuario hasta que ingrese el número 0. Luego, muestra la suma de los números ingresados. RETO (Haz la suma por separado de los números pares e impares).\n"
      ],
      "metadata": {
        "id": "3R3PnyEUE97j"
      },
      "id": "3R3PnyEUE97j"
    },
    {
      "cell_type": "code",
      "source": [
        "# Aqui ingresa el código respuesta del ejercicio"
      ],
      "metadata": {
        "id": "4BsgdwLsFDRX"
      },
      "id": "4BsgdwLsFDRX",
      "execution_count": null,
      "outputs": []
    },
    {
      "cell_type": "markdown",
      "source": [
        "**Calculadora Simple:** Usando la calculadora del ejercicio 4 de sentencias condicionales, permite que el usuario haga operaciones hasta que decida salir ingresando una opción especial (por ejemplo, \"salir\")."
      ],
      "metadata": {
        "id": "Hi0XT15TFD99"
      },
      "id": "Hi0XT15TFD99"
    },
    {
      "cell_type": "code",
      "source": [
        "# Aqui ingresa el código respuesta del ejercicio"
      ],
      "metadata": {
        "id": "RXBzqiZBFHLy"
      },
      "id": "RXBzqiZBFHLy",
      "execution_count": null,
      "outputs": []
    },
    {
      "cell_type": "markdown",
      "source": [
        "### Siguen algunos retos, mucha suerte"
      ],
      "metadata": {
        "id": "myVBe66SFPm4"
      },
      "id": "myVBe66SFPm4"
    },
    {
      "cell_type": "markdown",
      "source": [
        "**Número primo:** Verifica si un número ingresado por el usuario es primo o no.\n"
      ],
      "metadata": {
        "id": "CFVAcvCkFXJ0"
      },
      "id": "CFVAcvCkFXJ0"
    },
    {
      "cell_type": "code",
      "source": [
        "# Aqui ingresa el código respuesta del ejercicio"
      ],
      "metadata": {
        "id": "Xiiyi_0KFThA"
      },
      "id": "Xiiyi_0KFThA",
      "execution_count": null,
      "outputs": []
    },
    {
      "cell_type": "markdown",
      "source": [
        "**Juego de Piedra, Papel o Tijera**: Crea un juego simple de piedra, papel o tijera donde el usuario juega contra la computadora. Utiliza un bucle while para permitir que el usuario juegue múltiples rondas y muestre los resultados."
      ],
      "metadata": {
        "id": "zd0imvMwFZ-U"
      },
      "id": "zd0imvMwFZ-U"
    },
    {
      "cell_type": "code",
      "source": [
        "# Aqui ingresa el código respuesta del ejercicio"
      ],
      "metadata": {
        "id": "Up6yBAWpFbcZ"
      },
      "id": "Up6yBAWpFbcZ",
      "execution_count": null,
      "outputs": []
    },
    {
      "cell_type": "markdown",
      "source": [
        "## Bucle *For*"
      ],
      "metadata": {
        "id": "Q8L4F5D3iiEa"
      },
      "id": "Q8L4F5D3iiEa"
    },
    {
      "cell_type": "code",
      "source": [
        "frutas = [\"manzana\", \"naranja\", \"plátano\", \"uva\", \"sandía\"]\n",
        "for fruta in frutas:\n",
        "    print(\"Me gusta la\", fruta)"
      ],
      "metadata": {
        "colab": {
          "base_uri": "https://localhost:8080/"
        },
        "id": "TQHL8WobikdQ",
        "outputId": "4696b9b9-f15f-4c14-dbec-4d8413401494"
      },
      "id": "TQHL8WobikdQ",
      "execution_count": null,
      "outputs": [
        {
          "output_type": "stream",
          "name": "stdout",
          "text": [
            "Me gusta la manzana\n",
            "Me gusta la naranja\n",
            "Me gusta la plátano\n",
            "Me gusta la uva\n",
            "Me gusta la sandía\n"
          ]
        }
      ]
    },
    {
      "cell_type": "code",
      "source": [
        "numeros = [1, 2, 3, 4, 5]\n",
        "suma = 0\n",
        "for num in numeros:\n",
        "    suma += num\n",
        "print(\"La suma es:\", suma)"
      ],
      "metadata": {
        "colab": {
          "base_uri": "https://localhost:8080/"
        },
        "id": "cFy76l2HimcS",
        "outputId": "663694d8-a5fc-48fe-a53a-3e7c1cb1a6eb"
      },
      "id": "cFy76l2HimcS",
      "execution_count": null,
      "outputs": [
        {
          "output_type": "stream",
          "name": "stdout",
          "text": [
            "La suma es: 15\n"
          ]
        }
      ]
    },
    {
      "cell_type": "code",
      "source": [
        "cadena = \"Hola mundo\"\n",
        "for letra in cadena:\n",
        "  print(letra)"
      ],
      "metadata": {
        "colab": {
          "base_uri": "https://localhost:8080/"
        },
        "id": "vz8kABiAisUd",
        "outputId": "7c1c9a19-d0c7-4c91-8897-92dbb7434092"
      },
      "id": "vz8kABiAisUd",
      "execution_count": null,
      "outputs": [
        {
          "output_type": "stream",
          "name": "stdout",
          "text": [
            "H\n",
            "o\n",
            "l\n",
            "a\n",
            " \n",
            "m\n",
            "u\n",
            "n\n",
            "d\n",
            "o\n"
          ]
        }
      ]
    },
    {
      "cell_type": "code",
      "source": [
        "for i in range(0, 7, 2):\n",
        "    print(i)"
      ],
      "metadata": {
        "colab": {
          "base_uri": "https://localhost:8080/"
        },
        "id": "Wwd6iiCxi0xD",
        "outputId": "3f35979a-9ca7-420f-ff33-5f57100c9524"
      },
      "id": "Wwd6iiCxi0xD",
      "execution_count": null,
      "outputs": [
        {
          "output_type": "stream",
          "name": "stdout",
          "text": [
            "0\n",
            "2\n",
            "4\n",
            "6\n"
          ]
        }
      ]
    },
    {
      "cell_type": "code",
      "source": [
        "for i in range(10):\n",
        "    print(i)"
      ],
      "metadata": {
        "colab": {
          "base_uri": "https://localhost:8080/"
        },
        "id": "kNDzqvTpjMiu",
        "outputId": "3682a182-81d0-4c35-f044-a4963646f192"
      },
      "id": "kNDzqvTpjMiu",
      "execution_count": null,
      "outputs": [
        {
          "output_type": "stream",
          "name": "stdout",
          "text": [
            "0\n",
            "1\n",
            "2\n",
            "3\n",
            "4\n",
            "5\n",
            "6\n",
            "7\n",
            "8\n",
            "9\n"
          ]
        }
      ]
    },
    {
      "cell_type": "markdown",
      "source": [
        "## **Ejercicios** bucle For"
      ],
      "metadata": {
        "id": "Cf350z6cjVoq"
      },
      "id": "Cf350z6cjVoq"
    },
    {
      "cell_type": "markdown",
      "source": [
        "### Los siguientes ejercicios son los mismo de bucle while, pero ahora hay que resolverlos con bucle for"
      ],
      "metadata": {
        "id": "A3Wj_Tv-jm86"
      },
      "id": "A3Wj_Tv-jm86"
    },
    {
      "cell_type": "markdown",
      "source": [
        "**Contador Ascendente**: Imprime los números del 1 al 20.\n"
      ],
      "metadata": {
        "id": "zG2Jl6zljm8_"
      },
      "id": "zG2Jl6zljm8_"
    },
    {
      "cell_type": "code",
      "source": [
        "# Aqui ingresa el código respuesta del ejercicio"
      ],
      "metadata": {
        "id": "NCwc7sVGjm9B"
      },
      "execution_count": null,
      "outputs": [],
      "id": "NCwc7sVGjm9B"
    },
    {
      "cell_type": "markdown",
      "source": [
        "**Contador Descendente**: Imprime los números del 10 al 1.\n"
      ],
      "metadata": {
        "id": "30EAyflxjm9D"
      },
      "id": "30EAyflxjm9D"
    },
    {
      "cell_type": "code",
      "source": [
        "# Aqui ingresa el código respuesta del ejercicio"
      ],
      "metadata": {
        "id": "xI-XMRKQjm9G"
      },
      "execution_count": null,
      "outputs": [],
      "id": "xI-XMRKQjm9G"
    },
    {
      "cell_type": "markdown",
      "source": [
        "**Suma de Números**: Calcula la suma de los números del 1 al 100.\n"
      ],
      "metadata": {
        "id": "Y-lDRTJ-jm9J"
      },
      "id": "Y-lDRTJ-jm9J"
    },
    {
      "cell_type": "code",
      "source": [
        "# Aqui ingresa el código respuesta del ejercicio"
      ],
      "metadata": {
        "id": "99juiiALjm9L"
      },
      "execution_count": null,
      "outputs": [],
      "id": "99juiiALjm9L"
    },
    {
      "cell_type": "markdown",
      "source": [
        "**Tabla de Multiplicar**: Imprime la tabla de multiplicar del 5.\n"
      ],
      "metadata": {
        "id": "cAulR64Ojm9N"
      },
      "id": "cAulR64Ojm9N"
    },
    {
      "cell_type": "code",
      "source": [
        "# Aqui ingresa el código respuesta del ejercicio"
      ],
      "metadata": {
        "id": "4FKLITVkjm9Q"
      },
      "execution_count": null,
      "outputs": [],
      "id": "4FKLITVkjm9Q"
    },
    {
      "cell_type": "markdown",
      "source": [
        "**Números Pares**: Imprime los primeros 10 números pares."
      ],
      "metadata": {
        "id": "7yfapnKRjm9S"
      },
      "id": "7yfapnKRjm9S"
    },
    {
      "cell_type": "code",
      "source": [
        "# Aqui ingresa el código respuesta del ejercicio"
      ],
      "metadata": {
        "id": "nvw425Y2jm9X"
      },
      "execution_count": null,
      "outputs": [],
      "id": "nvw425Y2jm9X"
    },
    {
      "cell_type": "markdown",
      "source": [
        "**Números Impares**: Imprime los primeros 10 números impares."
      ],
      "metadata": {
        "id": "j3_yBgTrjm9a"
      },
      "id": "j3_yBgTrjm9a"
    },
    {
      "cell_type": "code",
      "source": [
        "# Aqui ingresa el código respuesta del ejercicio"
      ],
      "metadata": {
        "id": "ygWIcY-xjm9c"
      },
      "execution_count": null,
      "outputs": [],
      "id": "ygWIcY-xjm9c"
    },
    {
      "cell_type": "markdown",
      "source": [
        "### Los siguientes ejercicios son mas desafiantes"
      ],
      "metadata": {
        "id": "Ozx0DVtqj5IM"
      },
      "id": "Ozx0DVtqj5IM"
    },
    {
      "cell_type": "markdown",
      "source": [
        "**Secuencia abejil:** Imprime en la pantalla los números del 1 al 100, reemplazando los múltiplos de 3 por la palabra \"Fizz\", los múltiplos de 5 por la palabra \"Buzz\", y los múltiplos de ambos por la palabra \"FizzBuzz\".\n"
      ],
      "metadata": {
        "id": "LpfwlEt_kHmn"
      },
      "id": "LpfwlEt_kHmn"
    },
    {
      "cell_type": "code",
      "source": [
        "# Aqui ingresa el código respuesta del ejercicio"
      ],
      "metadata": {
        "id": "WGugxXIojXrx"
      },
      "id": "WGugxXIojXrx",
      "execution_count": null,
      "outputs": []
    },
    {
      "cell_type": "markdown",
      "source": [
        "**Contar Vocales**: Cuenta cuántas vocales hay en una palabra ingresada por el usuario.\n"
      ],
      "metadata": {
        "id": "hecSD_ybkOer"
      },
      "id": "hecSD_ybkOer"
    },
    {
      "cell_type": "code",
      "source": [
        "# Aqui ingresa el código respuesta del ejercicio"
      ],
      "metadata": {
        "id": "17ltqptmkROI"
      },
      "id": "17ltqptmkROI",
      "execution_count": null,
      "outputs": []
    },
    {
      "cell_type": "markdown",
      "source": [
        "**Contador de Números Pares e Impares**: Recibe un número ingresado por el usuario y cuenta cuántos dígitos son pares y cuántos son impares.\n"
      ],
      "metadata": {
        "id": "2yjBhkAykRvc"
      },
      "id": "2yjBhkAykRvc"
    },
    {
      "cell_type": "code",
      "source": [
        "# Aqui ingresa el código respuesta del ejercicio"
      ],
      "metadata": {
        "id": "kPPLLVN9kTys"
      },
      "id": "kPPLLVN9kTys",
      "execution_count": null,
      "outputs": []
    },
    {
      "cell_type": "markdown",
      "source": [
        "**Suma de Dígitos:** Calcula la suma de los dígitos de un número ingresado por el usuario.\n"
      ],
      "metadata": {
        "id": "C9Qedi4ikWP5"
      },
      "id": "C9Qedi4ikWP5"
    },
    {
      "cell_type": "code",
      "source": [
        "# Aqui ingresa el código respuesta del ejercicio"
      ],
      "metadata": {
        "id": "42k6PBvjkYs5"
      },
      "id": "42k6PBvjkYs5",
      "execution_count": null,
      "outputs": []
    },
    {
      "cell_type": "markdown",
      "source": [
        "**Buscar Número**: Recibe un número ingresado por el usuario y busca un dígito específico también ingresado por el usuario."
      ],
      "metadata": {
        "id": "ZQbRpAtYka3k"
      },
      "id": "ZQbRpAtYka3k"
    },
    {
      "cell_type": "code",
      "source": [
        "# Aqui ingresa el código respuesta del ejercicio"
      ],
      "metadata": {
        "id": "PzjM1PYNkcUb"
      },
      "id": "PzjM1PYNkcUb",
      "execution_count": null,
      "outputs": []
    },
    {
      "cell_type": "markdown",
      "source": [
        "### Los siguientes ejercicios despertaran al matemático que llevan dentro (o no)"
      ],
      "metadata": {
        "id": "L9EqbBJ6kkLE"
      },
      "id": "L9EqbBJ6kkLE"
    },
    {
      "cell_type": "markdown",
      "source": [
        "**Secuencia de Fibonacci:** Imprime los primeros 10 números de la secuencia de Fibonacci.\n"
      ],
      "metadata": {
        "id": "Amfybe-XktPA"
      },
      "id": "Amfybe-XktPA"
    },
    {
      "cell_type": "code",
      "source": [
        "# Aqui ingresa el código respuesta del ejercicio"
      ],
      "metadata": {
        "id": "4wUtWzZmksJT"
      },
      "id": "4wUtWzZmksJT",
      "execution_count": null,
      "outputs": []
    },
    {
      "cell_type": "markdown",
      "source": [
        "**Números primos:** Imprime los primeros 10 números primos.\n"
      ],
      "metadata": {
        "id": "WBDsAmKskxk-"
      },
      "id": "WBDsAmKskxk-"
    },
    {
      "cell_type": "code",
      "source": [
        "# Aqui ingresa el código respuesta del ejercicio"
      ],
      "metadata": {
        "id": "Y37SKN0JkzA2"
      },
      "id": "Y37SKN0JkzA2",
      "execution_count": null,
      "outputs": []
    },
    {
      "cell_type": "markdown",
      "source": [
        "**Números perfectos**: Imprime los primeros 3 números perfectos (un número es perfecto cuando es igual a la suma de sus divisores propios)."
      ],
      "metadata": {
        "id": "EaHRH3bakzxf"
      },
      "id": "EaHRH3bakzxf"
    },
    {
      "cell_type": "code",
      "source": [
        "# Aqui ingresa el código respuesta del ejercicio"
      ],
      "metadata": {
        "id": "33APJMj-k1ai"
      },
      "id": "33APJMj-k1ai",
      "execution_count": null,
      "outputs": []
    },
    {
      "cell_type": "markdown",
      "source": [
        "##  Funciones"
      ],
      "metadata": {
        "id": "eZwEgsDyxRtM"
      },
      "id": "eZwEgsDyxRtM"
    },
    {
      "cell_type": "markdown",
      "source": [
        "Primero vamos a deinir las funciones"
      ],
      "metadata": {
        "id": "hYantFrZxU7T"
      },
      "id": "hYantFrZxU7T"
    },
    {
      "cell_type": "code",
      "source": [
        "def saludar(nombre):\n",
        "    print(\"¡Hola,\", nombre, \"!\")\n",
        "\n",
        "def area_rectangulo(base, altura):\n",
        "    area = base * altura\n",
        "    return area\n",
        "\n",
        "def calcular_promedio(lista):\n",
        "    if not lista:\n",
        "        return 0\n",
        "    suma = sum(lista)\n",
        "    promedio = suma / len(lista)\n",
        "    return promedio\n",
        "\n",
        "def factorial(numero):\n",
        "    if numero == 0:\n",
        "        return 1\n",
        "    else:\n",
        "        return numero * factorial(numero - 1)"
      ],
      "metadata": {
        "id": "G595dfn7xUN0"
      },
      "id": "G595dfn7xUN0",
      "execution_count": null,
      "outputs": []
    },
    {
      "cell_type": "markdown",
      "source": [
        "Luego de ejecutar la celda anterior podemos utilizar las funciones"
      ],
      "metadata": {
        "id": "daTn-4KGxmPt"
      },
      "id": "daTn-4KGxmPt"
    },
    {
      "cell_type": "code",
      "source": [
        "nombre = input(\"Ingresa tu nombre: \")\n",
        "saludar(nombre)"
      ],
      "metadata": {
        "colab": {
          "base_uri": "https://localhost:8080/"
        },
        "id": "gyHSg4Q_xqDx",
        "outputId": "6b7062eb-e63a-4175-bab6-5de03db53fcd"
      },
      "id": "gyHSg4Q_xqDx",
      "execution_count": null,
      "outputs": [
        {
          "output_type": "stream",
          "name": "stdout",
          "text": [
            "Ingresa tu nombre: jorge\n",
            "¡Hola, jorge !\n"
          ]
        }
      ]
    },
    {
      "cell_type": "code",
      "source": [
        "base = float (input(\"Ingresa la base del rectangulo: \"))\n",
        "altura = float (input(\"Ingresa la altura del rectangulo: \"))\n",
        "print(\"El area del rectangulo es: \", area_rectangulo(base, altura))"
      ],
      "metadata": {
        "colab": {
          "base_uri": "https://localhost:8080/"
        },
        "id": "3H4ivl69xtmN",
        "outputId": "f96ced84-6b35-45d1-d8b6-fbd02a544d49"
      },
      "id": "3H4ivl69xtmN",
      "execution_count": null,
      "outputs": [
        {
          "output_type": "stream",
          "name": "stdout",
          "text": [
            "Ingresa la base del rectangulo: 2\n",
            "Ingresa la altura del rectangulo: 3\n",
            "El area del rectangulo es:  6.0\n"
          ]
        }
      ]
    },
    {
      "cell_type": "code",
      "source": [
        "calificaciones = [7,9,6,8,9,7,6]\n",
        "print(\"El promedio del alumno es:\", calcular_promedio(calificaciones))"
      ],
      "metadata": {
        "colab": {
          "base_uri": "https://localhost:8080/"
        },
        "id": "FFRbQgjayNk-",
        "outputId": "d9655825-d80e-4839-ad9f-a570d4e7cf5a"
      },
      "id": "FFRbQgjayNk-",
      "execution_count": null,
      "outputs": [
        {
          "output_type": "stream",
          "name": "stdout",
          "text": [
            "El promedio del alumno es: 7.428571428571429\n"
          ]
        }
      ]
    },
    {
      "cell_type": "code",
      "source": [
        "numero = int(input(\"Ingresa un numero para conocer su factorial: \"))\n",
        "print(f\"El factorial de {numero} es {factorial(numero)}\")"
      ],
      "metadata": {
        "id": "cpIj-ocIzS6W",
        "colab": {
          "base_uri": "https://localhost:8080/"
        },
        "outputId": "d9308f51-02b3-4da8-8deb-ec23419dc45c"
      },
      "id": "cpIj-ocIzS6W",
      "execution_count": null,
      "outputs": [
        {
          "output_type": "stream",
          "name": "stdout",
          "text": [
            "Ingresa un numero para conocer su factorial: 5\n",
            "El factorial de 5 es 120\n"
          ]
        }
      ]
    },
    {
      "cell_type": "markdown",
      "source": [
        "## Funciones de las listas numéricas"
      ],
      "metadata": {
        "id": "qh_jGn7SKlyn"
      },
      "id": "qh_jGn7SKlyn"
    },
    {
      "cell_type": "code",
      "source": [
        "lista = [2,5,8,7,4,6,9,4,2,6,7,9,4]\n",
        "longitud = len(lista)\n",
        "suma = sum(lista)\n",
        "minimo = min(lista)\n",
        "maximo = max(lista)\n",
        "lista_ordenada = sorted(lista)\n",
        "\n",
        "print(f\"\"\"\n",
        "Lista original: {lista}\n",
        "Longitud de la lista: {longitud}\n",
        "Suma de los valores de la lista: {suma}\n",
        "Numero minimo: {minimo}\n",
        "Numero maximo: {maximo}\n",
        "Lista ordenada: {lista_ordenada}\n",
        "\"\"\")"
      ],
      "metadata": {
        "colab": {
          "base_uri": "https://localhost:8080/"
        },
        "id": "2FhT5tUEKtLl",
        "outputId": "d6ff7c2d-8403-4664-acd6-e114a47e5d5f"
      },
      "id": "2FhT5tUEKtLl",
      "execution_count": null,
      "outputs": [
        {
          "output_type": "stream",
          "name": "stdout",
          "text": [
            "\n",
            "Lista original: [2, 5, 8, 7, 4, 6, 9, 4, 2, 6, 7, 9, 4]\n",
            "Longitud de la lista: 13\n",
            "Suma de los valores de la lista: 73\n",
            "Numero minimo: 2\n",
            "Numero maximo: 9\n",
            "Lista ordenada: [2, 2, 4, 4, 4, 5, 6, 6, 7, 7, 8, 9, 9]\n",
            "\n"
          ]
        }
      ]
    },
    {
      "cell_type": "markdown",
      "source": [
        "## **Ejercicios** de funciones"
      ],
      "metadata": {
        "id": "m3wJFcnsOnAj"
      },
      "id": "m3wJFcnsOnAj"
    },
    {
      "cell_type": "markdown",
      "source": [
        "###Crea funciones que devuelvan el valor *numérico* solicitado y muestre su funcionamiento"
      ],
      "metadata": {
        "id": "Fkfj1hpowDKO"
      },
      "id": "Fkfj1hpowDKO"
    },
    {
      "cell_type": "markdown",
      "source": [
        "El área de un círculo dado su radio.\n"
      ],
      "metadata": {
        "id": "Hud5POc1wZ0C"
      },
      "id": "Hud5POc1wZ0C"
    },
    {
      "cell_type": "code",
      "source": [
        "# Aqui ingresa el código respuesta del ejercicio"
      ],
      "metadata": {
        "id": "IJG4toq5Opqb"
      },
      "id": "IJG4toq5Opqb",
      "execution_count": null,
      "outputs": []
    },
    {
      "cell_type": "markdown",
      "source": [
        "Convertir grados Celsius a Fahrenheit.\n"
      ],
      "metadata": {
        "id": "a9M1qH1jwkXE"
      },
      "id": "a9M1qH1jwkXE"
    },
    {
      "cell_type": "code",
      "source": [
        "# Aqui ingresa el código respuesta del ejercicio"
      ],
      "metadata": {
        "id": "kzBpBGUqwl5L"
      },
      "id": "kzBpBGUqwl5L",
      "execution_count": null,
      "outputs": []
    },
    {
      "cell_type": "markdown",
      "source": [
        "El área de un triángulo dado su base y altura.\n"
      ],
      "metadata": {
        "id": "DmnVrPGJwmh-"
      },
      "id": "DmnVrPGJwmh-"
    },
    {
      "cell_type": "code",
      "source": [
        "# Aqui ingresa el código respuesta del ejercicio"
      ],
      "metadata": {
        "id": "fqIwjsu7wn0T"
      },
      "id": "fqIwjsu7wn0T",
      "execution_count": null,
      "outputs": []
    },
    {
      "cell_type": "markdown",
      "source": [
        "El promedio de tres números ingresados por el usuario.\n"
      ],
      "metadata": {
        "id": "5qiVMTf4woWx"
      },
      "id": "5qiVMTf4woWx"
    },
    {
      "cell_type": "code",
      "source": [
        "# Aqui ingresa el código respuesta del ejercicio"
      ],
      "metadata": {
        "id": "5Q2bRJk8wpkU"
      },
      "id": "5Q2bRJk8wpkU",
      "execution_count": null,
      "outputs": []
    },
    {
      "cell_type": "markdown",
      "source": [
        "La suma de los primeros N números naturales que solicite el usuario\n"
      ],
      "metadata": {
        "id": "4IpOdnixwp_C"
      },
      "id": "4IpOdnixwp_C"
    },
    {
      "cell_type": "code",
      "source": [
        "# Aqui ingresa el código respuesta del ejercicio"
      ],
      "metadata": {
        "id": "MqgPP3yuwqc-"
      },
      "id": "MqgPP3yuwqc-",
      "execution_count": null,
      "outputs": []
    },
    {
      "cell_type": "markdown",
      "source": [
        "Leer una cadena y contar cuántas vocales contiene (usando un bucle for)."
      ],
      "metadata": {
        "id": "J6YVAyrGwsMc"
      },
      "id": "J6YVAyrGwsMc"
    },
    {
      "cell_type": "code",
      "source": [
        "# Aqui ingresa el código respuesta del ejercicio"
      ],
      "metadata": {
        "id": "OwUcROJNwsvD"
      },
      "id": "OwUcROJNwsvD",
      "execution_count": null,
      "outputs": []
    },
    {
      "cell_type": "markdown",
      "source": [
        "###Crea funciones que devuelvan el valor *booleano* solicitado y muestre su funcionamiento"
      ],
      "metadata": {
        "id": "nAQVrQ4ow9Pa"
      },
      "id": "nAQVrQ4ow9Pa"
    },
    {
      "cell_type": "markdown",
      "source": [
        "Solicitar al usuario un número e indicar si es primo o no.\n",
        "\n"
      ],
      "metadata": {
        "id": "AqqSfk1hw-y7"
      },
      "id": "AqqSfk1hw-y7"
    },
    {
      "cell_type": "code",
      "source": [
        "# Aqui ingresa el código respuesta del ejercicio"
      ],
      "metadata": {
        "id": "ZjcLD5VDw-PP"
      },
      "id": "ZjcLD5VDw-PP",
      "execution_count": null,
      "outputs": []
    },
    {
      "cell_type": "markdown",
      "source": [
        "Solicitar al usuario su edad y decir si es mayor de edad (18 años o más) o menor de edad."
      ],
      "metadata": {
        "id": "JYI6ysIXxAmS"
      },
      "id": "JYI6ysIXxAmS"
    },
    {
      "cell_type": "code",
      "source": [
        "# Aqui ingresa el código respuesta del ejercicio"
      ],
      "metadata": {
        "id": "oB0yUC4dxBOV"
      },
      "id": "oB0yUC4dxBOV",
      "execution_count": null,
      "outputs": []
    },
    {
      "cell_type": "markdown",
      "source": [
        "##Métodos de los objetos"
      ],
      "metadata": {
        "id": "j4h22eP2q618"
      },
      "id": "j4h22eP2q618"
    },
    {
      "cell_type": "markdown",
      "source": [
        "### Métodos de las cadenas"
      ],
      "metadata": {
        "id": "el1Nqdlmsrv6"
      },
      "id": "el1Nqdlmsrv6"
    },
    {
      "cell_type": "markdown",
      "source": [
        "Los métodos upper, lower, capitalize, title, replace y format, modifican el contenido de la cadena de la siguiente forma:"
      ],
      "metadata": {
        "id": "89bdfByFu6Dx"
      },
      "id": "89bdfByFu6Dx"
    },
    {
      "cell_type": "code",
      "source": [
        "cadena = \"Hola mundo!\"\n",
        "print(cadena.upper())\n",
        "print(cadena.lower())\n",
        "print(cadena.capitalize())\n",
        "print(cadena.title())\n",
        "print(cadena.replace(\"H\", \"J\"))"
      ],
      "metadata": {
        "colab": {
          "base_uri": "https://localhost:8080/"
        },
        "id": "WHLSr78Yq52o",
        "outputId": "0aaf767d-7281-400c-82d6-b970906ae7f2"
      },
      "id": "WHLSr78Yq52o",
      "execution_count": null,
      "outputs": [
        {
          "output_type": "stream",
          "name": "stdout",
          "text": [
            "HOLA MUNDO!\n",
            "hola mundo!\n",
            "Hola mundo!\n",
            "Hola Mundo!\n",
            "Jola mundo!\n"
          ]
        }
      ]
    },
    {
      "cell_type": "code",
      "source": [
        "cantidad = 3\n",
        "fruta = \"melón\"\n",
        "precio = 49.95\n",
        "mi_orden = \"Por {} piezas de {} pague {} pesos.\"\n",
        "\n",
        "print(mi_orden)\n",
        "print(mi_orden.format(cantidad, fruta, precio))"
      ],
      "metadata": {
        "colab": {
          "base_uri": "https://localhost:8080/"
        },
        "id": "NPyTTbWat6fl",
        "outputId": "41fd9776-cb8a-4e2e-bcda-6fbf7663e3df"
      },
      "id": "NPyTTbWat6fl",
      "execution_count": null,
      "outputs": [
        {
          "output_type": "stream",
          "name": "stdout",
          "text": [
            "Por {} piezas de {} pague {} pesos.\n",
            "Por 3 piezas de melón pague 49.95 pesos.\n"
          ]
        }
      ]
    },
    {
      "cell_type": "markdown",
      "source": [
        "Los métodos isalnum, isalpha, isdigit y count, verifican el contenido de la cadena de la siguiente forma:"
      ],
      "metadata": {
        "id": "dzJWvE1pvc1E"
      },
      "id": "dzJWvE1pvc1E"
    },
    {
      "cell_type": "code",
      "source": [
        "numeros = \"76576585\"\n",
        "print(numeros.isalnum())\n",
        "print(numeros.isalpha())\n",
        "print(numeros.isdigit())"
      ],
      "metadata": {
        "colab": {
          "base_uri": "https://localhost:8080/"
        },
        "id": "YJzDP76qwuz0",
        "outputId": "402f2acf-8c06-4fd5-a982-b60296acb5d7"
      },
      "id": "YJzDP76qwuz0",
      "execution_count": null,
      "outputs": [
        {
          "output_type": "stream",
          "name": "stdout",
          "text": [
            "True\n",
            "False\n",
            "True\n"
          ]
        }
      ]
    },
    {
      "cell_type": "code",
      "source": [
        "letras = \"asdfghjklñ\"\n",
        "print(letras.isalnum())\n",
        "print(letras.isalpha())\n",
        "print(letras.isdigit())"
      ],
      "metadata": {
        "colab": {
          "base_uri": "https://localhost:8080/"
        },
        "id": "F-7zi2FKw6BX",
        "outputId": "14f73e2e-c686-4d4e-f56b-1c354b5233db"
      },
      "id": "F-7zi2FKw6BX",
      "execution_count": null,
      "outputs": [
        {
          "output_type": "stream",
          "name": "stdout",
          "text": [
            "True\n",
            "True\n",
            "False\n"
          ]
        }
      ]
    },
    {
      "cell_type": "code",
      "source": [
        "texto = \"Hola mundo\"\n",
        "print(texto.isalnum())\n",
        "print(texto.isalpha())\n",
        "print(texto.isdigit())"
      ],
      "metadata": {
        "colab": {
          "base_uri": "https://localhost:8080/"
        },
        "id": "GLe0GcjKw4W6",
        "outputId": "4cc47ebb-6191-497f-d5fd-32c812691cd0"
      },
      "id": "GLe0GcjKw4W6",
      "execution_count": null,
      "outputs": [
        {
          "output_type": "stream",
          "name": "stdout",
          "text": [
            "False\n",
            "False\n",
            "False\n"
          ]
        }
      ]
    },
    {
      "cell_type": "code",
      "source": [
        "cadena = \"\"\"\n",
        "Un melón gigante descansaba bajo el sol ardiente del verano, listo para ser disfrutado en el próximo picnic. Los niños, ansiosos por probarlo,\n",
        "se reunieron alrededor del melón, sus ojos brillando de anticipación. Con un cuchillo afilado, el padre cortó cuidadosamente el melón y reveló\n",
        "su interior jugoso y refrescante. Cada bocado de melón era una explosión de dulzura y frescura en sus bocas. ¡El melón nunca había sabido tan\n",
        "bien como en ese día caluroso de verano!\n",
        "\"\"\"\n",
        "print(cadena.count(\"melón\"))"
      ],
      "metadata": {
        "colab": {
          "base_uri": "https://localhost:8080/"
        },
        "id": "ocAyvjnRxXsS",
        "outputId": "fb7eb3a4-4004-47a9-c22a-3ea729791083"
      },
      "id": "ocAyvjnRxXsS",
      "execution_count": null,
      "outputs": [
        {
          "output_type": "stream",
          "name": "stdout",
          "text": [
            "5\n"
          ]
        }
      ]
    },
    {
      "cell_type": "markdown",
      "source": [
        "### Métodos de las listas"
      ],
      "metadata": {
        "id": "v3VhPcBpyrVM"
      },
      "id": "v3VhPcBpyrVM"
    },
    {
      "cell_type": "markdown",
      "source": [
        "**Acceder** a los elementos de una lista"
      ],
      "metadata": {
        "id": "EHbPKLP16a7h"
      },
      "id": "EHbPKLP16a7h"
    },
    {
      "cell_type": "code",
      "source": [
        "lista = [\"mélon\", \"manzana\", \"uva\", \"sandia\", \"fresa\", \"toronja\", \"papaya\"]\n",
        "\n",
        "#A travéz de su indice\n",
        "print(\"El primer elemento: \", lista[0])\n",
        "print(\"El tercer elemento: \", lista[2])\n",
        "\n",
        "#A travéz de indices negativos (-1 es el último)\n",
        "print(\"El último elemento: \", lista[-1])\n",
        "\n",
        "#A travéz de rango de indices\n",
        "print(\"Elementos del tercer al cuarto elemento: \", lista[2:4])\n",
        "print(\"Elementos del primer al tercer elemento: \", lista[:3])\n",
        "print(\"Elementos del cuarto al último elemento: \", lista[3:])"
      ],
      "metadata": {
        "colab": {
          "base_uri": "https://localhost:8080/"
        },
        "id": "0pPrteaIxyw_",
        "outputId": "81d322c7-b6ee-4345-9db9-9d5bd071f281"
      },
      "id": "0pPrteaIxyw_",
      "execution_count": null,
      "outputs": [
        {
          "output_type": "stream",
          "name": "stdout",
          "text": [
            "El primer elemento:  mélon\n",
            "El tercer elemento:  uva\n",
            "El último elemento:  papaya\n",
            "Elementos del tercer al cuarto elemento:  ['uva', 'sandia']\n",
            "Elementos del primer al tercer elemento:  ['mélon', 'manzana', 'uva']\n",
            "Elementos del cuarto al último elemento:  ['sandia', 'fresa', 'toronja', 'papaya']\n"
          ]
        }
      ]
    },
    {
      "cell_type": "markdown",
      "source": [
        "**Modificar** los elementos de la lista"
      ],
      "metadata": {
        "id": "zIe9HBKBACMm"
      },
      "id": "zIe9HBKBACMm"
    },
    {
      "cell_type": "code",
      "source": [
        "lista = [\"perro\", \"gato\", \"tortuga\", \"pez\", \"hamster\"]\n",
        "print(\"Lista original:\\n\", lista)\n",
        "\n",
        "lista[3] = \"ave\"\n",
        "print(\"\\nModificamos el 4to elemento:\\n\", lista)\n",
        "\n",
        "lista.append(\"león\")\n",
        "print(\"\\nAgregamos león al final:\\n\", lista)\n",
        "\n",
        "lista.insert(1, \"tiburon\")\n",
        "print(\"\\nAgregamos tiburon en la segunda posición:\\n\", lista)\n",
        "\n",
        "otra_lista = [\"cocodrilo\", \"jirafa\", \"ratón\"]\n",
        "lista.extend(otra_lista)\n",
        "print(\"\\nExtendemos la lista original con la otra lista:\\n\", lista)\n",
        "\n",
        "lista.remove(\"león\")\n",
        "print(\"\\nRemovemos el elemento león:\\n\", lista)\n",
        "\n",
        "lista.pop()\n",
        "print(\"\\nEliminamos el último elemento:\\n\", lista)\n",
        "\n",
        "del lista[5]\n",
        "print(\"\\nEliminamos el 6to elemento:\\n\", lista)\n",
        "\n",
        "lista.clear()\n",
        "print(\"\\nEliminamos todos los elementos:\\n\", lista)"
      ],
      "metadata": {
        "colab": {
          "base_uri": "https://localhost:8080/"
        },
        "id": "yLbyCfjb-UXE",
        "outputId": "f5b34d55-4861-493a-852c-ba3c044ea23b"
      },
      "id": "yLbyCfjb-UXE",
      "execution_count": null,
      "outputs": [
        {
          "output_type": "stream",
          "name": "stdout",
          "text": [
            "Lista original:\n",
            " ['perro', 'gato', 'tortuga', 'pez', 'hamster']\n",
            "\n",
            "Modificamos el 4to elemento:\n",
            " ['perro', 'gato', 'tortuga', 'ave', 'hamster']\n",
            "\n",
            "Agregamos león al final:\n",
            " ['perro', 'gato', 'tortuga', 'ave', 'hamster', 'león']\n",
            "\n",
            "Agregamos tiburon en la segunda posición:\n",
            " ['perro', 'tiburon', 'gato', 'tortuga', 'ave', 'hamster', 'león']\n",
            "\n",
            "Extendemos la lista original con la otra lista:\n",
            " ['perro', 'tiburon', 'gato', 'tortuga', 'ave', 'hamster', 'león', 'cocodrilo', 'jirafa', 'ratón']\n",
            "\n",
            "Removemos el elemento león:\n",
            " ['perro', 'tiburon', 'gato', 'tortuga', 'ave', 'hamster', 'cocodrilo', 'jirafa', 'ratón']\n",
            "\n",
            "Eliminamos el último elemento:\n",
            " ['perro', 'tiburon', 'gato', 'tortuga', 'ave', 'hamster', 'cocodrilo', 'jirafa']\n",
            "\n",
            "Eliminamos el 6to elemento:\n",
            " ['perro', 'tiburon', 'gato', 'tortuga', 'ave', 'cocodrilo', 'jirafa']\n",
            "\n",
            "Eliminamos todos los elementos:\n",
            " []\n"
          ]
        }
      ]
    },
    {
      "cell_type": "code",
      "source": [
        "lista_numerica = [2,4,7,8,4,6,8,12,56,8,3,76,23,8,5,9,45,23,47,64,3]\n",
        "lista_numerica.sort()\n",
        "print(lista_numerica)"
      ],
      "metadata": {
        "colab": {
          "base_uri": "https://localhost:8080/"
        },
        "id": "DleRHsQGB4yZ",
        "outputId": "dc9a7c96-acad-4453-eb20-c7801ec54f76"
      },
      "id": "DleRHsQGB4yZ",
      "execution_count": null,
      "outputs": [
        {
          "output_type": "stream",
          "name": "stdout",
          "text": [
            "[2, 3, 3, 4, 4, 5, 6, 7, 8, 8, 8, 8, 9, 12, 23, 23, 45, 47, 56, 64, 76]\n"
          ]
        }
      ]
    },
    {
      "cell_type": "code",
      "source": [
        "lista = [\"lunes\", \"Martes\", \"Miercoles\", \"Jueves\", \"Viernes\"]\n",
        "\n",
        "lista_copiada = lista.copy()\n",
        "lista.reverse()\n",
        "\n",
        "print(lista_copiada)\n",
        "print(lista)"
      ],
      "metadata": {
        "colab": {
          "base_uri": "https://localhost:8080/"
        },
        "id": "bOPUSvUHGC76",
        "outputId": "96489a6b-463c-42dc-fafc-740dc392ea97"
      },
      "id": "bOPUSvUHGC76",
      "execution_count": null,
      "outputs": [
        {
          "output_type": "stream",
          "name": "stdout",
          "text": [
            "['lunes', 'Martes', 'Miercoles', 'Jueves', 'Viernes']\n",
            "['Viernes', 'Jueves', 'Miercoles', 'Martes', 'lunes']\n"
          ]
        }
      ]
    },
    {
      "cell_type": "markdown",
      "source": [
        "###Método join"
      ],
      "metadata": {
        "id": "C5tyQNRKGkeY"
      },
      "id": "C5tyQNRKGkeY"
    },
    {
      "cell_type": "markdown",
      "source": [
        "El método join funciona para juntar todos los elementos de una lista en una cadena, separando los elementos con la cadena especificada:\n"
      ],
      "metadata": {
        "id": "GJW5VmAQGurG"
      },
      "id": "GJW5VmAQGurG"
    },
    {
      "cell_type": "code",
      "source": [
        "lista = [\"H\",\"o\",\"l\",\"a\"]\n",
        "cadena1 = \"\".join(lista)\n",
        "cadena2 = \"_\".join(lista)\n",
        "\n",
        "print(cadena1)\n",
        "print(cadena2)"
      ],
      "metadata": {
        "colab": {
          "base_uri": "https://localhost:8080/"
        },
        "id": "w9VKqBvVGdeI",
        "outputId": "314ffb35-fcda-4227-c70a-a29bda46f311"
      },
      "id": "w9VKqBvVGdeI",
      "execution_count": null,
      "outputs": [
        {
          "output_type": "stream",
          "name": "stdout",
          "text": [
            "Hola\n",
            "H_o_l_a\n"
          ]
        }
      ]
    },
    {
      "cell_type": "markdown",
      "source": [
        "### Comprehesion de listas"
      ],
      "metadata": {
        "id": "pYmHnVW9H5ul"
      },
      "id": "pYmHnVW9H5ul"
    },
    {
      "cell_type": "markdown",
      "source": [
        "Los siguientes codigos realizan la misma función:"
      ],
      "metadata": {
        "id": "C2vSiqrjICPj"
      },
      "id": "C2vSiqrjICPj"
    },
    {
      "cell_type": "code",
      "source": [
        "fruits = [\"apple\", \"banana\", \"cherry\", \"kiwi\", \"mango\"]\n",
        "newlist = []\n",
        "\n",
        "for x in fruits:\n",
        "  if \"a\" in x:\n",
        "    newlist.append(x)\n",
        "\n",
        "print(newlist)"
      ],
      "metadata": {
        "colab": {
          "base_uri": "https://localhost:8080/"
        },
        "id": "QMJT6F9MHPwa",
        "outputId": "0826f8b2-a224-4388-cc83-2a6799f40f5c"
      },
      "id": "QMJT6F9MHPwa",
      "execution_count": null,
      "outputs": [
        {
          "output_type": "stream",
          "name": "stdout",
          "text": [
            "['apple', 'banana', 'mango']\n"
          ]
        }
      ]
    },
    {
      "cell_type": "code",
      "source": [
        "fruits = [\"apple\", \"banana\", \"cherry\", \"kiwi\", \"mango\"]\n",
        "\n",
        "newlist = [x for x in fruits if \"a\" in x]\n",
        "\n",
        "print(newlist)"
      ],
      "metadata": {
        "colab": {
          "base_uri": "https://localhost:8080/"
        },
        "id": "syYFkoYAIN2d",
        "outputId": "8942b7ac-eb72-4c57-f04b-8046585264db"
      },
      "id": "syYFkoYAIN2d",
      "execution_count": null,
      "outputs": [
        {
          "output_type": "stream",
          "name": "stdout",
          "text": [
            "['apple', 'banana', 'mango']\n"
          ]
        }
      ]
    },
    {
      "cell_type": "markdown",
      "source": [
        "### Métodos de los diccionarios"
      ],
      "metadata": {
        "id": "kZyY1PytXwFa"
      },
      "id": "kZyY1PytXwFa"
    },
    {
      "cell_type": "code",
      "source": [
        "diccionario = {\n",
        "    \"Nombres\": \"Jorge Ivan\",\n",
        "    \"Apellidos\": \"Vazquez Rocha\",\n",
        "    \"Edad\" : 27,\n",
        "    \"Cumpleaños\": \"11 de Diciembre\"\n",
        "}"
      ],
      "metadata": {
        "id": "G3Glt3USX17r"
      },
      "id": "G3Glt3USX17r",
      "execution_count": null,
      "outputs": []
    },
    {
      "cell_type": "code",
      "source": [
        "print(diccionario)"
      ],
      "metadata": {
        "colab": {
          "base_uri": "https://localhost:8080/"
        },
        "id": "wkwC6_6Yp3cf",
        "outputId": "1920e49f-be46-426c-be3a-7aac16addaa4"
      },
      "id": "wkwC6_6Yp3cf",
      "execution_count": null,
      "outputs": [
        {
          "output_type": "stream",
          "name": "stdout",
          "text": [
            "{'Nombres': 'Jorge Ivan', 'Apellidos': 'Vazquez Rocha', 'Edad': 27, 'Cumpleaños': '11 de Diciembre'}\n"
          ]
        }
      ]
    },
    {
      "cell_type": "code",
      "source": [
        "#Podemos acceder a los valores a travéz de la llave\n",
        "print(diccionario[\"Nombres\"])"
      ],
      "metadata": {
        "colab": {
          "base_uri": "https://localhost:8080/"
        },
        "id": "fN2T5h68rk91",
        "outputId": "9e6936ec-bf5c-4f7d-86a9-d31325cbe133"
      },
      "id": "fN2T5h68rk91",
      "execution_count": null,
      "outputs": [
        {
          "output_type": "stream",
          "name": "stdout",
          "text": [
            "Jorge Ivan\n"
          ]
        }
      ]
    },
    {
      "cell_type": "code",
      "source": [
        "#El método keys devuelve las llaves del diccionario\n",
        "llaves = diccionario.keys()\n",
        "print(llaves)\n",
        "\n",
        "#El método values devuelve los valores del dicionario\n",
        "valores = diccionario.values()\n",
        "print(valores)\n",
        "\n",
        "#El método items devuelve las parejas llave-valor\n",
        "llave_valor = diccionario.items()\n",
        "print(llave_valor)"
      ],
      "metadata": {
        "colab": {
          "base_uri": "https://localhost:8080/"
        },
        "id": "w9eOOc7SqLrL",
        "outputId": "a20bf0b9-a65d-41b3-ef97-411bf5f8b8b7"
      },
      "id": "w9eOOc7SqLrL",
      "execution_count": null,
      "outputs": [
        {
          "output_type": "stream",
          "name": "stdout",
          "text": [
            "dict_keys(['Nombres', 'Apellidos', 'Edad', 'Cumpleaños'])\n",
            "dict_values(['Jorge Ivan', 'Vazquez Rocha', 27, '11 de Diciembre'])\n",
            "dict_items([('Nombres', 'Jorge Ivan'), ('Apellidos', 'Vazquez Rocha'), ('Edad', 27), ('Cumpleaños', '11 de Diciembre')])\n"
          ]
        }
      ]
    },
    {
      "cell_type": "code",
      "source": [
        "#Podemos transformar estos datos a una lista y trabajar con ellos\n",
        "lista_llaves = list(llaves)\n",
        "lista_valores = list(valores)\n",
        "lista_items = list(llave_valor)\n",
        "\n",
        "print(lista_llaves)\n",
        "print(lista_valores)\n",
        "print(lista_items)"
      ],
      "metadata": {
        "colab": {
          "base_uri": "https://localhost:8080/"
        },
        "id": "x3pGsFOVrKj9",
        "outputId": "344d701e-e4fe-4c57-b491-b2ac1f5d85ac"
      },
      "id": "x3pGsFOVrKj9",
      "execution_count": null,
      "outputs": [
        {
          "output_type": "stream",
          "name": "stdout",
          "text": [
            "['Nombres', 'Apellidos', 'Edad', 'Cumpleaños']\n",
            "['Jorge Ivan', 'Vazquez Rocha', 27, '11 de Diciembre']\n",
            "[('Nombres', 'Jorge Ivan'), ('Apellidos', 'Vazquez Rocha'), ('Edad', 27), ('Cumpleaños', '11 de Diciembre')]\n"
          ]
        }
      ]
    },
    {
      "cell_type": "code",
      "source": [
        "#Por ejemplo podemos mostrar el diccionario de forma mas elegante usando la lista de llaves y accediendo a sus valores en el diccionario\n",
        "\n",
        "for llave in lista_llaves:\n",
        "  print(f\"{llave} = {diccionario[llave]}\")"
      ],
      "metadata": {
        "colab": {
          "base_uri": "https://localhost:8080/"
        },
        "id": "AW4b-ELvr7Em",
        "outputId": "0eee2705-57c1-415c-a2eb-d7ff88261251"
      },
      "id": "AW4b-ELvr7Em",
      "execution_count": null,
      "outputs": [
        {
          "output_type": "stream",
          "name": "stdout",
          "text": [
            "Nombres = Jorge Ivan\n",
            "Apellidos = Vazquez Rocha\n",
            "Edad = 27\n",
            "Cumpleaños = 11 de Diciembre\n"
          ]
        }
      ]
    },
    {
      "cell_type": "code",
      "source": [
        "#Tambien podemos mostrarlos usando la lista de items\n",
        "\n",
        "for llave, valor in lista_items:\n",
        "  print(f\"{llave} = {valor}\")"
      ],
      "metadata": {
        "colab": {
          "base_uri": "https://localhost:8080/"
        },
        "id": "XOxCzBowsfGV",
        "outputId": "1d3cef5c-d20e-4e28-cb4a-de83f754d7e4"
      },
      "id": "XOxCzBowsfGV",
      "execution_count": null,
      "outputs": [
        {
          "output_type": "stream",
          "name": "stdout",
          "text": [
            "Nombres = Jorge Ivan\n",
            "Apellidos = Vazquez Rocha\n",
            "Edad = 27\n",
            "Cumpleaños = 11 de Diciembre\n"
          ]
        }
      ]
    },
    {
      "cell_type": "markdown",
      "source": [
        "##**Ejercicios** completos"
      ],
      "metadata": {
        "id": "mIZ8VZ87M30E"
      },
      "id": "mIZ8VZ87M30E"
    },
    {
      "cell_type": "markdown",
      "source": [
        "**Lista de Compras:** Crea un programa que permita al usuario mantener una lista de compras. El usuario puede agregar, eliminar y ver los elementos de la lista. Usa una lista para almacenar los elementos y un bucle while para que el usuario realice múltiples acciones."
      ],
      "metadata": {
        "id": "4VUCPEZ-M_NX"
      },
      "id": "4VUCPEZ-M_NX"
    },
    {
      "cell_type": "code",
      "source": [
        "# Aqui ingresa el código respuesta del ejercicio"
      ],
      "metadata": {
        "id": "0uKeOv7AM2uS"
      },
      "id": "0uKeOv7AM2uS",
      "execution_count": null,
      "outputs": []
    },
    {
      "cell_type": "markdown",
      "source": [
        "**Diccionario de Contactos:** Diseña un diccionario que almacene contactos. Cada contacto debe tener un nombre y un número de teléfono. El programa debe permitir al usuario agregar nuevos contactos, buscar contactos por nombre y mostrar todos los contactos almacenados."
      ],
      "metadata": {
        "id": "7BQ4NFldNMn7"
      },
      "id": "7BQ4NFldNMn7"
    },
    {
      "cell_type": "code",
      "source": [
        "# Aqui ingresa el código respuesta del ejercicio"
      ],
      "metadata": {
        "id": "4IVFaTu8NWQH"
      },
      "id": "4IVFaTu8NWQH",
      "execution_count": null,
      "outputs": []
    },
    {
      "cell_type": "markdown",
      "source": [
        "**Generador de Contraseñas:** Crea un programa que genere contraseñas seguras de forma aleatoria. Permite al usuario especificar la longitud deseada y qué tipos de caracteres debe incluir (letras mayúsculas, minúsculas, números y símbolos)."
      ],
      "metadata": {
        "id": "kDzjJ0LhNYfS"
      },
      "id": "kDzjJ0LhNYfS"
    },
    {
      "cell_type": "code",
      "source": [
        "# Aqui ingresa el código respuesta del ejercicio"
      ],
      "metadata": {
        "id": "5HUmOLpqNfD5"
      },
      "id": "5HUmOLpqNfD5",
      "execution_count": null,
      "outputs": []
    },
    {
      "cell_type": "markdown",
      "source": [
        "**Carrera de Tortugas:** Simula una carrera de tortugas utilizando listas y bucles. Cada tortuga avanza una distancia aleatoria en cada turno. Muestra el progreso de las tortugas en pantalla y determina la ganadora."
      ],
      "metadata": {
        "id": "9A4njGUqNnix"
      },
      "id": "9A4njGUqNnix"
    },
    {
      "cell_type": "code",
      "source": [
        "# Aqui ingresa el código respuesta del ejercicio"
      ],
      "metadata": {
        "id": "9B5cF-ihNqGk"
      },
      "id": "9B5cF-ihNqGk",
      "execution_count": null,
      "outputs": []
    },
    {
      "cell_type": "markdown",
      "source": [
        "**Simulador de Banco:** Implementa un programa que simule las operaciones bancarias, como depósitos, retiros y consultas de saldo. Utiliza funciones para realizar estas operaciones y lleva un registro de las cuentas de los clientes"
      ],
      "metadata": {
        "id": "LaNpEAjBNyKm"
      },
      "id": "LaNpEAjBNyKm"
    },
    {
      "cell_type": "code",
      "source": [
        "# Aqui ingresa el código respuesta del ejercicio"
      ],
      "metadata": {
        "id": "Gw0fuIlPNz4K"
      },
      "id": "Gw0fuIlPNz4K",
      "execution_count": null,
      "outputs": []
    }
  ],
  "metadata": {
    "colab": {
      "provenance": [],
      "collapsed_sections": [
        "zcrb7SjEM3wF",
        "W1AHzUZQYUUa",
        "h33Mx1a8ZeMM",
        "d4g0LGc_F3us",
        "WxsT6KFHnmiZ",
        "J_0cSW6yo2za",
        "qnAfZ6rAozba",
        "IHkKdxdCAp_9",
        "WnvnAF-xB300",
        "DAj7gNQKBZkV",
        "_BM4LK74C6gJ",
        "11blZGy_DJmC",
        "tH556cn7Df6K",
        "myVBe66SFPm4",
        "Q8L4F5D3iiEa",
        "Cf350z6cjVoq",
        "A3Wj_Tv-jm86",
        "Ozx0DVtqj5IM",
        "L9EqbBJ6kkLE",
        "eZwEgsDyxRtM",
        "qh_jGn7SKlyn",
        "m3wJFcnsOnAj",
        "Fkfj1hpowDKO",
        "nAQVrQ4ow9Pa",
        "j4h22eP2q618",
        "el1Nqdlmsrv6",
        "v3VhPcBpyrVM",
        "C5tyQNRKGkeY",
        "pYmHnVW9H5ul",
        "kZyY1PytXwFa",
        "mIZ8VZ87M30E"
      ]
    },
    "kernelspec": {
      "display_name": "Python 3 (ipykernel)",
      "language": "python",
      "name": "python3"
    },
    "language_info": {
      "codemirror_mode": {
        "name": "ipython",
        "version": 3
      },
      "file_extension": ".py",
      "mimetype": "text/x-python",
      "name": "python",
      "nbconvert_exporter": "python",
      "pygments_lexer": "ipython3",
      "version": "3.11.4"
    },
    "toc": {
      "base_numbering": 0
    }
  },
  "nbformat": 4,
  "nbformat_minor": 5
}