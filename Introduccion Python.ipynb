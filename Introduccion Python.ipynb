{
  "cells": [
    {
      "cell_type": "markdown",
      "id": "2ffd23fb-5f22-4bcc-9ad4-150e8b887355",
      "metadata": {
        "id": "2ffd23fb-5f22-4bcc-9ad4-150e8b887355"
      },
      "source": [
        "# Introducción al lenguaje de programacion *Python*\n"
      ]
    },
    {
      "cell_type": "markdown",
      "id": "zcrb7SjEM3wF",
      "metadata": {
        "id": "zcrb7SjEM3wF"
      },
      "source": [
        "## Tipos de datos primitivos"
      ]
    },
    {
      "cell_type": "code",
      "execution_count": 1,
      "id": "RSJInRpBM-SA",
      "metadata": {
        "id": "RSJInRpBM-SA"
      },
      "outputs": [
        {
          "name": "stdout",
          "output_type": "stream",
          "text": [
            "\n",
            "entero\n",
            "  Tipo: <class 'int'>\n",
            "  Valor: 1\n",
            "\n",
            "flotante\n",
            "  Tipo: <class 'float'>\n",
            "  Valor: 2.5\n",
            "\n",
            "cadena\n",
            "  Tipo: <class 'str'>\n",
            "  Valor: hola mundo\n",
            "\n",
            "booleano\n",
            "  Tipo: <class 'bool'>\n",
            "  Valor: True\n",
            "\n"
          ]
        }
      ],
      "source": [
        "entero = 1\n",
        "flotante = 2.5\n",
        "cadena = \"hola mundo\"\n",
        "booleano = True\n",
        "\n",
        "print(f\"\"\"\n",
        "entero\n",
        "  Tipo: {type(entero)}\n",
        "  Valor: {entero}\n",
        "\n",
        "flotante\n",
        "  Tipo: {type(flotante)}\n",
        "  Valor: {flotante}\n",
        "\n",
        "cadena\n",
        "  Tipo: {type(cadena)}\n",
        "  Valor: {cadena}\n",
        "\n",
        "booleano\n",
        "  Tipo: {type(booleano)}\n",
        "  Valor: {booleano}\n",
        "\"\"\")"
      ]
    },
    {
      "cell_type": "markdown",
      "id": "W1AHzUZQYUUa",
      "metadata": {
        "id": "W1AHzUZQYUUa"
      },
      "source": [
        "## Entrada y salida básica de datos"
      ]
    },
    {
      "cell_type": "code",
      "execution_count": 2,
      "id": "vZodfJBQNQjx",
      "metadata": {
        "id": "vZodfJBQNQjx"
      },
      "outputs": [],
      "source": [
        "nombre = input(\"Ingrese su nombre: \")\n",
        "edad = int( input(\"Ingrese su edad: \") )"
      ]
    },
    {
      "cell_type": "code",
      "execution_count": 3,
      "id": "pq5JHeIkYaRW",
      "metadata": {
        "id": "pq5JHeIkYaRW"
      },
      "outputs": [
        {
          "name": "stdout",
          "output_type": "stream",
          "text": [
            "Hola Jorge Tienes 27 años.\n"
          ]
        }
      ],
      "source": [
        "print(\"Hola\", nombre, \"Tienes\", edad, \"años.\")"
      ]
    },
    {
      "cell_type": "code",
      "execution_count": 4,
      "id": "F28qESMyYhSc",
      "metadata": {
        "id": "F28qESMyYhSc"
      },
      "outputs": [
        {
          "name": "stdout",
          "output_type": "stream",
          "text": [
            "Hola Jorge. Tienes 27 años.\n"
          ]
        }
      ],
      "source": [
        "print(f\"Hola {nombre}. Tienes {edad} años.\")"
      ]
    },
    {
      "cell_type": "markdown",
      "id": "h33Mx1a8ZeMM",
      "metadata": {
        "id": "h33Mx1a8ZeMM"
      },
      "source": [
        "## **Ejercicios** entrada y salida básica de datos"
      ]
    },
    {
      "cell_type": "markdown",
      "id": "0QW5GwhTZlL5",
      "metadata": {
        "id": "0QW5GwhTZlL5"
      },
      "source": [
        "**Ejercicio 1**: Cálculo del Índice de Masa Corporal (IMC)\n",
        "*  Solicita al usuario que ingrese su peso (en kilogramos) y su altura (en\n",
        "metros).\n",
        "* Calcula el Índice de Masa Corporal (IMC) utilizando la fórmula: IMC = peso / altura^2.\n",
        "* Muestra el resultado del IMC con un mensaje descriptivo, por ejemplo, \"Tu IMC es: 22.3\".\n"
      ]
    },
    {
      "cell_type": "code",
      "execution_count": 5,
      "id": "jrM1jKU8Zi59",
      "metadata": {
        "id": "jrM1jKU8Zi59"
      },
      "outputs": [
        {
          "name": "stdout",
          "output_type": "stream",
          "text": [
            "Tu IMC es de:  24.221453287197235\n"
          ]
        }
      ],
      "source": [
        "peso = float(input(\"Ingresa tu peso en kilogramos: \"))\n",
        "altura = float(input(\"Ingresa tu altura en metros: \"))\n",
        "IMC = peso / altura ** 2\n",
        "print(\"Tu IMC es de: \",IMC)"
      ]
    },
    {
      "cell_type": "markdown",
      "id": "1d2S_odnaA9J",
      "metadata": {
        "id": "1d2S_odnaA9J"
      },
      "source": [
        "**Ejercicio 2**: Conversión de Temperatura\n",
        "* Pide al usuario que ingrese una temperatura en grados Celsius.\n",
        "* Convierte la temperatura a grados Fahrenheit utilizando la fórmula: Fahrenheit = Celsius * 9/5 + 32.\n",
        "* Muestra el resultado de la conversión con un mensaje adecuado.\n"
      ]
    },
    {
      "cell_type": "code",
      "execution_count": 7,
      "id": "MklZhX6AaFUc",
      "metadata": {
        "id": "MklZhX6AaFUc"
      },
      "outputs": [
        {
          "name": "stdout",
          "output_type": "stream",
          "text": [
            "La temperatura en grados Fahrenheit es de: 73.4 grados\n"
          ]
        }
      ],
      "source": [
        "gradosC = float(input(\"Ingresa el valor de la temperatura en grados celsius: \"))\n",
        "gradosF = gradosC*9/5+32\n",
        "print(f\"La temperatura en grados Fahrenheit es de: {gradosF} grados\")"
      ]
    },
    {
      "cell_type": "markdown",
      "id": "1emMMN4blWTX",
      "metadata": {
        "id": "1emMMN4blWTX"
      },
      "source": [
        "**Ejercicio 3**: Interés Simple\n",
        "* Pide al usuario que ingrese el monto de un préstamo, la tasa de interés anual y el número de años.\n",
        "* Calcula el interés simple utilizando la fórmula: Interés = monto * tasa * años.\n",
        "* Muestra el interés total pagado al final de los años.\n"
      ]
    },
    {
      "cell_type": "code",
      "execution_count": 9,
      "id": "88WVtk9plZvU",
      "metadata": {
        "id": "88WVtk9plZvU"
      },
      "outputs": [
        {
          "name": "stdout",
          "output_type": "stream",
          "text": [
            "El prestamo de $1000.0 genera un interes de $300.0\n"
          ]
        }
      ],
      "source": [
        "prestamo = float(input(\"Ingresa el monto del prestamo en pesos: \"))\n",
        "tasa = float(input(\"Ingresa la tasa anual en porcentaje (1-100): \"))\n",
        "años = int(input(\"Ingresa el número de años del prestamo: \"))\n",
        "interes = prestamo * tasa /100 * años\n",
        "print(f\"El prestamo de ${prestamo} genera un interes de ${interes}\")"
      ]
    },
    {
      "cell_type": "markdown",
      "id": "gE81EJ4Xljg5",
      "metadata": {
        "id": "gE81EJ4Xljg5"
      },
      "source": [
        "**Ejercicio 4**: Conversión de Monedas\n",
        "* Pregunta al usuario cuántos dólares tiene.\n",
        "* Convierte esa cantidad de dólares a euros utilizando una tasa de cambio fija (por ejemplo, 1 dólar = 0.85 euros).\n",
        "* Muestra la cantidad de euros obtenidos.\n"
      ]
    },
    {
      "cell_type": "code",
      "execution_count": 14,
      "id": "x3aSc7wZlmaA",
      "metadata": {
        "id": "x3aSc7wZlmaA"
      },
      "outputs": [
        {
          "name": "stdout",
          "output_type": "stream",
          "text": [
            "1.0 dolares equivalen a 0.85 euros.\n"
          ]
        }
      ],
      "source": [
        "dolares = float(input(\"Ingresa cuantos dolares tienes: \"))\n",
        "euros =  dolares * 0.85\n",
        "print(f\"{dolares} dolares equivalen a {euros} euros.\")"
      ]
    },
    {
      "cell_type": "markdown",
      "id": "7zkMNjRcluV7",
      "metadata": {
        "id": "7zkMNjRcluV7"
      },
      "source": [
        "**Ejercicio 5**: Conversión de Días a Años y días\n",
        "* Pide al usuario que ingrese un número de días.\n",
        "* Convierte el número de días ingresado a años y días.\n",
        "* Muestra el resultado al usuario.\n"
      ]
    },
    {
      "cell_type": "code",
      "execution_count": 4,
      "id": "tjh-D7tulx3o",
      "metadata": {
        "id": "tjh-D7tulx3o"
      },
      "outputs": [
        {
          "name": "stdout",
          "output_type": "stream",
          "text": [
            "En 38475847465 dias caben 105413280 años y 265 dias.\n"
          ]
        }
      ],
      "source": [
        "totalDias = int(input(\"Ingresa el total de dias: \"))\n",
        "años = totalDias // 365\n",
        "dias = totalDias % 365\n",
        "print(f\"En {totalDias} dias caben {años} años y {dias} dias.\")"
      ]
    },
    {
      "cell_type": "markdown",
      "id": "qhHa7HkImRmv",
      "metadata": {
        "id": "qhHa7HkImRmv"
      },
      "source": [
        "**Ejercicio 6**: Cálculo de Edad\n",
        "* Pide al usuario que ingrese su año de nacimiento.\n",
        "* Calcula y muestra la edad aproximada del usuario.\n"
      ]
    },
    {
      "cell_type": "code",
      "execution_count": 17,
      "id": "eu3SDClxmWR5",
      "metadata": {
        "id": "eu3SDClxmWR5"
      },
      "outputs": [
        {
          "name": "stdout",
          "output_type": "stream",
          "text": [
            "Tu edad actual aproximada es de 28 años.\n"
          ]
        }
      ],
      "source": [
        "añoUsuario = int(input(\"Ingresa tu año de nacimiento: \"))\n",
        "añoActual = int(input(\"Ingresa el año actual: \"))\n",
        "edad = añoActual - añoUsuario\n",
        "print(f\"Tu edad actual aproximada es de {edad} años.\")"
      ]
    },
    {
      "cell_type": "markdown",
      "id": "5J7UdsB4nBkj",
      "metadata": {
        "id": "5J7UdsB4nBkj"
      },
      "source": [
        "**Ejercicio especial 7**: Historia Loca\n",
        "* Pide al usuario que ingrese diferentes palabras (sustantivos, verbos, adjetivos, etc.).\n",
        "* Utiliza esas palabras para crear una historia loca y entretenida.\n",
        "* Muestra la historia completa con las palabras del usuario integradas en ella.\n"
      ]
    },
    {
      "cell_type": "code",
      "execution_count": 35,
      "id": "jSRGufccnERr",
      "metadata": {
        "id": "jSRGufccnERr"
      },
      "outputs": [
        {
          "name": "stdout",
          "output_type": "stream",
          "text": [
            "Había una vez un peruano timorato que soñó que se comía su zapato, despertó temblando como un pato y cumplió su sueño después de un rato.\n"
          ]
        }
      ],
      "source": [
        "sustantivo1 = input(\"Ingresa un sustantivo: \")\n",
        "verbo = input(\"Ingresa un verbo en copreterito: \")\n",
        "objeto = input(\"Ingresa un objeto: \")\n",
        "sustantivo2 = input(\"Ingresa un segundo sustantivo: \")\n",
        "print(f\"Había una vez un peruano {sustantivo1} que soñó que se {verbo} su {objeto}, despertó temblando como un {sustantivo2} y cumplió su sueño después de un rato.\")"
      ]
    },
    {
      "cell_type": "markdown",
      "id": "p7VdinW0nKL0",
      "metadata": {
        "id": "p7VdinW0nKL0"
      },
      "source": [
        "**Ejercicio especial 8**: Calculadora de Índice de Felicidad\n",
        "* Crea una encuesta ficticia donde preguntas sobre diferentes aspectos de la vida (amigos, familia, trabajo, etc.).\n",
        "* Pide al usuario que califique cada aspecto con un número del 1 al 10.\n",
        "* Calcula un índice de felicidad basado en las calificaciones y muestra el resultado.\n"
      ]
    },
    {
      "cell_type": "code",
      "execution_count": 22,
      "id": "5Ip3xhzdnOUa",
      "metadata": {
        "id": "5Ip3xhzdnOUa"
      },
      "outputs": [
        {
          "name": "stdout",
          "output_type": "stream",
          "text": [
            "Dicen que en la vida necesitamos de todas estas cosas para ser felices, no es absoluto pero podriamos decir que tu indice de felicidad es del 66.66666666666667%.\n"
          ]
        }
      ],
      "source": [
        "familia = int(input(\"Del 1 al 10 como calificarías tu relación con tu familia: \"))\n",
        "pareja = int(input(\"Del 1 al 10 como calificarías tu relación con tu pareja: \"))\n",
        "amigos = int(input(\"Del 1 al 10 como calificarías tu relación con tus amigos: \"))\n",
        "trabajo = int(input(\"Del 1 al 10 como calificarías tu relación con tu trabajo: \"))\n",
        "dinero = int(input(\"Del 1 al 10 como calificarías tu relación con el dinero: \"))\n",
        "hobbies = int(input(\"Del 1 al 10 que tanto disfrutas de tus hobbies: \"))\n",
        "\n",
        "indice_felicidad = (familia + pareja + amigos + trabajo + dinero + hobbies) *100/60\n",
        "\n",
        "print(f\"Dicen que en la vida necesitamos de todas estas cosas para ser felices, no es absoluto pero podriamos decir que tu indice de felicidad es del {indice_felicidad}%.\")\n"
      ]
    },
    {
      "cell_type": "markdown",
      "id": "d4g0LGc_F3us",
      "metadata": {
        "id": "d4g0LGc_F3us"
      },
      "source": [
        "## Estructuras de datos: listas, tuplas y diccionarios"
      ]
    },
    {
      "cell_type": "markdown",
      "id": "bO-AyAFuGDSw",
      "metadata": {
        "id": "bO-AyAFuGDSw"
      },
      "source": [
        "### Listas"
      ]
    },
    {
      "cell_type": "code",
      "execution_count": null,
      "id": "JP8P2zHkF7nQ",
      "metadata": {
        "colab": {
          "base_uri": "https://localhost:8080/"
        },
        "id": "JP8P2zHkF7nQ",
        "outputId": "ab5bcb63-ddaa-4a7e-df11-fd757a3491fa"
      },
      "outputs": [
        {
          "name": "stdout",
          "output_type": "stream",
          "text": [
            "3\n",
            "[1, 10, 3, 4, 5]\n"
          ]
        }
      ],
      "source": [
        "# Crear una lista de números enteros\n",
        "numeros = [1, 2, 3, 4, 5]\n",
        "\n",
        "# Acceder a un elemento de la lista por índice\n",
        "print(numeros[2])\n",
        "\n",
        "# Modificar un elemento de la lista\n",
        "numeros[1] = 10\n",
        "\n",
        "# Mostrar todos los elementos de la lista\n",
        "print(numeros)"
      ]
    },
    {
      "cell_type": "markdown",
      "id": "iETxSPaDGGNw",
      "metadata": {
        "id": "iETxSPaDGGNw"
      },
      "source": [
        "### Tuplas"
      ]
    },
    {
      "cell_type": "code",
      "execution_count": null,
      "id": "FovwN4wkGHTS",
      "metadata": {
        "colab": {
          "base_uri": "https://localhost:8080/"
        },
        "id": "FovwN4wkGHTS",
        "outputId": "71aaee18-96aa-4a8f-f73b-f079c2757f21"
      },
      "outputs": [
        {
          "name": "stdout",
          "output_type": "stream",
          "text": [
            "verde\n",
            "('rojo', 'verde', 'azul')\n"
          ]
        }
      ],
      "source": [
        "# Crear una tupla de colores\n",
        "colores = ('rojo', 'verde', 'azul')\n",
        "\n",
        "# Acceder a un elemento de la tupla por índice\n",
        "print(colores[1])\n",
        "\n",
        "# Intentar modificar un elemento de la tupla (esto generará un error)\n",
        "# colores[0] = 'amarillo'\n",
        "\n",
        "# Mostrar todos los elementos de la tupla\n",
        "print(colores)"
      ]
    },
    {
      "cell_type": "markdown",
      "id": "IrcKPGk1GH-v",
      "metadata": {
        "id": "IrcKPGk1GH-v"
      },
      "source": [
        "### Diccionarios"
      ]
    },
    {
      "cell_type": "code",
      "execution_count": null,
      "id": "b_28yiZIGJa8",
      "metadata": {
        "colab": {
          "base_uri": "https://localhost:8080/"
        },
        "id": "b_28yiZIGJa8",
        "outputId": "48b70e13-6ff5-4ccb-b169-657ff281f013"
      },
      "outputs": [
        {
          "name": "stdout",
          "output_type": "stream",
          "text": [
            "{'nombre': 'Ana', 'edad': 30, 'ciudad': 'Madrid'}\n",
            "Ana\n",
            "{'nombre': 'Ana', 'edad': 31, 'ciudad': 'Madrid', 'profesion': 'Ingeniera'}\n"
          ]
        }
      ],
      "source": [
        "# Crear un diccionario de información de una persona\n",
        "persona = {\n",
        "    'nombre': 'Ana',\n",
        "    'edad': 30,\n",
        "    'ciudad': 'Madrid'\n",
        "}\n",
        "\n",
        "# Mostrar todos los elementos del diccionario\n",
        "print(persona)\n",
        "\n",
        "# Acceder a un valor por su clave\n",
        "print(persona['nombre'])\n",
        "\n",
        "# Agregar un nuevo par clave-valor al diccionario\n",
        "persona['profesion'] = 'Ingeniera'\n",
        "\n",
        "# Modificar el valor de una clave existente\n",
        "persona['edad'] = 31\n",
        "\n",
        "# Mostrar todos los elementos del diccionario\n",
        "print(persona)"
      ]
    },
    {
      "cell_type": "markdown",
      "id": "WxsT6KFHnmiZ",
      "metadata": {
        "id": "WxsT6KFHnmiZ"
      },
      "source": [
        "## Sentencias condicionales"
      ]
    },
    {
      "cell_type": "code",
      "execution_count": 25,
      "id": "mhtIYBOMo-PF",
      "metadata": {
        "id": "mhtIYBOMo-PF"
      },
      "outputs": [
        {
          "name": "stdout",
          "output_type": "stream",
          "text": [
            "Casi adivinas\n"
          ]
        }
      ],
      "source": [
        "letra = input(\"Adivina la letra: \")\n",
        "if letra == \"a\":\n",
        "  print(\"Adivinaste\")\n",
        "elif letra == \"A\":\n",
        "  print(\"Casi adivinas\")\n",
        "else:\n",
        "  print(\"No adivinaste\")"
      ]
    },
    {
      "cell_type": "markdown",
      "id": "J_0cSW6yo2za",
      "metadata": {
        "id": "J_0cSW6yo2za"
      },
      "source": [
        "## **Ejercicios** sentencias condicionales"
      ]
    },
    {
      "cell_type": "markdown",
      "id": "C1zlDxwhnuRc",
      "metadata": {
        "id": "C1zlDxwhnuRc"
      },
      "source": [
        "**Ejercicio 1**: Validación de Nota\n",
        "* Pide al usuario que ingrese una nota entre 0 y 10.\n",
        "* Verifica si la nota es válida y muestra un mensaje de aprobación o reprobación.\n"
      ]
    },
    {
      "cell_type": "code",
      "execution_count": 29,
      "id": "_0S_YAPToi_9",
      "metadata": {
        "id": "_0S_YAPToi_9"
      },
      "outputs": [
        {
          "name": "stdout",
          "output_type": "stream",
          "text": [
            "Reprobaste\n"
          ]
        }
      ],
      "source": [
        "nota = float(input(\"Ingresa tu nota (debe estar entre 0 y 10): \"))\n",
        "if nota<0 or nota>10:\n",
        "    print(\"Nota no valida\")\n",
        "elif nota>=6:\n",
        "    print(\"Aprobaste\")\n",
        "else:\n",
        "    print(\"Reprobaste\")"
      ]
    },
    {
      "cell_type": "markdown",
      "id": "9MnLGF1PoJP0",
      "metadata": {
        "id": "9MnLGF1PoJP0"
      },
      "source": [
        "\n",
        "**Ejercicio 2**: Determinar Número Par o Impar\n",
        "* Pide al usuario que ingrese un número entero.\n",
        "* Muestra un mensaje indicando si el número es par o impar."
      ]
    },
    {
      "cell_type": "code",
      "execution_count": 33,
      "id": "95TbrBITnpEc",
      "metadata": {
        "id": "95TbrBITnpEc"
      },
      "outputs": [
        {
          "name": "stdout",
          "output_type": "stream",
          "text": [
            "0 es par\n"
          ]
        }
      ],
      "source": [
        "numero = int(input(\"Ingresa un número: \"))\n",
        "\n",
        "if numero%2 == 0:\n",
        "    print(f\"{numero} es par\")\n",
        "else:\n",
        "    print(f\"{numero} es impar\")"
      ]
    },
    {
      "cell_type": "markdown",
      "id": "TGm8k7ZOoNeO",
      "metadata": {
        "id": "TGm8k7ZOoNeO"
      },
      "source": [
        "**Ejercicio 3**: Calculadora de Índice de Masa Corporal (IMC)\n",
        "* Pide al usuario que ingrese su peso en kilogramos y su altura en metros.\n",
        "* Calcula el IMC y muestra una categoría que indique si el usuario está bajo peso, normal, sobrepeso, etc."
      ]
    },
    {
      "cell_type": "code",
      "execution_count": 34,
      "id": "j3424GZLoRTd",
      "metadata": {
        "id": "j3424GZLoRTd"
      },
      "outputs": [
        {
          "name": "stdout",
          "output_type": "stream",
          "text": [
            "Unsted se encuentra dentro del rango de peso normal o saludable.\n"
          ]
        }
      ],
      "source": [
        "\"\"\"\n",
        "Si su IMC es menos de 18.5, se encuentra dentro del rango de peso insuficiente.\n",
        "Si su IMC es entre 18.5 y 24.9, se encuentra dentro del rango de peso normal o saludable.\n",
        "Si su IMC es entre 25.0 y 29.9, se encuentra dentro del rango de sobrepeso.\n",
        "\"\"\"\n",
        "\n",
        "peso = float(input(\"Ingresa tu peso en kilogramos: \"))\n",
        "altura = float(input(\"Ingresa tu altura en metros: \"))\n",
        "IMC = peso / altura ** 2\n",
        "\n",
        "if IMC < 18.5:\n",
        "    print(\"Unsted se encuentra dentro del rango de peso insuficiente.\")\n",
        "elif IMC >= 18.5 and IMC < 25:\n",
        "    print(\"Unsted se encuentra dentro del rango de peso normal o saludable.\")\n",
        "elif IMC >= 25 and IMC <30:\n",
        "    print(\"Usted se encuentra dentro del rango de sobrepeso.\")\n",
        "else:\n",
        "    print(\"Datos no válidos\")"
      ]
    },
    {
      "cell_type": "markdown",
      "id": "Wq2DmKzcoRxf",
      "metadata": {
        "id": "Wq2DmKzcoRxf"
      },
      "source": [
        "**Ejercicio 4**: Calculadora Simple\n",
        "* Pide al usuario que ingrese dos números y una elija una operación (+, -, *, /).\n",
        "* Realiza la operación seleccionada y muestra el resultado."
      ]
    },
    {
      "cell_type": "code",
      "execution_count": 3,
      "id": "bb102n_UoSS5",
      "metadata": {
        "id": "bb102n_UoSS5"
      },
      "outputs": [
        {
          "name": "stdout",
          "output_type": "stream",
          "text": [
            "\n",
            "Ingresa la opción correspondiente a la operación que deseas realizar:\n",
            "      1.-Suma\n",
            "      2.-Resta\n",
            "      3.-Multiplicación\n",
            "      4.-División\n",
            "\n",
            "La suma de 1.0 y 1.0 es 2.0.\n"
          ]
        }
      ],
      "source": [
        "num1 = float(input(\"Ingresa un número: \"))\n",
        "num2 = float(input(\"Ingresa otro número: \"))\n",
        "print(\"\"\"\n",
        "Ingresa la opción correspondiente a la operación que deseas realizar:\n",
        "      1.-Suma\n",
        "      2.-Resta\n",
        "      3.-Multiplicación\n",
        "      4.-División\n",
        "\"\"\")\n",
        "operacion = input(\"\")\n",
        "\n",
        "if operacion == \"1\": \n",
        "    print(f\"La suma de {num1} y {num2} es {num1+num2}.\")\n",
        "elif operacion == \"2\": \n",
        "    print(f\"La resta de {num1} y {num2} es {num1-num2}.\")\n",
        "elif operacion == \"3\": \n",
        "    print(f\"El producto de {num1} y {num2} es {num1*num2}.\")\n",
        "elif operacion == \"4\" and num2==0: \n",
        "    print(f\"No es posible dividir por cero.\")\n",
        "elif operacion == \"4\" and num2!=0: \n",
        "    print(f\"La division de {num1} entre {num2} es {num1/num2}.\")\n",
        "else: \n",
        "    print(\"Operación no valida\")\n"
      ]
    },
    {
      "cell_type": "markdown",
      "id": "38QiotfyoU5u",
      "metadata": {
        "id": "38QiotfyoU5u"
      },
      "source": [
        "**Ejercicio 5**: Calculadora de Descuento por Edad\n",
        "* Pide al usuario que ingrese su edad.\n",
        "* Calcula y muestra un descuento basado en su edad (por ejemplo, si tiene menos de 18 años, un 10% de descuento, si tiene más de 65 años, un 20% de descuento, etc.)."
      ]
    },
    {
      "cell_type": "code",
      "execution_count": null,
      "id": "ofVSxsoUoVQv",
      "metadata": {
        "id": "ofVSxsoUoVQv"
      },
      "outputs": [],
      "source": [
        "monto = float(input(\"Ingresa el monto total de tu compra: \"))\n",
        "edad = int(input(\"Ingresa tu edad: \"))\n",
        "\n",
        "if edad<18:\n",
        "    print(\"El monto a pagar es de $\", monto - monto * 0.1)\n",
        "elif edad>65:\n",
        "    print(\"El monto a pagar es de $\", monto - monto * 0.2)\n",
        "else:\n",
        "    print(\"El monto a pagar es de $\", monto)"
      ]
    },
    {
      "cell_type": "markdown",
      "id": "ZiCX2utWoYEq",
      "metadata": {
        "id": "ZiCX2utWoYEq"
      },
      "source": [
        "**Ejercicio 6**: Determinar Tipo de Triángulo\n",
        "* Pide al usuario que ingrese las longitudes de los lados de un triángulo.\n",
        "* Determina y muestra si el triángulo es equilátero, isósceles o escaleno."
      ]
    },
    {
      "cell_type": "code",
      "execution_count": null,
      "id": "XAmthNvwoYto",
      "metadata": {
        "id": "XAmthNvwoYto"
      },
      "outputs": [],
      "source": [
        "lado1 = float(input(\"Ingresa la longitud del primer lado del triángulo: \"))\n",
        "lado2 = float(input(\"Ingresa la longitud del segundo lado del triángulo: \"))\n",
        "lado3 = float(input(\"Ingresa la longitud del tercer lado del triángulo: \"))\n",
        "\n",
        "if lado1+lado2>lado3 and lado1+lado3>lado2 and lado3+lado2>lado1:\n",
        "    if lado1==lado2 and lado1==lado3:\n",
        "        print(\"Las longitudes corresponden a un triángulo equilatero.\")\n",
        "    elif lado1**2 + lado2**2 == lado3**2 or lado1**2 + lado3**2 == lado2**2 or lado3**2 + lado2**2 == lado1**2:\n",
        "        print(\"Las longitudes corresponden a un triángulo rectángulo.\")\n",
        "    elif lado1!=lado2 and lado1!=lado3 and lado2!=lado3:\n",
        "        print(\"Las longitudes corresponden a un triángulo escaleno.\")\n",
        "    elif lado1==lado2 or lado1==lado3 or lado2==lado3:\n",
        "        print(\"Las longitudes corresponden a un triángulo isoseles.\")\n",
        "else:\n",
        "    print(\"Las longitudes no corresponden a un triángulo.\")"
      ]
    },
    {
      "cell_type": "markdown",
      "id": "KkszkbeGoceH",
      "metadata": {
        "id": "KkszkbeGoceH"
      },
      "source": [
        "**Ejercicio 7**: Mayor de Tres Números\n",
        "* Pide al usuario que ingrese tres números.\n",
        "* Encuentra y muestra el número más grande entre los tres."
      ]
    },
    {
      "cell_type": "code",
      "execution_count": 24,
      "id": "OX08LWk6oc7f",
      "metadata": {
        "id": "OX08LWk6oc7f"
      },
      "outputs": [
        {
          "name": "stdout",
          "output_type": "stream",
          "text": [
            "3423424.0 es el mayor.\n"
          ]
        }
      ],
      "source": [
        "num1 = float(input(\"Ingresa un número: \"))\n",
        "num2 = float(input(\"Ingresa otro número: \"))\n",
        "num3 = float(input(\"Ingresa un número mas: \"))\n",
        "\n",
        "if num1 >= num2 and num1 >= num3:\n",
        "    print(f\"{num1} es el mayor.\")\n",
        "elif num2 >= num3 and num2 >= num1:\n",
        "    print(f\"{num2} es el mayor.\")\n",
        "elif num3 >= num1 and num3 >= num2:\n",
        "    print(f\"{num3} es el mayor.\")"
      ]
    },
    {
      "cell_type": "markdown",
      "id": "RBuK2IZDogo7",
      "metadata": {
        "id": "RBuK2IZDogo7"
      },
      "source": [
        "**Ejercicio especial 8**: Verificar Año Bisiesto\n",
        "* Pide al usuario que ingrese un año.\n",
        "* Verifica si el año ingresado es bisiesto y muestra el resultado."
      ]
    },
    {
      "cell_type": "code",
      "execution_count": 25,
      "id": "wg-WBuksohSo",
      "metadata": {
        "id": "wg-WBuksohSo"
      },
      "outputs": [
        {
          "name": "stdout",
          "output_type": "stream",
          "text": [
            "Este programa determina si un año es bisiesto o no.\n"
          ]
        }
      ],
      "source": [
        "# En esta celda se solicita la variable año y esta misma se va a ocupar en las 3 siguientes celdas\n",
        "print(\"Este programa determina si un año es bisiesto o no.\")\n",
        "año = int(input(\"Ingresa el año que quieres comparar: \"))"
      ]
    },
    {
      "cell_type": "code",
      "execution_count": 27,
      "id": "8847591d",
      "metadata": {},
      "outputs": [
        {
          "name": "stdout",
          "output_type": "stream",
          "text": [
            "El año 2024 es bisiesto\n"
          ]
        }
      ],
      "source": [
        "if año%4 == 0:\n",
        "    if año%100 == 0:\n",
        "        if año%400 == 0:\n",
        "            print(f\"El año {año} es bisiesto\")\n",
        "        else:\n",
        "            print(f\"El año {año} no es bisiesto\")\n",
        "    else:\n",
        "        print(f\"El año {año} es bisiesto\")\n",
        "else:\n",
        "    print(f\"El año {año} no es bisiesto\")"
      ]
    },
    {
      "cell_type": "code",
      "execution_count": 28,
      "id": "40b9ab5c",
      "metadata": {},
      "outputs": [
        {
          "name": "stdout",
          "output_type": "stream",
          "text": [
            "El año 2024 es bisiesto\n"
          ]
        }
      ],
      "source": [
        "if año%100 == 0:\n",
        "    if año%400 == 0:\n",
        "        print(f\"El año {año} es bisiesto\")\n",
        "    else:\n",
        "        print(f\"El año {año} no es bisiesto\")\n",
        "else:\n",
        "    if año%4 == 0:\n",
        "        print(f\"El año {año} es bisiesto\")\n",
        "    else:\n",
        "        print(f\"El año {año} no es bisiesto\")\n",
        "\n"
      ]
    },
    {
      "cell_type": "code",
      "execution_count": 29,
      "id": "b707cf0a",
      "metadata": {},
      "outputs": [
        {
          "name": "stdout",
          "output_type": "stream",
          "text": [
            "El año 2024 es bisiesto\n"
          ]
        }
      ],
      "source": [
        "if (año%4 == 0 and año%100 != 0) or (año%4 == año%100 == año%400 == 0):\n",
        "    print(f\"El año {año} es bisiesto\")\n",
        "else:\n",
        "    print(f\"El año {año} no es bisiesto\")"
      ]
    },
    {
      "cell_type": "markdown",
      "id": "qnAfZ6rAozba",
      "metadata": {
        "id": "qnAfZ6rAozba"
      },
      "source": [
        "## Función random (numeros aleatorios)"
      ]
    },
    {
      "cell_type": "code",
      "execution_count": 39,
      "id": "q8H14nlno1PL",
      "metadata": {
        "colab": {
          "base_uri": "https://localhost:8080/"
        },
        "id": "q8H14nlno1PL",
        "outputId": "33df640d-4701-46f2-958f-3e2271674cda"
      },
      "outputs": [
        {
          "name": "stdout",
          "output_type": "stream",
          "text": [
            "\n",
            "aleatorio = 0.7077343240632175\n",
            "aleatorio entero = 0\n",
            "aleatorio decena = 20\n",
            "letra aleatorio = u\n",
            "\n"
          ]
        }
      ],
      "source": [
        "import random\n",
        "letras = (\"a\",\"e\",\"i\",\"o\",\"u\")\n",
        "\n",
        "aleatorio = random.random()\n",
        "aleatorio_entero = random.randint(0, 10)\n",
        "aleatorio_decena = random.randrange(0, 100, 10)\n",
        "letra_aleatoria = random.choice(letras)\n",
        "\n",
        "print(f\"\"\"\n",
        "aleatorio = {aleatorio}\n",
        "aleatorio entero = {aleatorio_entero}\n",
        "aleatorio decena = {aleatorio_decena}\n",
        "letra aleatorio = {letra_aleatoria}\n",
        "\"\"\")"
      ]
    },
    {
      "cell_type": "markdown",
      "id": "IHkKdxdCAp_9",
      "metadata": {
        "id": "IHkKdxdCAp_9"
      },
      "source": [
        "## Bucle While"
      ]
    },
    {
      "cell_type": "markdown",
      "id": "MQiQ96kKAxud",
      "metadata": {
        "id": "MQiQ96kKAxud"
      },
      "source": [
        "*Contadores*: Utilizar una variable contador para repetir el bucle un número específico de veces."
      ]
    },
    {
      "cell_type": "code",
      "execution_count": 40,
      "id": "T7G8Lr2OAsZE",
      "metadata": {
        "colab": {
          "base_uri": "https://localhost:8080/"
        },
        "id": "T7G8Lr2OAsZE",
        "outputId": "cbcd7347-fa3f-43f2-dd57-1538097bda06"
      },
      "outputs": [
        {
          "name": "stdout",
          "output_type": "stream",
          "text": [
            "Iteración número: 0\n",
            "Iteración número: 1\n",
            "Iteración número: 2\n",
            "Iteración número: 3\n",
            "Iteración número: 4\n",
            "Iteración número: 5\n",
            "Iteración número: 6\n",
            "Iteración número: 7\n",
            "Iteración número: 8\n",
            "Iteración número: 9\n"
          ]
        }
      ],
      "source": [
        "contador = 0\n",
        "while contador < 10:\n",
        "    print(\"Iteración número:\", contador)\n",
        "    contador += 1"
      ]
    },
    {
      "cell_type": "markdown",
      "id": "t2ZDcaD8A7s9",
      "metadata": {
        "id": "t2ZDcaD8A7s9"
      },
      "source": [
        "*Acumuladores*: Utilizar una variable acumulador para repetir el bucle mientras no se alcance un valor deseado.\n"
      ]
    },
    {
      "cell_type": "code",
      "execution_count": 41,
      "id": "HV-fO3drA6Pq",
      "metadata": {
        "colab": {
          "base_uri": "https://localhost:8080/"
        },
        "id": "HV-fO3drA6Pq",
        "outputId": "fec575db-71ac-4fc5-b342-cbfe0e9b98db"
      },
      "outputs": [
        {
          "name": "stdout",
          "output_type": "stream",
          "text": [
            "El total de la compra fue de  1012.0\n"
          ]
        }
      ],
      "source": [
        "total = 0\n",
        "while total < 1000:\n",
        "    precio = float (input(\"Ingresa el precio del producto: \"))\n",
        "    total += precio\n",
        "print(\"El total de la compra fue de \", total)"
      ]
    },
    {
      "cell_type": "markdown",
      "id": "Z1yJxujJBQv-",
      "metadata": {
        "id": "Z1yJxujJBQv-"
      },
      "source": [
        "\n",
        "Banderas o switches: Utilizar una \"bandera\" o una variable booleana como condición para activar o desactivar el bucle.\n"
      ]
    },
    {
      "cell_type": "code",
      "execution_count": 42,
      "id": "nZtoar-FBArD",
      "metadata": {
        "colab": {
          "base_uri": "https://localhost:8080/"
        },
        "id": "nZtoar-FBArD",
        "outputId": "b6915a00-c6a2-4b5e-c22b-5f0c2d4324e8"
      },
      "outputs": [],
      "source": [
        "activo = True\n",
        "while activo:\n",
        "    respuesta = input(\"¿Quieres continuar? (s/n): \")\n",
        "    if respuesta == 'n':\n",
        "        activo = False"
      ]
    },
    {
      "cell_type": "markdown",
      "id": "WnvnAF-xB300",
      "metadata": {
        "id": "WnvnAF-xB300"
      },
      "source": [
        "## Continue y Break"
      ]
    },
    {
      "cell_type": "code",
      "execution_count": null,
      "id": "lHZ5BALqB9Ts",
      "metadata": {
        "colab": {
          "base_uri": "https://localhost:8080/"
        },
        "id": "lHZ5BALqB9Ts",
        "outputId": "36a03623-17ec-47e9-8f78-168edbed5c5b"
      },
      "outputs": [
        {
          "name": "stdout",
          "output_type": "stream",
          "text": [
            "0\n",
            "1\n",
            "2\n",
            "4\n",
            "5\n",
            "6\n",
            "7\n",
            "8\n",
            "9\n"
          ]
        }
      ],
      "source": [
        "contador = 0\n",
        "while contador < 10:\n",
        "  if contador == 3:\n",
        "     contador +=1\n",
        "     continue\n",
        "  print(contador)\n",
        "  contador +=1"
      ]
    },
    {
      "cell_type": "code",
      "execution_count": null,
      "id": "y2zxRgAXCSlI",
      "metadata": {
        "colab": {
          "base_uri": "https://localhost:8080/"
        },
        "id": "y2zxRgAXCSlI",
        "outputId": "6719d408-d261-4513-b9ab-40518cbf07d4"
      },
      "outputs": [
        {
          "name": "stdout",
          "output_type": "stream",
          "text": [
            "0\n",
            "1\n",
            "2\n"
          ]
        }
      ],
      "source": [
        "contador = 0\n",
        "while contador < 10:\n",
        "  if contador == 3:\n",
        "    break\n",
        "  print(contador)\n",
        "  contador +=1"
      ]
    },
    {
      "cell_type": "markdown",
      "id": "DAj7gNQKBZkV",
      "metadata": {
        "id": "DAj7gNQKBZkV"
      },
      "source": [
        "## Bucle infinito (while True)"
      ]
    },
    {
      "cell_type": "code",
      "execution_count": null,
      "id": "pdy_HOu-BcYm",
      "metadata": {
        "colab": {
          "base_uri": "https://localhost:8080/"
        },
        "id": "pdy_HOu-BcYm",
        "outputId": "b00f2c7b-4352-4f1c-9258-745f3ca25437"
      },
      "outputs": [
        {
          "name": "stdout",
          "output_type": "stream",
          "text": [
            "Ingresa un número (ingresa un número negativo para salir): 2\n",
            "Ingresa un número (ingresa un número negativo para salir): 3\n",
            "Ingresa un número (ingresa un número negativo para salir): 4\n",
            "Ingresa un número (ingresa un número negativo para salir): 5\n",
            "Ingresa un número (ingresa un número negativo para salir): -1\n",
            "14\n"
          ]
        }
      ],
      "source": [
        "suma = 0\n",
        "while True:\n",
        "  numero = int(input(\"Ingresa un número (ingresa un número negativo para salir): \"))\n",
        "  if numero < 0: break # romper el bucle\n",
        "  suma += numero\n",
        "print(suma)"
      ]
    },
    {
      "cell_type": "markdown",
      "id": "_BM4LK74C6gJ",
      "metadata": {
        "id": "_BM4LK74C6gJ"
      },
      "source": [
        "## **Ejercicios** de bucle While"
      ]
    },
    {
      "cell_type": "markdown",
      "id": "11blZGy_DJmC",
      "metadata": {
        "id": "11blZGy_DJmC"
      },
      "source": [
        "### En los siguientes ejercicios se utilizan principalmente números"
      ]
    },
    {
      "cell_type": "markdown",
      "id": "VIqz8W9-DNJz",
      "metadata": {
        "id": "VIqz8W9-DNJz"
      },
      "source": [
        "**Contador Ascendente**: Imprime los números del 1 al 20.\n"
      ]
    },
    {
      "cell_type": "code",
      "execution_count": 44,
      "id": "A4oWBTHaC9gl",
      "metadata": {
        "id": "A4oWBTHaC9gl"
      },
      "outputs": [
        {
          "name": "stdout",
          "output_type": "stream",
          "text": [
            "1, 2, 3, 4, 5, 6, 7, 8, 9, 10, 11, 12, 13, 14, 15, 16, 17, 18, 19, 20, "
          ]
        }
      ],
      "source": [
        "contador = 1\n",
        "while contador <=20:\n",
        "    print(contador, end=\", \")\n",
        "    contador += 1"
      ]
    },
    {
      "cell_type": "markdown",
      "id": "mNW2-cvxDPJx",
      "metadata": {
        "id": "mNW2-cvxDPJx"
      },
      "source": [
        "**Contador Descendente**: Imprime los números del 10 al 1.\n"
      ]
    },
    {
      "cell_type": "code",
      "execution_count": 45,
      "id": "xgI8JuonDQfs",
      "metadata": {
        "id": "xgI8JuonDQfs"
      },
      "outputs": [
        {
          "name": "stdout",
          "output_type": "stream",
          "text": [
            "10, 9, 8, 7, 6, 5, 4, 3, 2, 1, "
          ]
        }
      ],
      "source": [
        "contador = 10\n",
        "while contador >=1:\n",
        "    print(contador, end=\", \")\n",
        "    contador -= 1"
      ]
    },
    {
      "cell_type": "markdown",
      "id": "PVRvefF-DQ2x",
      "metadata": {
        "id": "PVRvefF-DQ2x"
      },
      "source": [
        "**Suma de Números**: Calcula la suma de los números del 1 al 100.\n"
      ]
    },
    {
      "cell_type": "code",
      "execution_count": 47,
      "id": "eaa_HSdgDSLJ",
      "metadata": {
        "id": "eaa_HSdgDSLJ"
      },
      "outputs": [
        {
          "name": "stdout",
          "output_type": "stream",
          "text": [
            "La suma del 1 al 100 es: 5050\n"
          ]
        }
      ],
      "source": [
        "contador = 1\n",
        "suma = 0\n",
        "while contador <=100:\n",
        "    suma += contador\n",
        "    contador += 1\n",
        "print(\"La suma del 1 al 100 es:\", suma)"
      ]
    },
    {
      "cell_type": "markdown",
      "id": "BF3tgj-RDSf4",
      "metadata": {
        "id": "BF3tgj-RDSf4"
      },
      "source": [
        "**Tabla de Multiplicar**: Imprime la tabla de multiplicar del 5.\n"
      ]
    },
    {
      "cell_type": "code",
      "execution_count": 48,
      "id": "cmz5GhKnDTva",
      "metadata": {
        "id": "cmz5GhKnDTva"
      },
      "outputs": [
        {
          "name": "stdout",
          "output_type": "stream",
          "text": [
            "5 * 1 = 5\n",
            "5 * 2 = 10\n",
            "5 * 3 = 15\n",
            "5 * 4 = 20\n",
            "5 * 5 = 25\n",
            "5 * 6 = 30\n",
            "5 * 7 = 35\n",
            "5 * 8 = 40\n",
            "5 * 9 = 45\n",
            "5 * 10 = 50\n"
          ]
        }
      ],
      "source": [
        "contador = 1\n",
        "while contador <=10:\n",
        "    print(f\"5 * {contador} = {5 * contador}\")\n",
        "    contador +=1"
      ]
    },
    {
      "cell_type": "markdown",
      "id": "3P6Y14oSDULV",
      "metadata": {
        "id": "3P6Y14oSDULV"
      },
      "source": [
        "**Números Pares**: Imprime los primeros 10 números pares."
      ]
    },
    {
      "cell_type": "code",
      "execution_count": 50,
      "id": "35uGioT1DYHo",
      "metadata": {
        "id": "35uGioT1DYHo"
      },
      "outputs": [
        {
          "name": "stdout",
          "output_type": "stream",
          "text": [
            "2, 4, 6, 8, 10, 12, 14, 16, 18, 20, "
          ]
        }
      ],
      "source": [
        "contador = 1\n",
        "pares = 0\n",
        "while pares < 10:\n",
        "    if contador%2 == 0:\n",
        "        print(contador, end=\", \")\n",
        "        pares += 1\n",
        "    contador += 1"
      ]
    },
    {
      "cell_type": "markdown",
      "id": "Z1F8WhTtDYmL",
      "metadata": {
        "id": "Z1F8WhTtDYmL"
      },
      "source": [
        "**Números Impares**: Imprime los primeros 10 números impares."
      ]
    },
    {
      "cell_type": "code",
      "execution_count": 52,
      "id": "elDx2fKHDe4C",
      "metadata": {
        "id": "elDx2fKHDe4C"
      },
      "outputs": [
        {
          "name": "stdout",
          "output_type": "stream",
          "text": [
            "1, 3, 5, 7, 9, 11, 13, 15, 17, 19, "
          ]
        }
      ],
      "source": [
        "contador = 1\n",
        "impares = 0\n",
        "while impares < 10:\n",
        "    if contador%2 == 1:\n",
        "        print(contador, end=\", \")\n",
        "        impares += 1\n",
        "    contador += 1"
      ]
    },
    {
      "cell_type": "markdown",
      "id": "tH556cn7Df6K",
      "metadata": {
        "id": "tH556cn7Df6K"
      },
      "source": [
        "### Los siguientes ejercicios son mas desafiantes"
      ]
    },
    {
      "cell_type": "markdown",
      "id": "lT-QSgw-E3bc",
      "metadata": {
        "id": "lT-QSgw-E3bc"
      },
      "source": [
        "**Juego de Adivinar Palabra:** Utilizar una condición para que el usuario intente adivinar una palabra secreta.\n"
      ]
    },
    {
      "cell_type": "code",
      "execution_count": 57,
      "id": "3OF4X7ORE2WW",
      "metadata": {
        "id": "3OF4X7ORE2WW"
      },
      "outputs": [
        {
          "name": "stdout",
          "output_type": "stream",
          "text": [
            "Este programa te dara 3 oportunidades para adivinar la palabra secreta.\n",
            "Lastima, perdiste.\n"
          ]
        }
      ],
      "source": [
        "import random\n",
        "\n",
        "print(\"Este programa te dara 3 oportunidades para adivinar la palabra secreta.\")\n",
        "palabras = [\"perro\", \"gato\", \"canario\", \"tortuga\", \"pez\"]\n",
        "secreta = random.choice(palabras)\n",
        "intentos = 0\n",
        "oportunidades = 3\n",
        "\n",
        "while intentos < oportunidades:\n",
        "    palabra = input(\"Ingresa tu intento: \")\n",
        "    if palabra == secreta:\n",
        "        print(\"Felicidades, adivinaste.\")\n",
        "        break\n",
        "    intentos += 1\n",
        "\n",
        "if intentos == oportunidades:\n",
        "    print(\"Lastima, perdiste.\")"
      ]
    },
    {
      "cell_type": "markdown",
      "id": "bXwEkyA1E6Z8",
      "metadata": {
        "id": "bXwEkyA1E6Z8"
      },
      "source": [
        "**Adivina el Número**: Genera un número aleatorio y pídele al usuario que ingrese números hasta que lo adivine.\n"
      ]
    },
    {
      "cell_type": "code",
      "execution_count": 60,
      "id": "KWAjq_QyE8xH",
      "metadata": {
        "id": "KWAjq_QyE8xH"
      },
      "outputs": [
        {
          "name": "stdout",
          "output_type": "stream",
          "text": [
            "Este programa se detendra hasta que adivines el número secreto.\n",
            "Felicidades, adivinaste.\n"
          ]
        }
      ],
      "source": [
        "import random\n",
        "\n",
        "print(\"Este programa se detendra hasta que adivines el número secreto.\")\n",
        "secreto = random.randint(0, 10)\n",
        "\n",
        "while True:\n",
        "    intento = int(input(\"Ingresa tu intento: \"))\n",
        "    if intento == secreto:\n",
        "        print(\"Felicidades, adivinaste.\")\n",
        "        break"
      ]
    },
    {
      "cell_type": "markdown",
      "id": "3R3PnyEUE97j",
      "metadata": {
        "id": "3R3PnyEUE97j"
      },
      "source": [
        "**Suma Infinita**: Lee números ingresados por el usuario hasta que ingrese el número 0. Luego, muestra la suma de los números ingresados. RETO (Haz la suma por separado de los números pares e impares).\n"
      ]
    },
    {
      "cell_type": "code",
      "execution_count": 62,
      "id": "4BsgdwLsFDRX",
      "metadata": {
        "id": "4BsgdwLsFDRX"
      },
      "outputs": [
        {
          "name": "stdout",
          "output_type": "stream",
          "text": [
            "Este programa te irá pidiendo numeros y se detendra cuando ingreses 0.\n",
            "La suma de los numeros pares que ingresaste es 134, mientras que la suma de numeros impares es 1808.\n"
          ]
        }
      ],
      "source": [
        "print(\"Este programa te irá pidiendo numeros y se detendra cuando ingreses 0.\")\n",
        "pares = impares = 0\n",
        "\n",
        "while True:\n",
        "    numero = int(input(\"Ingresa un número: \"))\n",
        "    if numero%2 == 0:\n",
        "        pares+= numero\n",
        "    else:\n",
        "        impares+= numero\n",
        "\n",
        "    if numero ==0:\n",
        "        break\n",
        "\n",
        "print(f\"La suma de los numeros pares que ingresaste es {pares}, mientras que la suma de numeros impares es {impares}.\")"
      ]
    },
    {
      "cell_type": "markdown",
      "id": "Hi0XT15TFD99",
      "metadata": {
        "id": "Hi0XT15TFD99"
      },
      "source": [
        "**Calculadora Simple:** Usando la calculadora del ejercicio 4 de sentencias condicionales, permite que el usuario haga operaciones hasta que decida salir ingresando una opción especial (por ejemplo, \"salir\")."
      ]
    },
    {
      "cell_type": "code",
      "execution_count": 65,
      "id": "RXBzqiZBFHLy",
      "metadata": {
        "id": "RXBzqiZBFHLy"
      },
      "outputs": [
        {
          "name": "stdout",
          "output_type": "stream",
          "text": [
            "\n",
            "    Ingresa la opción correspondiente a la operación que deseas realizar:\n",
            "        1.-Suma\n",
            "        2.-Resta\n",
            "        3.-Multiplicación\n",
            "        4.-División\n",
            "        5.-Salir\n",
            "    \n",
            "Adiós\n"
          ]
        }
      ],
      "source": [
        "while True:\n",
        "    print(\"\"\"\n",
        "    Ingresa la opción correspondiente a la operación que deseas realizar:\n",
        "        1.-Suma\n",
        "        2.-Resta\n",
        "        3.-Multiplicación\n",
        "        4.-División\n",
        "        5.-Salir\n",
        "    \"\"\")\n",
        "    operacion = input(\"\")\n",
        "\n",
        "    if operacion == \"5\":\n",
        "        print(\"Adiós\")\n",
        "        break\n",
        "\n",
        "    num1 = float(input(\"Ingresa un número: \"))\n",
        "    num2 = float(input(\"Ingresa otro número: \"))\n",
        "\n",
        "    if operacion == \"1\": \n",
        "        print(f\"La suma de {num1} y {num2} es {num1+num2}.\")\n",
        "    elif operacion == \"2\": \n",
        "        print(f\"La resta de {num1} y {num2} es {num1-num2}.\")\n",
        "    elif operacion == \"3\": \n",
        "        print(f\"El producto de {num1} y {num2} es {num1*num2}.\")\n",
        "    elif operacion == \"4\" and num2==0: \n",
        "        print(f\"No es posible dividir por cero.\")\n",
        "    elif operacion == \"4\" and num2!=0: \n",
        "        print(f\"La division de {num1} entre {num2} es {num1/num2}.\")\n",
        "    else: \n",
        "        print(\"Operación no valida\")"
      ]
    },
    {
      "cell_type": "markdown",
      "id": "myVBe66SFPm4",
      "metadata": {
        "id": "myVBe66SFPm4"
      },
      "source": [
        "### Siguen algunos retos, mucha suerte"
      ]
    },
    {
      "cell_type": "markdown",
      "id": "CFVAcvCkFXJ0",
      "metadata": {
        "id": "CFVAcvCkFXJ0"
      },
      "source": [
        "**Número primo:** Verifica si un número ingresado por el usuario es primo o no.\n"
      ]
    },
    {
      "cell_type": "code",
      "execution_count": 71,
      "id": "Xiiyi_0KFThA",
      "metadata": {
        "id": "Xiiyi_0KFThA"
      },
      "outputs": [
        {
          "name": "stdout",
          "output_type": "stream",
          "text": [
            "5 es primo\n"
          ]
        }
      ],
      "source": [
        "num = int(input(\"Ingresa un numero entero: \"))\n",
        "aux = 2\n",
        "while aux < num:\n",
        "    if num % aux == 0:\n",
        "        print(f\"{num} no es primo.\")\n",
        "        break\n",
        "    aux +=1\n",
        "\n",
        "if aux == num:\n",
        "    print(f\"{num} es primo\")"
      ]
    },
    {
      "cell_type": "markdown",
      "id": "zd0imvMwFZ-U",
      "metadata": {
        "id": "zd0imvMwFZ-U"
      },
      "source": [
        "**Juego de Piedra, Papel o Tijera**: Crea un juego simple de piedra, papel o tijera donde el usuario juega contra la computadora. Utiliza un bucle while para permitir que el usuario juegue múltiples rondas y muestre los resultados."
      ]
    },
    {
      "cell_type": "code",
      "execution_count": 3,
      "id": "Up6yBAWpFbcZ",
      "metadata": {
        "id": "Up6yBAWpFbcZ"
      },
      "outputs": [
        {
          "name": "stdout",
          "output_type": "stream",
          "text": [
            "\n",
            "Bienvenido al juego de piedra papel o tijera.\n",
            "Este programa llevará la cuenta de las victorias y derrotas que tengas.\n",
            "\n",
            "Ingresa tu elección.\n",
            "      1.-Piedra\n",
            "      2.-Papel\n",
            "      3.-Tijera.\n",
            "      4.-Terminar\n",
            "      \n"
          ]
        },
        {
          "name": "stdout",
          "output_type": "stream",
          "text": [
            "Piedra pierde ante Papel, mala suerte.\n",
            "Ingresa tu elección.\n",
            "      1.-Piedra\n",
            "      2.-Papel\n",
            "      3.-Tijera.\n",
            "      4.-Terminar\n",
            "      \n",
            "Empate\n",
            "Ingresa tu elección.\n",
            "      1.-Piedra\n",
            "      2.-Papel\n",
            "      3.-Tijera.\n",
            "      4.-Terminar\n",
            "      \n",
            "Empate\n",
            "Ingresa tu elección.\n",
            "      1.-Piedra\n",
            "      2.-Papel\n",
            "      3.-Tijera.\n",
            "      4.-Terminar\n",
            "      \n",
            "Piedra gana a Tijera, bien hecho.\n",
            "Ingresa tu elección.\n",
            "      1.-Piedra\n",
            "      2.-Papel\n",
            "      3.-Tijera.\n",
            "      4.-Terminar\n",
            "      \n",
            "Empate\n",
            "Ingresa tu elección.\n",
            "      1.-Piedra\n",
            "      2.-Papel\n",
            "      3.-Tijera.\n",
            "      4.-Terminar\n",
            "      \n",
            "Lograste 1 derrotas y 1 victorias. Adiós\n"
          ]
        }
      ],
      "source": [
        "import random\n",
        "print(\"\"\"\n",
        "Bienvenido al juego de piedra papel o tijera.\n",
        "Este programa llevará la cuenta de las victorias y derrotas que tengas.\n",
        "\"\"\")\n",
        "\n",
        "victorias = 0\n",
        "derrotas = 0\n",
        "empates = 0\n",
        "opciones = (\"Piedra\", \"Papel\", \"Tijera\")\n",
        "\n",
        "while True:\n",
        "    print(\"\"\"Ingresa tu elección.\n",
        "      1.-Piedra\n",
        "      2.-Papel\n",
        "      3.-Tijera.\n",
        "      4.-Terminar\n",
        "      \"\"\")\n",
        "    usuario = int(input(\"\"))\n",
        "    maquina = random.randint(0,3)\n",
        "\n",
        "    if usuario == 4:\n",
        "        print(f\"Lograste {victorias} victorias, {derrotas} derrotas y {empates} empates. Adiós\")\n",
        "        break\n",
        "    elif (usuario == maquina == 1) or (usuario == maquina == 2) or (usuario == maquina == 3):\n",
        "        print(\"Empate\")\n",
        "        empates +=1\n",
        "    elif (usuario == 1 and maquina == 3) or (usuario == 2 and maquina == 1) or (usuario == 3 and maquina == 2):\n",
        "        print(f\"{opciones[usuario-1]} gana a {opciones[maquina-1]}, bien hecho.\")\n",
        "        victorias +=1\n",
        "    else:\n",
        "        print(f\"{opciones[usuario-1]} pierde ante {opciones[maquina-1]}, mala suerte.\")\n",
        "        derrotas +=1\n",
        "    "
      ]
    },
    {
      "cell_type": "markdown",
      "id": "Q8L4F5D3iiEa",
      "metadata": {
        "id": "Q8L4F5D3iiEa"
      },
      "source": [
        "## Bucle *For*"
      ]
    },
    {
      "cell_type": "code",
      "execution_count": null,
      "id": "TQHL8WobikdQ",
      "metadata": {
        "colab": {
          "base_uri": "https://localhost:8080/"
        },
        "id": "TQHL8WobikdQ",
        "outputId": "4696b9b9-f15f-4c14-dbec-4d8413401494"
      },
      "outputs": [
        {
          "name": "stdout",
          "output_type": "stream",
          "text": [
            "Me gusta la manzana\n",
            "Me gusta la naranja\n",
            "Me gusta la plátano\n",
            "Me gusta la uva\n",
            "Me gusta la sandía\n"
          ]
        }
      ],
      "source": [
        "frutas = [\"manzana\", \"naranja\", \"plátano\", \"uva\", \"sandía\"]\n",
        "for fruta in frutas:\n",
        "    print(\"Me gusta la\", fruta)"
      ]
    },
    {
      "cell_type": "code",
      "execution_count": null,
      "id": "cFy76l2HimcS",
      "metadata": {
        "colab": {
          "base_uri": "https://localhost:8080/"
        },
        "id": "cFy76l2HimcS",
        "outputId": "663694d8-a5fc-48fe-a53a-3e7c1cb1a6eb"
      },
      "outputs": [
        {
          "name": "stdout",
          "output_type": "stream",
          "text": [
            "La suma es: 15\n"
          ]
        }
      ],
      "source": [
        "numeros = [1, 2, 3, 4, 5]\n",
        "suma = 0\n",
        "for num in numeros:\n",
        "    suma += num\n",
        "print(\"La suma es:\", suma)"
      ]
    },
    {
      "cell_type": "code",
      "execution_count": null,
      "id": "vz8kABiAisUd",
      "metadata": {
        "colab": {
          "base_uri": "https://localhost:8080/"
        },
        "id": "vz8kABiAisUd",
        "outputId": "7c1c9a19-d0c7-4c91-8897-92dbb7434092"
      },
      "outputs": [
        {
          "name": "stdout",
          "output_type": "stream",
          "text": [
            "H\n",
            "o\n",
            "l\n",
            "a\n",
            " \n",
            "m\n",
            "u\n",
            "n\n",
            "d\n",
            "o\n"
          ]
        }
      ],
      "source": [
        "cadena = \"Hola mundo\"\n",
        "for letra in cadena:\n",
        "  print(letra)"
      ]
    },
    {
      "cell_type": "code",
      "execution_count": null,
      "id": "Wwd6iiCxi0xD",
      "metadata": {
        "colab": {
          "base_uri": "https://localhost:8080/"
        },
        "id": "Wwd6iiCxi0xD",
        "outputId": "3f35979a-9ca7-420f-ff33-5f57100c9524"
      },
      "outputs": [
        {
          "name": "stdout",
          "output_type": "stream",
          "text": [
            "0\n",
            "2\n",
            "4\n",
            "6\n"
          ]
        }
      ],
      "source": [
        "for i in range(0, 7, 2):\n",
        "    print(i)"
      ]
    },
    {
      "cell_type": "code",
      "execution_count": null,
      "id": "kNDzqvTpjMiu",
      "metadata": {
        "colab": {
          "base_uri": "https://localhost:8080/"
        },
        "id": "kNDzqvTpjMiu",
        "outputId": "3682a182-81d0-4c35-f044-a4963646f192"
      },
      "outputs": [
        {
          "name": "stdout",
          "output_type": "stream",
          "text": [
            "0\n",
            "1\n",
            "2\n",
            "3\n",
            "4\n",
            "5\n",
            "6\n",
            "7\n",
            "8\n",
            "9\n"
          ]
        }
      ],
      "source": [
        "for i in range(10):\n",
        "    print(i)"
      ]
    },
    {
      "cell_type": "markdown",
      "id": "Cf350z6cjVoq",
      "metadata": {
        "id": "Cf350z6cjVoq"
      },
      "source": [
        "## **Ejercicios** bucle For"
      ]
    },
    {
      "cell_type": "markdown",
      "id": "A3Wj_Tv-jm86",
      "metadata": {
        "id": "A3Wj_Tv-jm86"
      },
      "source": [
        "### Los siguientes ejercicios son los mismo de bucle while, pero ahora hay que resolverlos con bucle for"
      ]
    },
    {
      "cell_type": "markdown",
      "id": "zG2Jl6zljm8_",
      "metadata": {
        "id": "zG2Jl6zljm8_"
      },
      "source": [
        "**Contador Ascendente**: Imprime los números del 1 al 20.\n"
      ]
    },
    {
      "cell_type": "code",
      "execution_count": 4,
      "id": "NCwc7sVGjm9B",
      "metadata": {
        "id": "NCwc7sVGjm9B"
      },
      "outputs": [
        {
          "name": "stdout",
          "output_type": "stream",
          "text": [
            "1, 2, 3, 4, 5, 6, 7, 8, 9, 10, 11, 12, 13, 14, 15, 16, 17, 18, 19, 20, "
          ]
        }
      ],
      "source": [
        "for contador in range(20):\n",
        "    print(contador+1, end=\", \")"
      ]
    },
    {
      "cell_type": "markdown",
      "id": "30EAyflxjm9D",
      "metadata": {
        "id": "30EAyflxjm9D"
      },
      "source": [
        "**Contador Descendente**: Imprime los números del 10 al 1.\n"
      ]
    },
    {
      "cell_type": "code",
      "execution_count": 6,
      "id": "xI-XMRKQjm9G",
      "metadata": {
        "id": "xI-XMRKQjm9G"
      },
      "outputs": [
        {
          "name": "stdout",
          "output_type": "stream",
          "text": [
            "10, 9, 8, 7, 6, 5, 4, 3, 2, 1, "
          ]
        }
      ],
      "source": [
        "for contador in range(10, 0, -1):\n",
        "    print(contador, end=\", \")"
      ]
    },
    {
      "cell_type": "markdown",
      "id": "Y-lDRTJ-jm9J",
      "metadata": {
        "id": "Y-lDRTJ-jm9J"
      },
      "source": [
        "**Suma de Números**: Calcula la suma de los números del 1 al 100.\n"
      ]
    },
    {
      "cell_type": "code",
      "execution_count": 7,
      "id": "99juiiALjm9L",
      "metadata": {
        "id": "99juiiALjm9L"
      },
      "outputs": [
        {
          "name": "stdout",
          "output_type": "stream",
          "text": [
            "La suma de los números del 1 al 100 es: 5050\n"
          ]
        }
      ],
      "source": [
        "suma = 0\n",
        "for contador in range(100):\n",
        "    suma += contador +1\n",
        "print(\"La suma de los números del 1 al 100 es:\", suma)"
      ]
    },
    {
      "cell_type": "markdown",
      "id": "cAulR64Ojm9N",
      "metadata": {
        "id": "cAulR64Ojm9N"
      },
      "source": [
        "**Tabla de Multiplicar**: Imprime la tabla de multiplicar del 5.\n"
      ]
    },
    {
      "cell_type": "code",
      "execution_count": 9,
      "id": "4FKLITVkjm9Q",
      "metadata": {
        "id": "4FKLITVkjm9Q"
      },
      "outputs": [
        {
          "name": "stdout",
          "output_type": "stream",
          "text": [
            "5 * 1 = 5\n",
            "5 * 2 = 10\n",
            "5 * 3 = 15\n",
            "5 * 4 = 20\n",
            "5 * 5 = 25\n",
            "5 * 6 = 30\n",
            "5 * 7 = 35\n",
            "5 * 8 = 40\n",
            "5 * 9 = 45\n",
            "5 * 10 = 50\n"
          ]
        }
      ],
      "source": [
        "for contador in range (10):\n",
        "    print (f\"5 * {contador+1} = {(contador+1)*5}\")"
      ]
    },
    {
      "cell_type": "markdown",
      "id": "7yfapnKRjm9S",
      "metadata": {
        "id": "7yfapnKRjm9S"
      },
      "source": [
        "**Números Pares**: Imprime los primeros 10 números pares."
      ]
    },
    {
      "cell_type": "code",
      "execution_count": 11,
      "id": "nvw425Y2jm9X",
      "metadata": {
        "id": "nvw425Y2jm9X"
      },
      "outputs": [
        {
          "name": "stdout",
          "output_type": "stream",
          "text": [
            "2, 4, 6, 8, 10, 12, 14, 16, 18, 20, "
          ]
        }
      ],
      "source": [
        "for contador in range(10):\n",
        "    print((contador+1)*2, end=\", \")"
      ]
    },
    {
      "cell_type": "markdown",
      "id": "j3_yBgTrjm9a",
      "metadata": {
        "id": "j3_yBgTrjm9a"
      },
      "source": [
        "**Números Impares**: Imprime los primeros 10 números impares."
      ]
    },
    {
      "cell_type": "code",
      "execution_count": 12,
      "id": "ygWIcY-xjm9c",
      "metadata": {
        "id": "ygWIcY-xjm9c"
      },
      "outputs": [
        {
          "name": "stdout",
          "output_type": "stream",
          "text": [
            "1, 3, 5, 7, 9, 11, 13, 15, 17, 19, "
          ]
        }
      ],
      "source": [
        "for contador in range(10):\n",
        "    print((contador+1)*2-1, end=\", \")"
      ]
    },
    {
      "cell_type": "markdown",
      "id": "Ozx0DVtqj5IM",
      "metadata": {
        "id": "Ozx0DVtqj5IM"
      },
      "source": [
        "### Los siguientes ejercicios son mas desafiantes"
      ]
    },
    {
      "cell_type": "markdown",
      "id": "LpfwlEt_kHmn",
      "metadata": {
        "id": "LpfwlEt_kHmn"
      },
      "source": [
        "**Secuencia abejil:** Imprime en la pantalla los números del 1 al 100, reemplazando los múltiplos de 3 por la palabra \"Fizz\", los múltiplos de 5 por la palabra \"Buzz\", y los múltiplos de ambos por la palabra \"FizzBuzz\".\n"
      ]
    },
    {
      "cell_type": "code",
      "execution_count": 13,
      "id": "WGugxXIojXrx",
      "metadata": {
        "id": "WGugxXIojXrx"
      },
      "outputs": [
        {
          "name": "stdout",
          "output_type": "stream",
          "text": [
            "1\n",
            "2\n",
            "FIZZ\n",
            "4\n",
            "BUZZ\n",
            "FIZZ\n",
            "7\n",
            "8\n",
            "FIZZ\n",
            "BUZZ\n",
            "11\n",
            "FIZZ\n",
            "13\n",
            "14\n",
            "FIZZBUZZ\n",
            "16\n",
            "17\n",
            "FIZZ\n",
            "19\n",
            "BUZZ\n",
            "FIZZ\n",
            "22\n",
            "23\n",
            "FIZZ\n",
            "BUZZ\n",
            "26\n",
            "FIZZ\n",
            "28\n",
            "29\n",
            "FIZZBUZZ\n",
            "31\n",
            "32\n",
            "FIZZ\n",
            "34\n",
            "BUZZ\n",
            "FIZZ\n",
            "37\n",
            "38\n",
            "FIZZ\n",
            "BUZZ\n",
            "41\n",
            "FIZZ\n",
            "43\n",
            "44\n",
            "FIZZBUZZ\n",
            "46\n",
            "47\n",
            "FIZZ\n",
            "49\n",
            "BUZZ\n",
            "FIZZ\n",
            "52\n",
            "53\n",
            "FIZZ\n",
            "BUZZ\n",
            "56\n",
            "FIZZ\n",
            "58\n",
            "59\n",
            "FIZZBUZZ\n",
            "61\n",
            "62\n",
            "FIZZ\n",
            "64\n",
            "BUZZ\n",
            "FIZZ\n",
            "67\n",
            "68\n",
            "FIZZ\n",
            "BUZZ\n",
            "71\n",
            "FIZZ\n",
            "73\n",
            "74\n",
            "FIZZBUZZ\n",
            "76\n",
            "77\n",
            "FIZZ\n",
            "79\n",
            "BUZZ\n",
            "FIZZ\n",
            "82\n",
            "83\n",
            "FIZZ\n",
            "BUZZ\n",
            "86\n",
            "FIZZ\n",
            "88\n",
            "89\n",
            "FIZZBUZZ\n",
            "91\n",
            "92\n",
            "FIZZ\n",
            "94\n",
            "BUZZ\n",
            "FIZZ\n",
            "97\n",
            "98\n",
            "FIZZ\n",
            "BUZZ\n"
          ]
        }
      ],
      "source": [
        "for contador in range(1, 101):\n",
        "    if contador%3 == contador%5 == 0:\n",
        "        print(\"FIZZBUZZ\")\n",
        "    elif contador %3 == 0:\n",
        "        print(\"FIZZ\")\n",
        "    elif contador %5 == 0:\n",
        "        print(\"BUZZ\")\n",
        "    else:\n",
        "        print(contador)"
      ]
    },
    {
      "cell_type": "markdown",
      "id": "hecSD_ybkOer",
      "metadata": {
        "id": "hecSD_ybkOer"
      },
      "source": [
        "**Contar Vocales**: Cuenta cuántas vocales hay en una palabra ingresada por el usuario.\n"
      ]
    },
    {
      "cell_type": "code",
      "execution_count": 39,
      "id": "17ltqptmkROI",
      "metadata": {
        "id": "17ltqptmkROI"
      },
      "outputs": [
        {
          "name": "stdout",
          "output_type": "stream",
          "text": [
            "La palabra espiritoflencio tiene 7 vocales.\n"
          ]
        }
      ],
      "source": [
        "palabra = input(\"Ingresa una palabra: \")\n",
        "vocales =0\n",
        "for letra in palabra:\n",
        "    if letra in \"aeiouAEIOU\":\n",
        "        vocales += 1\n",
        "print(f\"La palabra {palabra} tiene {vocales} vocales.\")"
      ]
    },
    {
      "cell_type": "markdown",
      "id": "2yjBhkAykRvc",
      "metadata": {
        "id": "2yjBhkAykRvc"
      },
      "source": [
        "**Contador de Números Pares e Impares**: Recibe un número ingresado por el usuario y cuenta cuántos dígitos son pares y cuántos son impares.\n"
      ]
    },
    {
      "cell_type": "code",
      "execution_count": 38,
      "id": "kPPLLVN9kTys",
      "metadata": {
        "id": "kPPLLVN9kTys"
      },
      "outputs": [
        {
          "name": "stdout",
          "output_type": "stream",
          "text": [
            "El número 092387409876250796345 tiene 11 dígitos pares y 10 dígitos impares.\n"
          ]
        }
      ],
      "source": [
        "numero = input(\"Ingresa un número entero: \")\n",
        "pares = impares = 0\n",
        "for digito in numero:\n",
        "    if int(digito)%2 == 0:\n",
        "        pares +=1\n",
        "    else:\n",
        "        impares +=1\n",
        "print(f\"El número {numero} tiene {pares} dígitos pares y {impares} dígitos impares.\")"
      ]
    },
    {
      "cell_type": "markdown",
      "id": "C9Qedi4ikWP5",
      "metadata": {
        "id": "C9Qedi4ikWP5"
      },
      "source": [
        "**Suma de Dígitos:** Calcula la suma de los dígitos de un número ingresado por el usuario.\n"
      ]
    },
    {
      "cell_type": "code",
      "execution_count": 37,
      "id": "42k6PBvjkYs5",
      "metadata": {
        "id": "42k6PBvjkYs5"
      },
      "outputs": [
        {
          "name": "stdout",
          "output_type": "stream",
          "text": [
            "La suma de los digitos del número 23897429834792837492834792 es de 143.\n"
          ]
        }
      ],
      "source": [
        "numero = input(\"Ingresa un número entero: \")\n",
        "suma = 0\n",
        "for digito in numero:\n",
        "    suma += int(digito)\n",
        "print(f\"La suma de los digitos del número {numero} es de {suma}.\")"
      ]
    },
    {
      "cell_type": "markdown",
      "id": "ZQbRpAtYka3k",
      "metadata": {
        "id": "ZQbRpAtYka3k"
      },
      "source": [
        "**Buscar Número**: Recibe un número ingresado por el usuario y busca un dígito específico también ingresado por el usuario."
      ]
    },
    {
      "cell_type": "code",
      "execution_count": 36,
      "id": "PzjM1PYNkcUb",
      "metadata": {
        "id": "PzjM1PYNkcUb"
      },
      "outputs": [
        {
          "name": "stdout",
          "output_type": "stream",
          "text": [
            "El dígito 5 no está en el número 2934872398729487234.\n"
          ]
        }
      ],
      "source": [
        "numero = input(\"Ingresa un número entero: \")\n",
        "digito = input(\"Ingresa un solo dígito: \")\n",
        "for digitos in numero:\n",
        "    if digito == digitos:\n",
        "        print(f\"El dígito {digito} si está en el número {numero}.\")\n",
        "else:\n",
        "    print(f\"El dígito {digito} no está en el número {numero}.\")"
      ]
    },
    {
      "cell_type": "markdown",
      "id": "L9EqbBJ6kkLE",
      "metadata": {
        "id": "L9EqbBJ6kkLE"
      },
      "source": [
        "### Los siguientes ejercicios despertaran al matemático que llevan dentro (o no)"
      ]
    },
    {
      "cell_type": "markdown",
      "id": "Amfybe-XktPA",
      "metadata": {
        "id": "Amfybe-XktPA"
      },
      "source": [
        "**Secuencia de Fibonacci:** Imprime los primeros 10 números de la secuencia de Fibonacci.\n"
      ]
    },
    {
      "cell_type": "code",
      "execution_count": 35,
      "id": "4wUtWzZmksJT",
      "metadata": {
        "id": "4wUtWzZmksJT"
      },
      "outputs": [
        {
          "name": "stdout",
          "output_type": "stream",
          "text": [
            "1, 1, 2, 3, 5, 8, 13, 21, 34, 55, "
          ]
        }
      ],
      "source": [
        "n_Fiboniacci = 10\n",
        "aux1 = aux2 = 1\n",
        "print(\"1, 1\", end=\", \")\n",
        "for i in range(n_Fiboniacci-2):\n",
        "    fib = aux1 + aux2\n",
        "    aux1 = aux2\n",
        "    aux2 = fib\n",
        "    print(fib, end=\", \")"
      ]
    },
    {
      "cell_type": "markdown",
      "id": "WBDsAmKskxk-",
      "metadata": {
        "id": "WBDsAmKskxk-"
      },
      "source": [
        "**Números primos:** Imprime los primeros 10 números primos.\n"
      ]
    },
    {
      "cell_type": "code",
      "execution_count": 27,
      "id": "Y37SKN0JkzA2",
      "metadata": {
        "id": "Y37SKN0JkzA2"
      },
      "outputs": [
        {
          "name": "stdout",
          "output_type": "stream",
          "text": [
            "2, 3, 5, 7, 11, 13, 17, 19, 23, 29, "
          ]
        }
      ],
      "source": [
        "n_primos = 10\n",
        "contador = 0\n",
        "primo = 2\n",
        "while contador < n_primos:\n",
        "    for aux in range (2, primo):\n",
        "        if primo % aux == 0:\n",
        "            break\n",
        "    else:\n",
        "        print(primo, end=\", \")\n",
        "        contador +=1\n",
        "    primo +=1"
      ]
    },
    {
      "cell_type": "markdown",
      "id": "EaHRH3bakzxf",
      "metadata": {
        "id": "EaHRH3bakzxf"
      },
      "source": [
        "**Números perfectos**: Imprime los primeros 3 números perfectos (un número es perfecto cuando es igual a la suma de sus divisores propios)."
      ]
    },
    {
      "cell_type": "code",
      "execution_count": 34,
      "id": "33APJMj-k1ai",
      "metadata": {
        "id": "33APJMj-k1ai"
      },
      "outputs": [
        {
          "name": "stdout",
          "output_type": "stream",
          "text": [
            "6, 28, 496, "
          ]
        }
      ],
      "source": [
        "n_perfectos = 3\n",
        "contador = 0\n",
        "perfecto = 2\n",
        "while contador < n_perfectos:\n",
        "    suma = 0\n",
        "    for aux in range (1, perfecto):\n",
        "        if perfecto % aux == 0:\n",
        "            suma += aux\n",
        "    if suma == perfecto:\n",
        "        print(perfecto, end=\", \")\n",
        "        contador +=1\n",
        "    perfecto +=1"
      ]
    },
    {
      "cell_type": "markdown",
      "id": "eZwEgsDyxRtM",
      "metadata": {
        "id": "eZwEgsDyxRtM"
      },
      "source": [
        "##  Funciones"
      ]
    },
    {
      "cell_type": "markdown",
      "id": "hYantFrZxU7T",
      "metadata": {
        "id": "hYantFrZxU7T"
      },
      "source": [
        "Primero vamos a deinir las funciones"
      ]
    },
    {
      "cell_type": "code",
      "execution_count": null,
      "id": "G595dfn7xUN0",
      "metadata": {
        "id": "G595dfn7xUN0"
      },
      "outputs": [],
      "source": [
        "def saludar(nombre):\n",
        "    print(\"¡Hola,\", nombre, \"!\")\n",
        "\n",
        "def area_rectangulo(base, altura):\n",
        "    area = base * altura\n",
        "    return area\n",
        "\n",
        "def calcular_promedio(lista):\n",
        "    if not lista:\n",
        "        return 0\n",
        "    suma = sum(lista)\n",
        "    promedio = suma / len(lista)\n",
        "    return promedio\n",
        "\n",
        "def factorial(numero):\n",
        "    if numero == 0:\n",
        "        return 1\n",
        "    else:\n",
        "        return numero * factorial(numero - 1)"
      ]
    },
    {
      "cell_type": "markdown",
      "id": "daTn-4KGxmPt",
      "metadata": {
        "id": "daTn-4KGxmPt"
      },
      "source": [
        "Luego de ejecutar la celda anterior podemos utilizar las funciones"
      ]
    },
    {
      "cell_type": "code",
      "execution_count": null,
      "id": "gyHSg4Q_xqDx",
      "metadata": {
        "colab": {
          "base_uri": "https://localhost:8080/"
        },
        "id": "gyHSg4Q_xqDx",
        "outputId": "6b7062eb-e63a-4175-bab6-5de03db53fcd"
      },
      "outputs": [
        {
          "name": "stdout",
          "output_type": "stream",
          "text": [
            "Ingresa tu nombre: jorge\n",
            "¡Hola, jorge !\n"
          ]
        }
      ],
      "source": [
        "nombre = input(\"Ingresa tu nombre: \")\n",
        "saludar(nombre)"
      ]
    },
    {
      "cell_type": "code",
      "execution_count": null,
      "id": "3H4ivl69xtmN",
      "metadata": {
        "colab": {
          "base_uri": "https://localhost:8080/"
        },
        "id": "3H4ivl69xtmN",
        "outputId": "f96ced84-6b35-45d1-d8b6-fbd02a544d49"
      },
      "outputs": [
        {
          "name": "stdout",
          "output_type": "stream",
          "text": [
            "Ingresa la base del rectangulo: 2\n",
            "Ingresa la altura del rectangulo: 3\n",
            "El area del rectangulo es:  6.0\n"
          ]
        }
      ],
      "source": [
        "base = float (input(\"Ingresa la base del rectangulo: \"))\n",
        "altura = float (input(\"Ingresa la altura del rectangulo: \"))\n",
        "print(\"El area del rectangulo es: \", area_rectangulo(base, altura))"
      ]
    },
    {
      "cell_type": "code",
      "execution_count": null,
      "id": "FFRbQgjayNk-",
      "metadata": {
        "colab": {
          "base_uri": "https://localhost:8080/"
        },
        "id": "FFRbQgjayNk-",
        "outputId": "d9655825-d80e-4839-ad9f-a570d4e7cf5a"
      },
      "outputs": [
        {
          "name": "stdout",
          "output_type": "stream",
          "text": [
            "El promedio del alumno es: 7.428571428571429\n"
          ]
        }
      ],
      "source": [
        "calificaciones = [7,9,6,8,9,7,6]\n",
        "print(\"El promedio del alumno es:\", calcular_promedio(calificaciones))"
      ]
    },
    {
      "cell_type": "code",
      "execution_count": null,
      "id": "cpIj-ocIzS6W",
      "metadata": {
        "colab": {
          "base_uri": "https://localhost:8080/"
        },
        "id": "cpIj-ocIzS6W",
        "outputId": "d9308f51-02b3-4da8-8deb-ec23419dc45c"
      },
      "outputs": [
        {
          "name": "stdout",
          "output_type": "stream",
          "text": [
            "Ingresa un numero para conocer su factorial: 5\n",
            "El factorial de 5 es 120\n"
          ]
        }
      ],
      "source": [
        "numero = int(input(\"Ingresa un numero para conocer su factorial: \"))\n",
        "print(f\"El factorial de {numero} es {factorial(numero)}\")"
      ]
    },
    {
      "cell_type": "markdown",
      "id": "qh_jGn7SKlyn",
      "metadata": {
        "id": "qh_jGn7SKlyn"
      },
      "source": [
        "## Funciones de las listas numéricas"
      ]
    },
    {
      "cell_type": "code",
      "execution_count": null,
      "id": "2FhT5tUEKtLl",
      "metadata": {
        "colab": {
          "base_uri": "https://localhost:8080/"
        },
        "id": "2FhT5tUEKtLl",
        "outputId": "d6ff7c2d-8403-4664-acd6-e114a47e5d5f"
      },
      "outputs": [
        {
          "name": "stdout",
          "output_type": "stream",
          "text": [
            "\n",
            "Lista original: [2, 5, 8, 7, 4, 6, 9, 4, 2, 6, 7, 9, 4]\n",
            "Longitud de la lista: 13\n",
            "Suma de los valores de la lista: 73\n",
            "Numero minimo: 2\n",
            "Numero maximo: 9\n",
            "Lista ordenada: [2, 2, 4, 4, 4, 5, 6, 6, 7, 7, 8, 9, 9]\n",
            "\n"
          ]
        }
      ],
      "source": [
        "lista = [2,5,8,7,4,6,9,4,2,6,7,9,4]\n",
        "longitud = len(lista)\n",
        "suma = sum(lista)\n",
        "minimo = min(lista)\n",
        "maximo = max(lista)\n",
        "lista_ordenada = sorted(lista)\n",
        "\n",
        "print(f\"\"\"\n",
        "Lista original: {lista}\n",
        "Longitud de la lista: {longitud}\n",
        "Suma de los valores de la lista: {suma}\n",
        "Numero minimo: {minimo}\n",
        "Numero maximo: {maximo}\n",
        "Lista ordenada: {lista_ordenada}\n",
        "\"\"\")"
      ]
    },
    {
      "cell_type": "markdown",
      "id": "m3wJFcnsOnAj",
      "metadata": {
        "id": "m3wJFcnsOnAj"
      },
      "source": [
        "## **Ejercicios** de funciones"
      ]
    },
    {
      "cell_type": "markdown",
      "id": "Fkfj1hpowDKO",
      "metadata": {
        "id": "Fkfj1hpowDKO"
      },
      "source": [
        "### Crea funciones que devuelvan el valor *numérico* solicitado y muestre su funcionamiento"
      ]
    },
    {
      "cell_type": "markdown",
      "id": "Hud5POc1wZ0C",
      "metadata": {
        "id": "Hud5POc1wZ0C"
      },
      "source": [
        "El área de un círculo dado su radio.\n"
      ]
    },
    {
      "cell_type": "code",
      "execution_count": 1,
      "id": "IJG4toq5Opqb",
      "metadata": {
        "id": "IJG4toq5Opqb"
      },
      "outputs": [
        {
          "name": "stdout",
          "output_type": "stream",
          "text": [
            "3.141592653589793\n"
          ]
        }
      ],
      "source": [
        "import math\n",
        "def area_circulo(radio):\n",
        "    return math.pi * radio ** 2\n",
        "\n",
        "print(area_circulo(1))"
      ]
    },
    {
      "cell_type": "markdown",
      "id": "a9M1qH1jwkXE",
      "metadata": {
        "id": "a9M1qH1jwkXE"
      },
      "source": [
        "Convertir grados Celsius a Fahrenheit.\n"
      ]
    },
    {
      "cell_type": "code",
      "execution_count": 2,
      "id": "kzBpBGUqwl5L",
      "metadata": {
        "id": "kzBpBGUqwl5L"
      },
      "outputs": [
        {
          "name": "stdout",
          "output_type": "stream",
          "text": [
            "50.0\n"
          ]
        }
      ],
      "source": [
        "def celsiusToFahrenheit (gradosC):\n",
        "    return gradosC*9/5+32\n",
        "\n",
        "print(celsiusToFahrenheit(10))"
      ]
    },
    {
      "cell_type": "markdown",
      "id": "DmnVrPGJwmh-",
      "metadata": {
        "id": "DmnVrPGJwmh-"
      },
      "source": [
        "El área de un triángulo dado su base y altura.\n"
      ]
    },
    {
      "cell_type": "code",
      "execution_count": 3,
      "id": "fqIwjsu7wn0T",
      "metadata": {
        "id": "fqIwjsu7wn0T"
      },
      "outputs": [
        {
          "name": "stdout",
          "output_type": "stream",
          "text": [
            "3.0\n"
          ]
        }
      ],
      "source": [
        "def areaTriangulo(base, altura):\n",
        "    return base * altura / 2\n",
        "\n",
        "print(areaTriangulo(2,3))"
      ]
    },
    {
      "cell_type": "markdown",
      "id": "5qiVMTf4woWx",
      "metadata": {
        "id": "5qiVMTf4woWx"
      },
      "source": [
        "El promedio de tres números ingresados por el usuario.\n"
      ]
    },
    {
      "cell_type": "code",
      "execution_count": 4,
      "id": "5Q2bRJk8wpkU",
      "metadata": {
        "id": "5Q2bRJk8wpkU"
      },
      "outputs": [
        {
          "name": "stdout",
          "output_type": "stream",
          "text": [
            "2.0\n"
          ]
        }
      ],
      "source": [
        "def promedio_de_3(num1, num2, num3):\n",
        "    return (num1 + num2 + num3)/3\n",
        "\n",
        "print(promedio_de_3(1,2,3))"
      ]
    },
    {
      "cell_type": "markdown",
      "id": "4IpOdnixwp_C",
      "metadata": {
        "id": "4IpOdnixwp_C"
      },
      "source": [
        "La suma de los primeros N números naturales que solicite el usuario\n"
      ]
    },
    {
      "cell_type": "code",
      "execution_count": 5,
      "id": "MqgPP3yuwqc-",
      "metadata": {
        "id": "MqgPP3yuwqc-"
      },
      "outputs": [
        {
          "name": "stdout",
          "output_type": "stream",
          "text": [
            "5050\n"
          ]
        }
      ],
      "source": [
        "def sumatoria_n(n):\n",
        "    suma = 0\n",
        "    for contador in range(n):\n",
        "        suma += contador +1\n",
        "    return suma\n",
        "\n",
        "print(sumatoria_n(100))"
      ]
    },
    {
      "cell_type": "markdown",
      "id": "J6YVAyrGwsMc",
      "metadata": {
        "id": "J6YVAyrGwsMc"
      },
      "source": [
        "Leer una cadena y contar cuántas vocales contiene (usando un bucle for)."
      ]
    },
    {
      "cell_type": "code",
      "execution_count": 6,
      "id": "OwUcROJNwsvD",
      "metadata": {
        "id": "OwUcROJNwsvD"
      },
      "outputs": [
        {
          "name": "stdout",
          "output_type": "stream",
          "text": [
            "7\n"
          ]
        }
      ],
      "source": [
        "def contarVocales(palabra):\n",
        "    vocales =0\n",
        "    for letra in palabra:\n",
        "        if letra in \"aeiouAEIOU\":\n",
        "            vocales += 1\n",
        "    return vocales\n",
        "\n",
        "print(contarVocales(\"espiritrufinesco\"))"
      ]
    },
    {
      "cell_type": "markdown",
      "id": "nAQVrQ4ow9Pa",
      "metadata": {
        "id": "nAQVrQ4ow9Pa"
      },
      "source": [
        "### Crea funciones que devuelvan el valor *booleano* solicitado y muestre su funcionamiento"
      ]
    },
    {
      "cell_type": "markdown",
      "id": "AqqSfk1hw-y7",
      "metadata": {
        "id": "AqqSfk1hw-y7"
      },
      "source": [
        "Solicitar al usuario un número e indicar si es primo o no.\n",
        "\n"
      ]
    },
    {
      "cell_type": "code",
      "execution_count": 8,
      "id": "ZjcLD5VDw-PP",
      "metadata": {
        "id": "ZjcLD5VDw-PP"
      },
      "outputs": [
        {
          "name": "stdout",
          "output_type": "stream",
          "text": [
            "False\n"
          ]
        }
      ],
      "source": [
        "def esPrimo(num):    \n",
        "    aux = 2\n",
        "    while aux < num:\n",
        "        if num % aux == 0:\n",
        "            return False\n",
        "        aux +=1\n",
        "    return True\n",
        "\n",
        "print(esPrimo(242534534641))"
      ]
    },
    {
      "cell_type": "markdown",
      "id": "JYI6ysIXxAmS",
      "metadata": {
        "id": "JYI6ysIXxAmS"
      },
      "source": [
        "Solicitar al usuario su edad y decir si es mayor de edad (18 años o más) o menor de edad."
      ]
    },
    {
      "cell_type": "code",
      "execution_count": 9,
      "id": "oB0yUC4dxBOV",
      "metadata": {
        "id": "oB0yUC4dxBOV"
      },
      "outputs": [
        {
          "name": "stdout",
          "output_type": "stream",
          "text": [
            "True\n"
          ]
        }
      ],
      "source": [
        "def mayorDeEdad(edad):\n",
        "    if edad<18:\n",
        "        return False\n",
        "    return True\n",
        "\n",
        "print(mayorDeEdad(27))"
      ]
    },
    {
      "cell_type": "markdown",
      "id": "j4h22eP2q618",
      "metadata": {
        "id": "j4h22eP2q618"
      },
      "source": [
        "## Métodos de los objetos"
      ]
    },
    {
      "cell_type": "markdown",
      "id": "el1Nqdlmsrv6",
      "metadata": {
        "id": "el1Nqdlmsrv6"
      },
      "source": [
        "### Métodos de las cadenas"
      ]
    },
    {
      "cell_type": "markdown",
      "id": "89bdfByFu6Dx",
      "metadata": {
        "id": "89bdfByFu6Dx"
      },
      "source": [
        "Los métodos upper, lower, capitalize, title, replace y format, modifican el contenido de la cadena de la siguiente forma:"
      ]
    },
    {
      "cell_type": "code",
      "execution_count": null,
      "id": "WHLSr78Yq52o",
      "metadata": {
        "colab": {
          "base_uri": "https://localhost:8080/"
        },
        "id": "WHLSr78Yq52o",
        "outputId": "0aaf767d-7281-400c-82d6-b970906ae7f2"
      },
      "outputs": [
        {
          "name": "stdout",
          "output_type": "stream",
          "text": [
            "HOLA MUNDO!\n",
            "hola mundo!\n",
            "Hola mundo!\n",
            "Hola Mundo!\n",
            "Jola mundo!\n"
          ]
        }
      ],
      "source": [
        "cadena = \"Hola mundo!\"\n",
        "print(cadena.upper())\n",
        "print(cadena.lower())\n",
        "print(cadena.capitalize())\n",
        "print(cadena.title())\n",
        "print(cadena.replace(\"H\", \"J\"))"
      ]
    },
    {
      "cell_type": "code",
      "execution_count": null,
      "id": "NPyTTbWat6fl",
      "metadata": {
        "colab": {
          "base_uri": "https://localhost:8080/"
        },
        "id": "NPyTTbWat6fl",
        "outputId": "41fd9776-cb8a-4e2e-bcda-6fbf7663e3df"
      },
      "outputs": [
        {
          "name": "stdout",
          "output_type": "stream",
          "text": [
            "Por {} piezas de {} pague {} pesos.\n",
            "Por 3 piezas de melón pague 49.95 pesos.\n"
          ]
        }
      ],
      "source": [
        "cantidad = 3\n",
        "fruta = \"melón\"\n",
        "precio = 49.95\n",
        "mi_orden = \"Por {} piezas de {} pague {} pesos.\"\n",
        "\n",
        "print(mi_orden)\n",
        "print(mi_orden.format(cantidad, fruta, precio))"
      ]
    },
    {
      "cell_type": "markdown",
      "id": "dzJWvE1pvc1E",
      "metadata": {
        "id": "dzJWvE1pvc1E"
      },
      "source": [
        "Los métodos isalnum, isalpha, isdigit y count, verifican el contenido de la cadena de la siguiente forma:"
      ]
    },
    {
      "cell_type": "code",
      "execution_count": null,
      "id": "YJzDP76qwuz0",
      "metadata": {
        "colab": {
          "base_uri": "https://localhost:8080/"
        },
        "id": "YJzDP76qwuz0",
        "outputId": "402f2acf-8c06-4fd5-a982-b60296acb5d7"
      },
      "outputs": [
        {
          "name": "stdout",
          "output_type": "stream",
          "text": [
            "True\n",
            "False\n",
            "True\n"
          ]
        }
      ],
      "source": [
        "numeros = \"76576585\"\n",
        "print(numeros.isalnum())\n",
        "print(numeros.isalpha())\n",
        "print(numeros.isdigit())"
      ]
    },
    {
      "cell_type": "code",
      "execution_count": null,
      "id": "F-7zi2FKw6BX",
      "metadata": {
        "colab": {
          "base_uri": "https://localhost:8080/"
        },
        "id": "F-7zi2FKw6BX",
        "outputId": "14f73e2e-c686-4d4e-f56b-1c354b5233db"
      },
      "outputs": [
        {
          "name": "stdout",
          "output_type": "stream",
          "text": [
            "True\n",
            "True\n",
            "False\n"
          ]
        }
      ],
      "source": [
        "letras = \"asdfghjklñ\"\n",
        "print(letras.isalnum())\n",
        "print(letras.isalpha())\n",
        "print(letras.isdigit())"
      ]
    },
    {
      "cell_type": "code",
      "execution_count": null,
      "id": "GLe0GcjKw4W6",
      "metadata": {
        "colab": {
          "base_uri": "https://localhost:8080/"
        },
        "id": "GLe0GcjKw4W6",
        "outputId": "4cc47ebb-6191-497f-d5fd-32c812691cd0"
      },
      "outputs": [
        {
          "name": "stdout",
          "output_type": "stream",
          "text": [
            "False\n",
            "False\n",
            "False\n"
          ]
        }
      ],
      "source": [
        "texto = \"Hola mundo\"\n",
        "print(texto.isalnum())\n",
        "print(texto.isalpha())\n",
        "print(texto.isdigit())"
      ]
    },
    {
      "cell_type": "code",
      "execution_count": null,
      "id": "ocAyvjnRxXsS",
      "metadata": {
        "colab": {
          "base_uri": "https://localhost:8080/"
        },
        "id": "ocAyvjnRxXsS",
        "outputId": "fb7eb3a4-4004-47a9-c22a-3ea729791083"
      },
      "outputs": [
        {
          "name": "stdout",
          "output_type": "stream",
          "text": [
            "5\n"
          ]
        }
      ],
      "source": [
        "cadena = \"\"\"\n",
        "Un melón gigante descansaba bajo el sol ardiente del verano, listo para ser disfrutado en el próximo picnic. Los niños, ansiosos por probarlo,\n",
        "se reunieron alrededor del melón, sus ojos brillando de anticipación. Con un cuchillo afilado, el padre cortó cuidadosamente el melón y reveló\n",
        "su interior jugoso y refrescante. Cada bocado de melón era una explosión de dulzura y frescura en sus bocas. ¡El melón nunca había sabido tan\n",
        "bien como en ese día caluroso de verano!\n",
        "\"\"\"\n",
        "print(cadena.count(\"melón\"))"
      ]
    },
    {
      "cell_type": "markdown",
      "id": "v3VhPcBpyrVM",
      "metadata": {
        "id": "v3VhPcBpyrVM"
      },
      "source": [
        "### Métodos de las listas"
      ]
    },
    {
      "cell_type": "markdown",
      "id": "EHbPKLP16a7h",
      "metadata": {
        "id": "EHbPKLP16a7h"
      },
      "source": [
        "**Acceder** a los elementos de una lista"
      ]
    },
    {
      "cell_type": "code",
      "execution_count": null,
      "id": "0pPrteaIxyw_",
      "metadata": {
        "colab": {
          "base_uri": "https://localhost:8080/"
        },
        "id": "0pPrteaIxyw_",
        "outputId": "81d322c7-b6ee-4345-9db9-9d5bd071f281"
      },
      "outputs": [
        {
          "name": "stdout",
          "output_type": "stream",
          "text": [
            "El primer elemento:  mélon\n",
            "El tercer elemento:  uva\n",
            "El último elemento:  papaya\n",
            "Elementos del tercer al cuarto elemento:  ['uva', 'sandia']\n",
            "Elementos del primer al tercer elemento:  ['mélon', 'manzana', 'uva']\n",
            "Elementos del cuarto al último elemento:  ['sandia', 'fresa', 'toronja', 'papaya']\n"
          ]
        }
      ],
      "source": [
        "lista = [\"mélon\", \"manzana\", \"uva\", \"sandia\", \"fresa\", \"toronja\", \"papaya\"]\n",
        "\n",
        "#A travéz de su indice\n",
        "print(\"El primer elemento: \", lista[0])\n",
        "print(\"El tercer elemento: \", lista[2])\n",
        "\n",
        "#A travéz de indices negativos (-1 es el último)\n",
        "print(\"El último elemento: \", lista[-1])\n",
        "\n",
        "#A travéz de rango de indices\n",
        "print(\"Elementos del tercer al cuarto elemento: \", lista[2:4])\n",
        "print(\"Elementos del primer al tercer elemento: \", lista[:3])\n",
        "print(\"Elementos del cuarto al último elemento: \", lista[3:])"
      ]
    },
    {
      "cell_type": "markdown",
      "id": "zIe9HBKBACMm",
      "metadata": {
        "id": "zIe9HBKBACMm"
      },
      "source": [
        "**Modificar** los elementos de la lista"
      ]
    },
    {
      "cell_type": "code",
      "execution_count": null,
      "id": "yLbyCfjb-UXE",
      "metadata": {
        "colab": {
          "base_uri": "https://localhost:8080/"
        },
        "id": "yLbyCfjb-UXE",
        "outputId": "f5b34d55-4861-493a-852c-ba3c044ea23b"
      },
      "outputs": [
        {
          "name": "stdout",
          "output_type": "stream",
          "text": [
            "Lista original:\n",
            " ['perro', 'gato', 'tortuga', 'pez', 'hamster']\n",
            "\n",
            "Modificamos el 4to elemento:\n",
            " ['perro', 'gato', 'tortuga', 'ave', 'hamster']\n",
            "\n",
            "Agregamos león al final:\n",
            " ['perro', 'gato', 'tortuga', 'ave', 'hamster', 'león']\n",
            "\n",
            "Agregamos tiburon en la segunda posición:\n",
            " ['perro', 'tiburon', 'gato', 'tortuga', 'ave', 'hamster', 'león']\n",
            "\n",
            "Extendemos la lista original con la otra lista:\n",
            " ['perro', 'tiburon', 'gato', 'tortuga', 'ave', 'hamster', 'león', 'cocodrilo', 'jirafa', 'ratón']\n",
            "\n",
            "Removemos el elemento león:\n",
            " ['perro', 'tiburon', 'gato', 'tortuga', 'ave', 'hamster', 'cocodrilo', 'jirafa', 'ratón']\n",
            "\n",
            "Eliminamos el último elemento:\n",
            " ['perro', 'tiburon', 'gato', 'tortuga', 'ave', 'hamster', 'cocodrilo', 'jirafa']\n",
            "\n",
            "Eliminamos el 6to elemento:\n",
            " ['perro', 'tiburon', 'gato', 'tortuga', 'ave', 'cocodrilo', 'jirafa']\n",
            "\n",
            "Eliminamos todos los elementos:\n",
            " []\n"
          ]
        }
      ],
      "source": [
        "lista = [\"perro\", \"gato\", \"tortuga\", \"pez\", \"hamster\"]\n",
        "print(\"Lista original:\\n\", lista)\n",
        "\n",
        "lista[3] = \"ave\"\n",
        "print(\"\\nModificamos el 4to elemento:\\n\", lista)\n",
        "\n",
        "lista.append(\"león\")\n",
        "print(\"\\nAgregamos león al final:\\n\", lista)\n",
        "\n",
        "lista.insert(1, \"tiburon\")\n",
        "print(\"\\nAgregamos tiburon en la segunda posición:\\n\", lista)\n",
        "\n",
        "otra_lista = [\"cocodrilo\", \"jirafa\", \"ratón\"]\n",
        "lista.extend(otra_lista)\n",
        "print(\"\\nExtendemos la lista original con la otra lista:\\n\", lista)\n",
        "\n",
        "lista.remove(\"león\")\n",
        "print(\"\\nRemovemos el elemento león:\\n\", lista)\n",
        "\n",
        "lista.pop()\n",
        "print(\"\\nEliminamos el último elemento:\\n\", lista)\n",
        "\n",
        "del lista[5]\n",
        "print(\"\\nEliminamos el 6to elemento:\\n\", lista)\n",
        "\n",
        "lista.clear()\n",
        "print(\"\\nEliminamos todos los elementos:\\n\", lista)"
      ]
    },
    {
      "cell_type": "code",
      "execution_count": null,
      "id": "DleRHsQGB4yZ",
      "metadata": {
        "colab": {
          "base_uri": "https://localhost:8080/"
        },
        "id": "DleRHsQGB4yZ",
        "outputId": "dc9a7c96-acad-4453-eb20-c7801ec54f76"
      },
      "outputs": [
        {
          "name": "stdout",
          "output_type": "stream",
          "text": [
            "[2, 3, 3, 4, 4, 5, 6, 7, 8, 8, 8, 8, 9, 12, 23, 23, 45, 47, 56, 64, 76]\n"
          ]
        }
      ],
      "source": [
        "lista_numerica = [2,4,7,8,4,6,8,12,56,8,3,76,23,8,5,9,45,23,47,64,3]\n",
        "lista_numerica.sort()\n",
        "print(lista_numerica)"
      ]
    },
    {
      "cell_type": "code",
      "execution_count": null,
      "id": "bOPUSvUHGC76",
      "metadata": {
        "colab": {
          "base_uri": "https://localhost:8080/"
        },
        "id": "bOPUSvUHGC76",
        "outputId": "96489a6b-463c-42dc-fafc-740dc392ea97"
      },
      "outputs": [
        {
          "name": "stdout",
          "output_type": "stream",
          "text": [
            "['lunes', 'Martes', 'Miercoles', 'Jueves', 'Viernes']\n",
            "['Viernes', 'Jueves', 'Miercoles', 'Martes', 'lunes']\n"
          ]
        }
      ],
      "source": [
        "lista = [\"lunes\", \"Martes\", \"Miercoles\", \"Jueves\", \"Viernes\"]\n",
        "\n",
        "lista_copiada = lista.copy()\n",
        "lista.reverse()\n",
        "\n",
        "print(lista_copiada)\n",
        "print(lista)"
      ]
    },
    {
      "cell_type": "markdown",
      "id": "C5tyQNRKGkeY",
      "metadata": {
        "id": "C5tyQNRKGkeY"
      },
      "source": [
        "### Método join"
      ]
    },
    {
      "cell_type": "markdown",
      "id": "GJW5VmAQGurG",
      "metadata": {
        "id": "GJW5VmAQGurG"
      },
      "source": [
        "El método join funciona para juntar todos los elementos de una lista en una cadena, separando los elementos con la cadena especificada:\n"
      ]
    },
    {
      "cell_type": "code",
      "execution_count": null,
      "id": "w9VKqBvVGdeI",
      "metadata": {
        "colab": {
          "base_uri": "https://localhost:8080/"
        },
        "id": "w9VKqBvVGdeI",
        "outputId": "314ffb35-fcda-4227-c70a-a29bda46f311"
      },
      "outputs": [
        {
          "name": "stdout",
          "output_type": "stream",
          "text": [
            "Hola\n",
            "H_o_l_a\n"
          ]
        }
      ],
      "source": [
        "lista = [\"H\",\"o\",\"l\",\"a\"]\n",
        "cadena1 = \"\".join(lista)\n",
        "cadena2 = \"_\".join(lista)\n",
        "\n",
        "print(cadena1)\n",
        "print(cadena2)"
      ]
    },
    {
      "cell_type": "markdown",
      "id": "pYmHnVW9H5ul",
      "metadata": {
        "id": "pYmHnVW9H5ul"
      },
      "source": [
        "### Comprehesion de listas"
      ]
    },
    {
      "cell_type": "markdown",
      "id": "C2vSiqrjICPj",
      "metadata": {
        "id": "C2vSiqrjICPj"
      },
      "source": [
        "Los siguientes codigos realizan la misma función:"
      ]
    },
    {
      "cell_type": "code",
      "execution_count": null,
      "id": "QMJT6F9MHPwa",
      "metadata": {
        "colab": {
          "base_uri": "https://localhost:8080/"
        },
        "id": "QMJT6F9MHPwa",
        "outputId": "0826f8b2-a224-4388-cc83-2a6799f40f5c"
      },
      "outputs": [
        {
          "name": "stdout",
          "output_type": "stream",
          "text": [
            "['apple', 'banana', 'mango']\n"
          ]
        }
      ],
      "source": [
        "fruits = [\"apple\", \"banana\", \"cherry\", \"kiwi\", \"mango\"]\n",
        "newlist = []\n",
        "\n",
        "for x in fruits:\n",
        "  if \"a\" in x:\n",
        "    newlist.append(x)\n",
        "\n",
        "print(newlist)"
      ]
    },
    {
      "cell_type": "code",
      "execution_count": null,
      "id": "syYFkoYAIN2d",
      "metadata": {
        "colab": {
          "base_uri": "https://localhost:8080/"
        },
        "id": "syYFkoYAIN2d",
        "outputId": "8942b7ac-eb72-4c57-f04b-8046585264db"
      },
      "outputs": [
        {
          "name": "stdout",
          "output_type": "stream",
          "text": [
            "['apple', 'banana', 'mango']\n"
          ]
        }
      ],
      "source": [
        "fruits = [\"apple\", \"banana\", \"cherry\", \"kiwi\", \"mango\"]\n",
        "\n",
        "newlist = [x for x in fruits if \"a\" in x]\n",
        "\n",
        "print(newlist)"
      ]
    },
    {
      "cell_type": "markdown",
      "id": "kZyY1PytXwFa",
      "metadata": {
        "id": "kZyY1PytXwFa"
      },
      "source": [
        "### Métodos de los diccionarios"
      ]
    },
    {
      "cell_type": "code",
      "execution_count": null,
      "id": "G3Glt3USX17r",
      "metadata": {
        "id": "G3Glt3USX17r"
      },
      "outputs": [],
      "source": [
        "diccionario = {\n",
        "    \"Nombres\": \"Jorge Ivan\",\n",
        "    \"Apellidos\": \"Vazquez Rocha\",\n",
        "    \"Edad\" : 27,\n",
        "    \"Cumpleaños\": \"11 de Diciembre\"\n",
        "}"
      ]
    },
    {
      "cell_type": "code",
      "execution_count": null,
      "id": "wkwC6_6Yp3cf",
      "metadata": {
        "colab": {
          "base_uri": "https://localhost:8080/"
        },
        "id": "wkwC6_6Yp3cf",
        "outputId": "1920e49f-be46-426c-be3a-7aac16addaa4"
      },
      "outputs": [
        {
          "name": "stdout",
          "output_type": "stream",
          "text": [
            "{'Nombres': 'Jorge Ivan', 'Apellidos': 'Vazquez Rocha', 'Edad': 27, 'Cumpleaños': '11 de Diciembre'}\n"
          ]
        }
      ],
      "source": [
        "print(diccionario)"
      ]
    },
    {
      "cell_type": "code",
      "execution_count": null,
      "id": "fN2T5h68rk91",
      "metadata": {
        "colab": {
          "base_uri": "https://localhost:8080/"
        },
        "id": "fN2T5h68rk91",
        "outputId": "9e6936ec-bf5c-4f7d-86a9-d31325cbe133"
      },
      "outputs": [
        {
          "name": "stdout",
          "output_type": "stream",
          "text": [
            "Jorge Ivan\n"
          ]
        }
      ],
      "source": [
        "#Podemos acceder a los valores a travéz de la llave\n",
        "print(diccionario[\"Nombres\"])"
      ]
    },
    {
      "cell_type": "code",
      "execution_count": null,
      "id": "w9eOOc7SqLrL",
      "metadata": {
        "colab": {
          "base_uri": "https://localhost:8080/"
        },
        "id": "w9eOOc7SqLrL",
        "outputId": "a20bf0b9-a65d-41b3-ef97-411bf5f8b8b7"
      },
      "outputs": [
        {
          "name": "stdout",
          "output_type": "stream",
          "text": [
            "dict_keys(['Nombres', 'Apellidos', 'Edad', 'Cumpleaños'])\n",
            "dict_values(['Jorge Ivan', 'Vazquez Rocha', 27, '11 de Diciembre'])\n",
            "dict_items([('Nombres', 'Jorge Ivan'), ('Apellidos', 'Vazquez Rocha'), ('Edad', 27), ('Cumpleaños', '11 de Diciembre')])\n"
          ]
        }
      ],
      "source": [
        "#El método keys devuelve las llaves del diccionario\n",
        "llaves = diccionario.keys()\n",
        "print(llaves)\n",
        "\n",
        "#El método values devuelve los valores del dicionario\n",
        "valores = diccionario.values()\n",
        "print(valores)\n",
        "\n",
        "#El método items devuelve las parejas llave-valor\n",
        "llave_valor = diccionario.items()\n",
        "print(llave_valor)"
      ]
    },
    {
      "cell_type": "code",
      "execution_count": null,
      "id": "x3pGsFOVrKj9",
      "metadata": {
        "colab": {
          "base_uri": "https://localhost:8080/"
        },
        "id": "x3pGsFOVrKj9",
        "outputId": "344d701e-e4fe-4c57-b491-b2ac1f5d85ac"
      },
      "outputs": [
        {
          "name": "stdout",
          "output_type": "stream",
          "text": [
            "['Nombres', 'Apellidos', 'Edad', 'Cumpleaños']\n",
            "['Jorge Ivan', 'Vazquez Rocha', 27, '11 de Diciembre']\n",
            "[('Nombres', 'Jorge Ivan'), ('Apellidos', 'Vazquez Rocha'), ('Edad', 27), ('Cumpleaños', '11 de Diciembre')]\n"
          ]
        }
      ],
      "source": [
        "#Podemos transformar estos datos a una lista y trabajar con ellos\n",
        "lista_llaves = list(llaves)\n",
        "lista_valores = list(valores)\n",
        "lista_items = list(llave_valor)\n",
        "\n",
        "print(lista_llaves)\n",
        "print(lista_valores)\n",
        "print(lista_items)"
      ]
    },
    {
      "cell_type": "code",
      "execution_count": null,
      "id": "AW4b-ELvr7Em",
      "metadata": {
        "colab": {
          "base_uri": "https://localhost:8080/"
        },
        "id": "AW4b-ELvr7Em",
        "outputId": "0eee2705-57c1-415c-a2eb-d7ff88261251"
      },
      "outputs": [
        {
          "name": "stdout",
          "output_type": "stream",
          "text": [
            "Nombres = Jorge Ivan\n",
            "Apellidos = Vazquez Rocha\n",
            "Edad = 27\n",
            "Cumpleaños = 11 de Diciembre\n"
          ]
        }
      ],
      "source": [
        "#Por ejemplo podemos mostrar el diccionario de forma mas elegante usando la lista de llaves y accediendo a sus valores en el diccionario\n",
        "\n",
        "for llave in lista_llaves:\n",
        "  print(f\"{llave} = {diccionario[llave]}\")"
      ]
    },
    {
      "cell_type": "code",
      "execution_count": null,
      "id": "XOxCzBowsfGV",
      "metadata": {
        "colab": {
          "base_uri": "https://localhost:8080/"
        },
        "id": "XOxCzBowsfGV",
        "outputId": "1d3cef5c-d20e-4e28-cb4a-de83f754d7e4"
      },
      "outputs": [
        {
          "name": "stdout",
          "output_type": "stream",
          "text": [
            "Nombres = Jorge Ivan\n",
            "Apellidos = Vazquez Rocha\n",
            "Edad = 27\n",
            "Cumpleaños = 11 de Diciembre\n"
          ]
        }
      ],
      "source": [
        "#Tambien podemos mostrarlos usando la lista de items\n",
        "\n",
        "for llave, valor in lista_items:\n",
        "  print(f\"{llave} = {valor}\")"
      ]
    },
    {
      "cell_type": "markdown",
      "id": "mIZ8VZ87M30E",
      "metadata": {
        "id": "mIZ8VZ87M30E"
      },
      "source": [
        "## **Ejercicios** completos"
      ]
    },
    {
      "cell_type": "markdown",
      "id": "4VUCPEZ-M_NX",
      "metadata": {
        "id": "4VUCPEZ-M_NX"
      },
      "source": [
        "**Lista de Compras:** Crea un programa que permita al usuario mantener una lista de compras. El usuario puede agregar, eliminar y ver los elementos de la lista. Usa una lista para almacenar los elementos y un bucle while para que el usuario realice múltiples acciones."
      ]
    },
    {
      "cell_type": "code",
      "execution_count": 1,
      "id": "0uKeOv7AM2uS",
      "metadata": {
        "id": "0uKeOv7AM2uS"
      },
      "outputs": [
        {
          "name": "stdout",
          "output_type": "stream",
          "text": [
            "Bienvenido al programa que te permite crear una lista de compras, ademas de ver, agregar y eliminar los elementos.\n",
            "Comencemos por agregar los primeros elementos, ingresa 0 para terminar.\n",
            "\n",
            "Este es el menú de opciones, que quieres realizar?\n",
            "      1.-Ver elementos\n",
            "      2.-Agregar elementos\n",
            "      3.-Eliminar elementos\n",
            "      4.-Finalizar programa    \n",
            "      \n",
            "1: manzana\n",
            "2: melon\n",
            "3: fresa\n",
            "\n",
            "Este es el menú de opciones, que quieres realizar?\n",
            "      1.-Ver elementos\n",
            "      2.-Agregar elementos\n",
            "      3.-Eliminar elementos\n",
            "      4.-Finalizar programa    \n",
            "      \n",
            "Elemento agregado\n",
            "\n",
            "Este es el menú de opciones, que quieres realizar?\n",
            "      1.-Ver elementos\n",
            "      2.-Agregar elementos\n",
            "      3.-Eliminar elementos\n",
            "      4.-Finalizar programa    \n",
            "      \n",
            "Ese elemento ya está en la lista.\n",
            "\n",
            "Este es el menú de opciones, que quieres realizar?\n",
            "      1.-Ver elementos\n",
            "      2.-Agregar elementos\n",
            "      3.-Eliminar elementos\n",
            "      4.-Finalizar programa    \n",
            "      \n",
            "Ese elemento no está en la lista.\n",
            "\n",
            "Este es el menú de opciones, que quieres realizar?\n",
            "      1.-Ver elementos\n",
            "      2.-Agregar elementos\n",
            "      3.-Eliminar elementos\n",
            "      4.-Finalizar programa    \n",
            "      \n",
            "opcion no válida.\n",
            "\n",
            "Este es el menú de opciones, que quieres realizar?\n",
            "      1.-Ver elementos\n",
            "      2.-Agregar elementos\n",
            "      3.-Eliminar elementos\n",
            "      4.-Finalizar programa    \n",
            "      \n",
            "Elemento eliminado\n",
            "\n",
            "Este es el menú de opciones, que quieres realizar?\n",
            "      1.-Ver elementos\n",
            "      2.-Agregar elementos\n",
            "      3.-Eliminar elementos\n",
            "      4.-Finalizar programa    \n",
            "      \n",
            "1: manzana\n",
            "2: melon\n",
            "3: fresa\n",
            "\n",
            "Este es el menú de opciones, que quieres realizar?\n",
            "      1.-Ver elementos\n",
            "      2.-Agregar elementos\n",
            "      3.-Eliminar elementos\n",
            "      4.-Finalizar programa    \n",
            "      \n",
            "Adiós.\n"
          ]
        }
      ],
      "source": [
        "def crearLista():\n",
        "    lista = []\n",
        "    print(\"Comencemos por agregar los primeros elementos, ingresa 0 para terminar.\")\n",
        "    while True:\n",
        "        elemento = input(\"\")\n",
        "        if elemento == \"0\":\n",
        "            break\n",
        "        elif elemento in lista:\n",
        "            print(\"Ese elemento ya está\")\n",
        "        else:\n",
        "            lista.append(elemento)\n",
        "    return lista\n",
        "\n",
        "def verLista(lista):\n",
        "    for indice, elemento in enumerate(lista):\n",
        "        print(f\"{indice+1}: {elemento}\")\n",
        "\n",
        "def agregarElementos(lista):\n",
        "    elemento = input(\"Ingresa el nuevo elemento: \")\n",
        "    if elemento in lista:\n",
        "        print(\"Ese elemento ya está en la lista.\")\n",
        "    else:\n",
        "        lista.append(elemento)\n",
        "        print(\"Elemento agregado\")\n",
        "\n",
        "def eliminarElementos(lista):\n",
        "    elemento = input(\"Ingresa el elemento que deseas eliminar: \")\n",
        "    if elemento not in lista:\n",
        "        print(\"Ese elemento no está en la lista.\")\n",
        "    else:\n",
        "        lista.remove(elemento)\n",
        "        print(\"Elemento eliminado\")\n",
        "\n",
        "print(\"Bienvenido al programa que te permite crear una lista de compras, ademas de ver, agregar y eliminar los elementos.\")\n",
        "lista = crearLista()\n",
        "\n",
        "while True:\n",
        "    print(\"\"\"\\nEste es el menú de opciones, que quieres realizar?\n",
        "      1.-Ver elementos\n",
        "      2.-Agregar elementos\n",
        "      3.-Eliminar elementos\n",
        "      4.-Finalizar programa    \n",
        "      \"\"\")\n",
        "    opcion = input(\"\")\n",
        "    if opcion == \"1\":\n",
        "        verLista(lista)\n",
        "    elif opcion == \"2\":\n",
        "        agregarElementos(lista)\n",
        "    elif opcion == \"3\":\n",
        "        eliminarElementos(lista)\n",
        "    elif opcion == \"4\":\n",
        "        opcion = input(\"Todos los datos se borrarán, estas seguro? 1=si, 0=no\")\n",
        "        if opcion ==\"1\": \n",
        "            print(\"Adiós.\")\n",
        "            break\n",
        "    else:\n",
        "        print(\"opcion no válida.\")"
      ]
    },
    {
      "cell_type": "markdown",
      "id": "7BQ4NFldNMn7",
      "metadata": {
        "id": "7BQ4NFldNMn7"
      },
      "source": [
        "**Diccionario de Contactos:** Diseña un diccionario que almacene contactos. Cada contacto debe tener un nombre y un número de teléfono. El programa debe permitir al usuario agregar nuevos contactos, buscar contactos por nombre y mostrar todos los contactos almacenados."
      ]
    },
    {
      "cell_type": "code",
      "execution_count": null,
      "id": "4IVFaTu8NWQH",
      "metadata": {
        "id": "4IVFaTu8NWQH"
      },
      "outputs": [],
      "source": [
        "# Aqui ingresa el código respuesta del ejercicio"
      ]
    },
    {
      "cell_type": "markdown",
      "id": "kDzjJ0LhNYfS",
      "metadata": {
        "id": "kDzjJ0LhNYfS"
      },
      "source": [
        "**Generador de Contraseñas:** Crea un programa que genere contraseñas seguras de forma aleatoria. Permite al usuario especificar la longitud deseada y qué tipos de caracteres debe incluir (letras mayúsculas, minúsculas, números y símbolos)."
      ]
    },
    {
      "cell_type": "code",
      "execution_count": 8,
      "id": "5HUmOLpqNfD5",
      "metadata": {
        "id": "5HUmOLpqNfD5"
      },
      "outputs": [
        {
          "name": "stdout",
          "output_type": "stream",
          "text": [
            "Valor fuera de rango\n",
            "08_69z17523%M4\n"
          ]
        }
      ],
      "source": [
        "import random \n",
        "\n",
        "def recibirValorEntero(mensaje: str, min: int, max: int) -> int:\n",
        "    while True:\n",
        "        valor = int(input(mensaje))\n",
        "        if min <= valor <= max: return valor\n",
        "        print(\"Valor fuera de rango\")\n",
        "\n",
        "minusculas = \"qwertyuioplkjhgfdsazxcvbnm\"\n",
        "mayusculas = \"QWERTYUIOPÑLKJHGFDSAZXCVBNM\"\n",
        "digitos = \"1234567890\"\n",
        "simbolos = \"!#$%&'()*+,-./:;<=>?@[\\]^_{|}~\"\n",
        "\n",
        "longitud = recibirValorEntero(\"Ingresa la longitud de la contraseña 8-14: \", 8, 14)\n",
        "minus = recibirValorEntero(\"Ingresa cuántas minusculas: \", 1, longitud-3)\n",
        "mayus = recibirValorEntero(\"Ingresa cuántas mayusculas: \", 1, longitud-2-minus)\n",
        "digi = recibirValorEntero(\"Ingresa cuántos números: \", 1, longitud-2-minus-mayus)\n",
        "simb = longitud-minus-mayus-digi\n",
        "\n",
        "contraseña = \"\".join(random.sample(((\"\".join(random.sample(minusculas,minus))) + (\"\".join(random.sample(mayusculas,mayus))) + (\"\".join(random.sample(digitos,digi))) + (\"\".join(random.sample(simbolos,simb)))), longitud))\n",
        "\n",
        "print(\"Contraseña generada:\", contraseña)"
      ]
    },
    {
      "cell_type": "markdown",
      "id": "9A4njGUqNnix",
      "metadata": {
        "id": "9A4njGUqNnix"
      },
      "source": [
        "**Carrera de Tortugas:** Simula una carrera de tortugas utilizando listas y bucles. Cada tortuga avanza una distancia aleatoria en cada turno. Muestra el progreso de las tortugas en pantalla y determina la ganadora."
      ]
    },
    {
      "cell_type": "code",
      "execution_count": null,
      "id": "9B5cF-ihNqGk",
      "metadata": {
        "id": "9B5cF-ihNqGk"
      },
      "outputs": [],
      "source": [
        "# Aqui ingresa el código respuesta del ejercicio"
      ]
    },
    {
      "cell_type": "markdown",
      "id": "LaNpEAjBNyKm",
      "metadata": {
        "id": "LaNpEAjBNyKm"
      },
      "source": [
        "**Simulador de Banco:** Implementa un programa que simule las operaciones bancarias, como depósitos, retiros y consultas de saldo. Utiliza funciones para realizar estas operaciones y lleva un registro de las cuentas de los clientes"
      ]
    },
    {
      "cell_type": "code",
      "execution_count": null,
      "id": "Gw0fuIlPNz4K",
      "metadata": {
        "id": "Gw0fuIlPNz4K"
      },
      "outputs": [],
      "source": [
        "# Aqui ingresa el código respuesta del ejercicio"
      ]
    }
  ],
  "metadata": {
    "colab": {
      "collapsed_sections": [
        "zcrb7SjEM3wF",
        "W1AHzUZQYUUa",
        "h33Mx1a8ZeMM",
        "d4g0LGc_F3us",
        "WxsT6KFHnmiZ",
        "J_0cSW6yo2za",
        "qnAfZ6rAozba",
        "IHkKdxdCAp_9",
        "WnvnAF-xB300",
        "DAj7gNQKBZkV",
        "_BM4LK74C6gJ",
        "11blZGy_DJmC",
        "tH556cn7Df6K",
        "myVBe66SFPm4",
        "Q8L4F5D3iiEa",
        "Cf350z6cjVoq",
        "A3Wj_Tv-jm86",
        "Ozx0DVtqj5IM",
        "L9EqbBJ6kkLE",
        "eZwEgsDyxRtM",
        "qh_jGn7SKlyn",
        "m3wJFcnsOnAj",
        "Fkfj1hpowDKO",
        "nAQVrQ4ow9Pa",
        "j4h22eP2q618",
        "el1Nqdlmsrv6",
        "v3VhPcBpyrVM",
        "C5tyQNRKGkeY",
        "pYmHnVW9H5ul",
        "kZyY1PytXwFa",
        "mIZ8VZ87M30E"
      ],
      "provenance": []
    },
    "kernelspec": {
      "display_name": "Python 3 (ipykernel)",
      "language": "python",
      "name": "python3"
    },
    "language_info": {
      "codemirror_mode": {
        "name": "ipython",
        "version": 3
      },
      "file_extension": ".py",
      "mimetype": "text/x-python",
      "name": "python",
      "nbconvert_exporter": "python",
      "pygments_lexer": "ipython3",
      "version": "3.11.6"
    },
    "toc": {
      "base_numbering": 0
    }
  },
  "nbformat": 4,
  "nbformat_minor": 5
}
