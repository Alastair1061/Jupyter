{
 "cells": [
  {
   "cell_type": "code",
   "execution_count": 2,
   "id": "940f6a36-7412-49fe-aed1-d3f4817f87ad",
   "metadata": {},
   "outputs": [
    {
     "name": "stdout",
     "output_type": "stream",
     "text": [
      "2.2.2\n",
      "2.1.1\n"
     ]
    }
   ],
   "source": [
    "import pandas as pd\n",
    "import numpy as np\n",
    "print(pd.__version__)\n",
    "print(np.__version__)"
   ]
  },
  {
   "cell_type": "code",
   "execution_count": 8,
   "id": "e14e6622-abc2-4ea4-8a42-1dc42fa56c05",
   "metadata": {},
   "outputs": [
    {
     "name": "stdout",
     "output_type": "stream",
     "text": [
      "Index(['ID', 'Tipo', 'Potencia', 'Golpes_criticos', 'Daño_critico',\n",
      "       'Auto_curacion', 'Curacion_al_dañar', 'Curacion_al_debilitar',\n",
      "       'Recuperacion', 'PS_al_recuperarse', 'Resistencia_a_efectos',\n",
      "       'Resistencia_a_estados', 'Velocidad'],\n",
      "      dtype='object')\n"
     ]
    }
   ],
   "source": [
    "df = pd.read_excel(\"Pokemon_quest_stones.xlsx\")\n",
    "print(df.columns)"
   ]
  },
  {
   "cell_type": "code",
   "execution_count": null,
   "id": "1980ca87-d130-4b8d-9ee5-57b2be60c9c4",
   "metadata": {},
   "outputs": [],
   "source": []
  }
 ],
 "metadata": {
  "kernelspec": {
   "display_name": "Python 3 (ipykernel)",
   "language": "python",
   "name": "python3"
  },
  "language_info": {
   "codemirror_mode": {
    "name": "ipython",
    "version": 3
   },
   "file_extension": ".py",
   "mimetype": "text/x-python",
   "name": "python",
   "nbconvert_exporter": "python",
   "pygments_lexer": "ipython3",
   "version": "3.12.6"
  }
 },
 "nbformat": 4,
 "nbformat_minor": 5
}
